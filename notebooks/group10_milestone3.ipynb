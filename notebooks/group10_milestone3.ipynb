{
 "cells": [
  {
   "cell_type": "markdown",
   "metadata": {},
   "source": [
    "# Group 10 - Milestone 3 Notebook\n",
    "Shristi Pandey, James May, Zachary Werkhoven, Guilherme Braz\n"
   ]
  },
  {
   "cell_type": "markdown",
   "metadata": {},
   "source": [
    "**Import libraries**"
   ]
  },
  {
   "cell_type": "code",
   "execution_count": 1,
   "metadata": {},
   "outputs": [],
   "source": [
    "%matplotlib inline\n",
    "import os\n",
    "import numpy as np\n",
    "import pandas as pd\n",
    "import matplotlib\n",
    "import matplotlib.pyplot as plt\n",
    "import seaborn as sns\n",
    "sns.set()\n",
    "from sklearn.preprocessing import MinMaxScaler\n",
    "from sklearn.decomposition import PCA\n",
    "from sklearn.model_selection import train_test_split\n",
    "from sklearn.model_selection import cross_val_score\n",
    "from sklearn.model_selection import KFold\n",
    "from sklearn.metrics import accuracy_score\n",
    "from sklearn.model_selection import cross_val_score\n",
    "from sklearn.model_selection import LeaveOneOut\n",
    "from sklearn.model_selection import KFold\n",
    "from sklearn.linear_model import LogisticRegressionCV\n",
    "from sklearn.tree import DecisionTreeClassifier\n",
    "\n",
    "import statsmodels.api as sm\n",
    "from statsmodels.regression.linear_model import OLS\n",
    "\n",
    "# import custom dependencies\n",
    "from ADNI_utilities import define_terms, describe_meta_data, paths_with_ext, append_meta_cols"
   ]
  },
  {
   "cell_type": "markdown",
   "metadata": {},
   "source": [
    "## Raw Data Aggregation and Cleaning"
   ]
  },
  {
   "cell_type": "markdown",
   "metadata": {},
   "source": [
    "The code and thought process behind the aggregation and cleaning of the ADNI raw data files is documented in great deal in the following notebooks on the [project respository](https://github.com/jamesm-vt/cs109a_adni): `biomarker_EDA.ipynb`, `diagnosis_EDA.ipynb`, `medical_history.ipynb`, `neuropsych_scores.ipynb`, `rawdata_grouping.ipynb`, and `sub_characteristics.ipynb`.\n",
    "\n",
    "The resulting per patient data set can be in `patient_firstidx_merge.csv`"
   ]
  },
  {
   "cell_type": "markdown",
   "metadata": {},
   "source": [
    "## Preliminary Modeling of the Imputed Data"
   ]
  },
  {
   "cell_type": "markdown",
   "metadata": {},
   "source": [
    "The goal of this section is to perform some simple modeling on the imputed data set and identify the most important features for prediction. The data includes features with well-known links to Alzheimer's disease. If our data cleaning, imputation, and pre-processing has been done correctly, we should be able to identify these features such as **Amyloid Beta** and **Tau** protein measurements as significant predictors."
   ]
  },
  {
   "cell_type": "markdown",
   "metadata": {},
   "source": [
    "**Import Imputed Data**"
   ]
  },
  {
   "cell_type": "code",
   "execution_count": 2,
   "metadata": {
    "scrolled": true
   },
   "outputs": [
    {
     "data": {
      "text/html": [
       "<div>\n",
       "<style scoped>\n",
       "    .dataframe tbody tr th:only-of-type {\n",
       "        vertical-align: middle;\n",
       "    }\n",
       "\n",
       "    .dataframe tbody tr th {\n",
       "        vertical-align: top;\n",
       "    }\n",
       "\n",
       "    .dataframe thead th {\n",
       "        text-align: right;\n",
       "    }\n",
       "</style>\n",
       "<table border=\"1\" class=\"dataframe\">\n",
       "  <thead>\n",
       "    <tr style=\"text-align: right;\">\n",
       "      <th></th>\n",
       "      <th>RID</th>\n",
       "      <th>AGE</th>\n",
       "      <th>PTEDUCAT</th>\n",
       "      <th>FDG</th>\n",
       "      <th>AV45</th>\n",
       "      <th>ABETA</th>\n",
       "      <th>TAU</th>\n",
       "      <th>PTAU</th>\n",
       "      <th>CDRSB</th>\n",
       "      <th>ADAS11</th>\n",
       "      <th>...</th>\n",
       "      <th>NXOTHER_2.0</th>\n",
       "      <th>DXMPTR5_1.0</th>\n",
       "      <th>NXFINGER_2.0</th>\n",
       "      <th>MOMAD_1.0</th>\n",
       "      <th>MOMAD_2.0</th>\n",
       "      <th>NXMOTOR_2.0</th>\n",
       "      <th>NXTENDON_2.0</th>\n",
       "      <th>NXVISUAL_2.0</th>\n",
       "      <th>NXHEEL_2.0</th>\n",
       "      <th>NXGAIT_2.0</th>\n",
       "    </tr>\n",
       "  </thead>\n",
       "  <tbody>\n",
       "    <tr>\n",
       "      <th>0</th>\n",
       "      <td>2</td>\n",
       "      <td>0.537838</td>\n",
       "      <td>0.7500</td>\n",
       "      <td>0.667996</td>\n",
       "      <td>0.120293</td>\n",
       "      <td>0.719561</td>\n",
       "      <td>0.176637</td>\n",
       "      <td>0.144414</td>\n",
       "      <td>0.00</td>\n",
       "      <td>0.250059</td>\n",
       "      <td>...</td>\n",
       "      <td>0</td>\n",
       "      <td>1</td>\n",
       "      <td>0</td>\n",
       "      <td>0</td>\n",
       "      <td>0</td>\n",
       "      <td>0</td>\n",
       "      <td>0</td>\n",
       "      <td>0</td>\n",
       "      <td>0</td>\n",
       "      <td>0</td>\n",
       "    </tr>\n",
       "    <tr>\n",
       "      <th>1</th>\n",
       "      <td>3</td>\n",
       "      <td>0.727027</td>\n",
       "      <td>0.8750</td>\n",
       "      <td>0.386992</td>\n",
       "      <td>0.298280</td>\n",
       "      <td>0.361000</td>\n",
       "      <td>0.130902</td>\n",
       "      <td>0.132411</td>\n",
       "      <td>0.45</td>\n",
       "      <td>0.515585</td>\n",
       "      <td>...</td>\n",
       "      <td>0</td>\n",
       "      <td>1</td>\n",
       "      <td>0</td>\n",
       "      <td>0</td>\n",
       "      <td>0</td>\n",
       "      <td>0</td>\n",
       "      <td>0</td>\n",
       "      <td>0</td>\n",
       "      <td>0</td>\n",
       "      <td>0</td>\n",
       "    </tr>\n",
       "    <tr>\n",
       "      <th>2</th>\n",
       "      <td>4</td>\n",
       "      <td>0.354054</td>\n",
       "      <td>0.3750</td>\n",
       "      <td>0.455381</td>\n",
       "      <td>0.039562</td>\n",
       "      <td>0.867333</td>\n",
       "      <td>0.059918</td>\n",
       "      <td>0.047232</td>\n",
       "      <td>0.10</td>\n",
       "      <td>0.335833</td>\n",
       "      <td>...</td>\n",
       "      <td>0</td>\n",
       "      <td>1</td>\n",
       "      <td>0</td>\n",
       "      <td>0</td>\n",
       "      <td>0</td>\n",
       "      <td>0</td>\n",
       "      <td>0</td>\n",
       "      <td>0</td>\n",
       "      <td>0</td>\n",
       "      <td>0</td>\n",
       "    </tr>\n",
       "    <tr>\n",
       "      <th>3</th>\n",
       "      <td>5</td>\n",
       "      <td>0.521622</td>\n",
       "      <td>0.7500</td>\n",
       "      <td>0.595319</td>\n",
       "      <td>0.748069</td>\n",
       "      <td>0.231533</td>\n",
       "      <td>0.210656</td>\n",
       "      <td>0.227054</td>\n",
       "      <td>0.00</td>\n",
       "      <td>0.203187</td>\n",
       "      <td>...</td>\n",
       "      <td>0</td>\n",
       "      <td>1</td>\n",
       "      <td>0</td>\n",
       "      <td>0</td>\n",
       "      <td>0</td>\n",
       "      <td>0</td>\n",
       "      <td>0</td>\n",
       "      <td>0</td>\n",
       "      <td>0</td>\n",
       "      <td>0</td>\n",
       "    </tr>\n",
       "    <tr>\n",
       "      <th>4</th>\n",
       "      <td>6</td>\n",
       "      <td>0.702703</td>\n",
       "      <td>0.5625</td>\n",
       "      <td>0.413852</td>\n",
       "      <td>0.287194</td>\n",
       "      <td>0.603774</td>\n",
       "      <td>0.174573</td>\n",
       "      <td>0.178761</td>\n",
       "      <td>0.05</td>\n",
       "      <td>0.437544</td>\n",
       "      <td>...</td>\n",
       "      <td>0</td>\n",
       "      <td>1</td>\n",
       "      <td>0</td>\n",
       "      <td>0</td>\n",
       "      <td>0</td>\n",
       "      <td>0</td>\n",
       "      <td>1</td>\n",
       "      <td>0</td>\n",
       "      <td>0</td>\n",
       "      <td>0</td>\n",
       "    </tr>\n",
       "  </tbody>\n",
       "</table>\n",
       "<p>5 rows × 207 columns</p>\n",
       "</div>"
      ],
      "text/plain": [
       "   RID       AGE  PTEDUCAT       FDG      AV45     ABETA       TAU      PTAU  \\\n",
       "0    2  0.537838    0.7500  0.667996  0.120293  0.719561  0.176637  0.144414   \n",
       "1    3  0.727027    0.8750  0.386992  0.298280  0.361000  0.130902  0.132411   \n",
       "2    4  0.354054    0.3750  0.455381  0.039562  0.867333  0.059918  0.047232   \n",
       "3    5  0.521622    0.7500  0.595319  0.748069  0.231533  0.210656  0.227054   \n",
       "4    6  0.702703    0.5625  0.413852  0.287194  0.603774  0.174573  0.178761   \n",
       "\n",
       "   CDRSB    ADAS11     ...      NXOTHER_2.0  DXMPTR5_1.0  NXFINGER_2.0  \\\n",
       "0   0.00  0.250059     ...                0            1             0   \n",
       "1   0.45  0.515585     ...                0            1             0   \n",
       "2   0.10  0.335833     ...                0            1             0   \n",
       "3   0.00  0.203187     ...                0            1             0   \n",
       "4   0.05  0.437544     ...                0            1             0   \n",
       "\n",
       "   MOMAD_1.0  MOMAD_2.0  NXMOTOR_2.0  NXTENDON_2.0  NXVISUAL_2.0  NXHEEL_2.0  \\\n",
       "0          0          0            0             0             0           0   \n",
       "1          0          0            0             0             0           0   \n",
       "2          0          0            0             0             0           0   \n",
       "3          0          0            0             0             0           0   \n",
       "4          0          0            0             1             0           0   \n",
       "\n",
       "   NXGAIT_2.0  \n",
       "0           0  \n",
       "1           0  \n",
       "2           0  \n",
       "3           0  \n",
       "4           0  \n",
       "\n",
       "[5 rows x 207 columns]"
      ]
     },
     "execution_count": 2,
     "metadata": {},
     "output_type": "execute_result"
    }
   ],
   "source": [
    "# read in imputed data from file\n",
    "imp_df = pd.read_csv(\"../data/Per_Patient/pat_merge_imputed_lasso_ada.csv\")\n",
    "imp_df.head()"
   ]
  },
  {
   "cell_type": "markdown",
   "metadata": {},
   "source": [
    "**Split the data**"
   ]
  },
  {
   "cell_type": "markdown",
   "metadata": {},
   "source": [
    "Since we have multiple potential response variables in our data, we should separate the predictors and the response variables into different data frames."
   ]
  },
  {
   "cell_type": "code",
   "execution_count": 3,
   "metadata": {},
   "outputs": [
    {
     "name": "stdout",
     "output_type": "stream",
     "text": [
      "Response columns:\n",
      "Index(['DX_BASE_2.0', 'DX_BASE_3.0', 'DXCOMB_2.0', 'DXCOMB_3.0',\n",
      "       'DX_FINAL_2.0', 'DX_FINAL_3.0', 'DX_CHANGE_2.0', 'DX_CHANGE_4.0',\n",
      "       'DX_CHANGE_5.0', 'DX_CHANGE_6.0', 'DX_CHANGE_7.0', 'DX_CHANGE_8.0',\n",
      "       'DX_CHANGE_9.0', 'DX_bl_CN', 'DX_bl_MCI'],\n",
      "      dtype='object')\n"
     ]
    }
   ],
   "source": [
    "# define response columns\n",
    "resp_set = [\"DX_BASE\",\"DX_FINAL\",\"DX_CHANGE\",\"DXCOMB\",\"DX_bl\"]\n",
    "col_set = imp_df.columns.tolist()\n",
    "is_resp = [any([resp in col for resp in resp_set]) for col in col_set]\n",
    "resp_cols = imp_df.columns[is_resp]\n",
    "\n",
    "# print response columns\n",
    "print(\"Response columns:\\n{}\".format(resp_cols))"
   ]
  },
  {
   "cell_type": "markdown",
   "metadata": {},
   "source": [
    "As we can see from the list above, the response variables have been one-hot-encoded. We can reverse engineer the original classifications to pass in as the response vector for our models."
   ]
  },
  {
   "cell_type": "code",
   "execution_count": 4,
   "metadata": {},
   "outputs": [],
   "source": [
    "# iterate of response prefixes\n",
    "resp_data = []\n",
    "for resp in resp_set:\n",
    "    \n",
    "    # get subset of columns corresponding to currest prefix\n",
    "    is_subset = [resp in col for col in col_set]\n",
    "    subset_cols = imp_df.columns[is_subset]\n",
    "    \n",
    "    # convert train data to column index of true value\n",
    "    tmp = np.argmax(imp_df[subset_cols].values,1)+1\n",
    "    tmp[~imp_df[subset_cols].values.any(1)] = 0\n",
    "    resp_data.append(tmp)"
   ]
  },
  {
   "cell_type": "code",
   "execution_count": 5,
   "metadata": {},
   "outputs": [],
   "source": [
    "# drop one-hot response vars and add new features\n",
    "imp_df = imp_df.drop(columns=resp_cols, axis=1)\n",
    "for col, data in zip(resp_set, resp_data):\n",
    "    imp_df[col] = pd.Series(np.array(data), index=imp_df.index)"
   ]
  },
  {
   "cell_type": "markdown",
   "metadata": {},
   "source": [
    "With the categorical features engineered, we can split the data into train and test sets."
   ]
  },
  {
   "cell_type": "code",
   "execution_count": 6,
   "metadata": {},
   "outputs": [],
   "source": [
    "# divide the data into train and test sets\n",
    "train_df, test_df = train_test_split(imp_df, test_size=0.2, shuffle=True)\n",
    "\n",
    "# define new dataframe with response vars\n",
    "y_train = train_df[resp_set]\n",
    "x_train = train_df.drop(columns=resp_set, axis=1)\n",
    "y_test = test_df[resp_set]\n",
    "x_test = test_df.drop(columns=resp_set, axis=1)"
   ]
  },
  {
   "cell_type": "markdown",
   "metadata": {},
   "source": [
    "## Logistic Regression\n",
    "\n",
    "To train a model, we'll need to select a response variable from the set of:\n",
    "- baseline diagnosis `DX_BASE`\n",
    "- ADNI merge baseline diagnosis `DX_bl`\n",
    "- final diagnosis `DX_FINAL`\n",
    "- change in diagnosis from baseline to final `DX_CHANGE`\n",
    "\n",
    "If we want to develop a model to predict ultimate diagnosis based on baseline measures, it makes sense to choose `DX_FINAL` as the response variable."
   ]
  },
  {
   "cell_type": "code",
   "execution_count": 15,
   "metadata": {},
   "outputs": [
    {
     "name": "stderr",
     "output_type": "stream",
     "text": [
      "C:\\Users\\winsl0w\\Anaconda3\\lib\\site-packages\\scipy\\optimize\\linesearch.py:462: LineSearchWarning: The line search algorithm did not converge\n",
      "  warn('The line search algorithm did not converge', LineSearchWarning)\n",
      "C:\\Users\\winsl0w\\Anaconda3\\lib\\site-packages\\scipy\\optimize\\linesearch.py:313: LineSearchWarning: The line search algorithm did not converge\n",
      "  warn('The line search algorithm did not converge', LineSearchWarning)\n",
      "C:\\Users\\winsl0w\\Anaconda3\\lib\\site-packages\\sklearn\\utils\\optimize.py:203: ConvergenceWarning: newton-cg failed to converge. Increase the number of iterations.\n",
      "  \"number of iterations.\", ConvergenceWarning)\n",
      "C:\\Users\\winsl0w\\Anaconda3\\lib\\site-packages\\sklearn\\utils\\optimize.py:203: ConvergenceWarning: newton-cg failed to converge. Increase the number of iterations.\n",
      "  \"number of iterations.\", ConvergenceWarning)\n",
      "C:\\Users\\winsl0w\\Anaconda3\\lib\\site-packages\\sklearn\\utils\\optimize.py:203: ConvergenceWarning: newton-cg failed to converge. Increase the number of iterations.\n",
      "  \"number of iterations.\", ConvergenceWarning)\n",
      "C:\\Users\\winsl0w\\Anaconda3\\lib\\site-packages\\sklearn\\utils\\optimize.py:203: ConvergenceWarning: newton-cg failed to converge. Increase the number of iterations.\n",
      "  \"number of iterations.\", ConvergenceWarning)\n"
     ]
    }
   ],
   "source": [
    "# define and fit logistic regression model\n",
    "resp_var = 'DX_FINAL'\n",
    "logit = LogisticRegressionCV(Cs=10,cv=3, solver='newton-cg', multi_class='multinomial', max_iter=100)\n",
    "logit = logit.fit(x_train.values, y_train[resp_var].values)"
   ]
  },
  {
   "cell_type": "code",
   "execution_count": 16,
   "metadata": {},
   "outputs": [
    {
     "data": {
      "image/png": "[encoded data removed]",
      "text/plain": [
       "<Figure size 432x288 with 1 Axes>"
      ]
     },
     "metadata": {},
     "output_type": "display_data"
    }
   ],
   "source": [
    "# plot cv accuracy as a function of alpha\n",
    "plt.plot(np.log(1/logit.Cs_), logit.scores_[0].mean(0), lw=2)\n",
    "plt.ylim(0,1)\n",
    "plt.xlabel(\"log(alpha)\")\n",
    "plt.ylabel(\"mean accuracy\")\n",
    "plt.title(\"Logistic Regression - alpha cross validation\");"
   ]
  },
  {
   "cell_type": "markdown",
   "metadata": {},
   "source": [
    "From the plot above we can see the optimal value for our regularization parameter is somewhere between 0-100."
   ]
  },
  {
   "cell_type": "code",
   "execution_count": null,
   "metadata": {
    "scrolled": true
   },
   "outputs": [],
   "source": [
    "# report test and train accuracy\n",
    "print(\"Train accuracy = {0:.3f}\".format(logit.score(x_train.values, y_train[resp_var].values)))\n",
    "print(\"Test accuracy = {0:.3f}\".format(logit.score(x_test.values, y_test[resp_var].values)))"
   ]
  },
  {
   "cell_type": "markdown",
   "metadata": {},
   "source": [
    "The performancy of the model is significantly worse on the test data, suggesting that the model is likely overfit. Many of the coefficients are likely to be very close to zero. To get some sense of the coefficients of our models, we can start by plotting the log histogram of our coefficient magnitudes to help separate the values."
   ]
  },
  {
   "cell_type": "code",
   "execution_count": null,
   "metadata": {
    "scrolled": true
   },
   "outputs": [],
   "source": [
    "# plot log histogram\n",
    "plt.hist(np.log(np.abs(logit.coef_.flatten())))\n",
    "plt.ylabel(\"count\")\n",
    "plt.xlabel(\"log(coefficient magnitude)\");"
   ]
  },
  {
   "cell_type": "code",
   "execution_count": 9,
   "metadata": {
    "scrolled": true
   },
   "outputs": [
    {
     "data": {
      "image/png": "[encoded data removed]",
      "text/plain": [
       "<Figure size 1152x432 with 3 Axes>"
      ]
     },
     "metadata": {},
     "output_type": "display_data"
    }
   ],
   "source": [
    "# plot top coefficients (by magnitude) for each model\n",
    "f, ax = plt.subplots(1,3, figsize=(16,6))\n",
    "coef_mag = np.abs(logit.coef_)\n",
    "class_names = [\"Normal\",\"Mild Cognitive Impairment\",\"Alzheimer's Disease\"]\n",
    "\n",
    "for i in range(len(ax)):\n",
    "    \n",
    "    # get indices of top parameters\n",
    "    coef_idx = np.argsort(coef_mag[i,:])[-20:]\n",
    "    coef_idx = coef_idx[np.argsort(logit.coef_[i,coef_idx])]\n",
    "    \n",
    "    # create horizontal bar plot\n",
    "    ax[i].barh(np.arange(len(coef_idx)), logit.coef_[i,coef_idx], align='center', color='b')\n",
    "    ax[i].set_yticks(np.arange(len(coef_idx)))\n",
    "    y_labels = [col[:10] for col in x_train.columns[coef_idx].tolist()]\n",
    "    ax[i].set_yticklabels(y_labels)\n",
    "    ax[i].set_xlabel('coefficient value')\n",
    "    ax[i].set_title(class_names[i], FontSize=14)\n",
    "    \n",
    "plt.tight_layout()"
   ]
  },
  {
   "cell_type": "markdown",
   "metadata": {},
   "source": [
    "From the coefficient values above, we can see that many of the model coefficients match our expectations. For example, Tau, pTau, and the clinical dementia rating are all significantly positively predictive of Alzheimer's disease. However, there are some confusing results as well that will warrant further investigation. For example, Amyloid Beta levels in the cerebrospinal fluid are negatively predictive of Alzheimer's, which does not match our expectation."
   ]
  },
  {
   "cell_type": "markdown",
   "metadata": {},
   "source": [
    "## Random Forest Classifier\n",
    "\n",
    "Given that the logistic regression model above was overfit, one simple thing to try is an ensemble classifier such as random forest that will offer the low model variance advantage of bagging. Let's try it out and see if the performance on the test set improves."
   ]
  },
  {
   "cell_type": "code",
   "execution_count": 12,
   "metadata": {},
   "outputs": [
    {
     "data": {
      "image/png": "[encoded data removed]",
      "text/plain": [
       "<Figure size 432x288 with 1 Axes>"
      ]
     },
     "metadata": {},
     "output_type": "display_data"
    }
   ],
   "source": [
    "# define and fit logistic regression model\n",
    "from sklearn.ensemble import RandomForestClassifier\n",
    "resp_var = 'DX_FINAL'\n",
    "depths = np.arange(1,50,1)\n",
    "train_acc = np.empty(depths.shape[0])\n",
    "test_acc = np.empty(depths.shape[0])\n",
    "\n",
    "for i, depth in enumerate(depths):\n",
    "    \n",
    "    # train temp model\n",
    "    rfc = RandomForestClassifier(n_estimators=50, criterion='entropy', max_depth=depth)\n",
    "    rfc = rfc.fit(x_train.values, y_train[resp_var].values)\n",
    "    train_acc[i] = rfc.score(x_train.values, y_train[resp_var].values)\n",
    "    test_acc[i] = rfc.score(x_test.values, y_test[resp_var].values)\n",
    "    \n",
    "plt.plot(depths, train_acc, color='k', label=\"train\")\n",
    "plt.plot(depths, test_acc, color='r', label=\"test\");\n",
    "plt.xlabel(\"tree depth\")\n",
    "plt.ylabel(\"accuracy\")\n",
    "plt.legend();"
   ]
  },
  {
   "cell_type": "code",
   "execution_count": 13,
   "metadata": {},
   "outputs": [],
   "source": [
    "# define tree model\n",
    "rand_forest = RandomForestClassifier(n_estimators=100, criterion='entropy', max_depth=6)\n",
    "rand_forest = rand_forest.fit(x_train.values, y_train[resp_var].values)"
   ]
  },
  {
   "cell_type": "code",
   "execution_count": 14,
   "metadata": {
    "scrolled": false
   },
   "outputs": [
    {
     "name": "stdout",
     "output_type": "stream",
     "text": [
      "Train accuracy = 0.874\n",
      "Test accuracy = 0.787\n"
     ]
    }
   ],
   "source": [
    "# report test and train accuracy\n",
    "print(\"Train accuracy = {0:.3f}\".format(rand_forest.score(x_train.values, y_train[resp_var].values)))\n",
    "print(\"Test accuracy = {0:.3f}\".format(rand_forest.score(x_test.values, y_test[resp_var].values)))"
   ]
  }
 ],
 "metadata": {
  "kernelspec": {
   "display_name": "Python 3",
   "language": "python",
   "name": "python3"
  },
  "language_info": {
   "codemirror_mode": {
    "name": "ipython",
    "version": 3
   },
   "file_extension": ".py",
   "mimetype": "text/x-python",
   "name": "python",
   "nbconvert_exporter": "python",
   "pygments_lexer": "ipython3",
   "version": "3.6.5"
  }
 },
 "nbformat": 4,
 "nbformat_minor": 2
}
