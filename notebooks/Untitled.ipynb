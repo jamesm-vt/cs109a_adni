{
 "cells": [
  {
   "cell_type": "code",
   "execution_count": 1,
   "metadata": {},
   "outputs": [],
   "source": [
    "#importing libraries\n",
    "%matplotlib inline\n",
    "import os\n",
    "import numpy as np\n",
    "import pandas as pd\n",
    "import matplotlib\n",
    "import matplotlib.pyplot as plt\n",
    "import seaborn as sns\n",
    "sns.set()\n",
    "\n",
    "# import custom dependencies\n",
    "import ADNI_utilities"
   ]
  },
  {
   "cell_type": "code",
   "execution_count": 18,
   "metadata": {},
   "outputs": [],
   "source": [
    "# import dataframes\n",
    "raw_df = pd.read_csv(\"../data/Per_Patient/patient_firstidx_merge.csv\", low_memory=False)\n",
    "merge_df = pd.read_csv(\"../data/ADNIMERGE.csv\", low_memory=False)"
   ]
  },
  {
   "cell_type": "code",
   "execution_count": 19,
   "metadata": {},
   "outputs": [],
   "source": [
    "drop_cols=[\"PTID\",\"VISCODE\",\"SITE\",\"COLPROT\",\"ORIGPROT\",\"EXAMDATE\",\"M\",\"Month\"]"
   ]
  },
  {
   "cell_type": "code",
   "execution_count": 20,
   "metadata": {},
   "outputs": [],
   "source": [
    "by_vis = merge_df.groupby(\"VISCODE\")\n",
    "bl_df = by_vis.get_group(\"bl\")"
   ]
  },
  {
   "cell_type": "code",
   "execution_count": 21,
   "metadata": {},
   "outputs": [],
   "source": [
    "bl_df = bl_df.set_index(\"RID\")\n",
    "bl_df = bl_df.drop(columns=drop_cols, axis=1)\n",
    "bl_df = bl_df.drop(columns=bl_df.columns[bl_df.dtypes==np.object],axis=1)"
   ]
  },
  {
   "cell_type": "code",
   "execution_count": 29,
   "metadata": {},
   "outputs": [],
   "source": [
    "raw_df.replace({-1: np.nan}, inplace=True)\n",
    "raw_df = raw_df.set_index(\"RID\")"
   ]
  },
  {
   "cell_type": "code",
   "execution_count": 47,
   "metadata": {},
   "outputs": [],
   "source": [
    "mdf = pd.concat((bl_df,raw_df), axis=1)"
   ]
  },
  {
   "cell_type": "code",
   "execution_count": 54,
   "metadata": {},
   "outputs": [],
   "source": [
    "r=mdf.corr().values"
   ]
  },
  {
   "cell_type": "code",
   "execution_count": 84,
   "metadata": {},
   "outputs": [],
   "source": [
    "rand_vals = np.random.rand(mdf.shape[0],mdf.shape[1])\n",
    "rand_vals[mdf.isna()] = np.nan\n",
    "rand_df = pd.DataFrame(rand_vals)\n",
    "r_null = rand_df.corr().values"
   ]
  },
  {
   "cell_type": "code",
   "execution_count": 94,
   "metadata": {},
   "outputs": [
    {
     "data": {
      "image/png": "[encoded data removed]",
      "text/plain": [
       "<Figure size 720x432 with 1 Axes>"
      ]
     },
     "metadata": {},
     "output_type": "display_data"
    }
   ],
   "source": [
    "plt.figure(figsize=(10,6))\n",
    "all_coef = np.empty([])\n",
    "null_coef = np.empty([])\n",
    "for i in range(r.shape[0]):\n",
    "    for j in range(i):\n",
    "        if i != j:\n",
    "            all_coef = np.append(all_coef,r[i,j])\n",
    "            null_coef = np.append(null_coef,r_null[i,j])\n",
    "            \n",
    "all_coef = all_coef[~np.isnan(all_coef)]\n",
    "null_coef = null_coef[~np.isnan(null_coef)]\n",
    "bins = np.linspace(-1,1,40)\n",
    "plt.hist(all_coef, bins, color='b', alpha=0.5, label=\"observed data\")\n",
    "plt.hist(null_coef, bins, color=(1,.5,0), alpha=0.5, label=\"random data\")\n",
    "plt.xlabel(\"Correlation Coefficient\", Fontsize=14)\n",
    "plt.ylabel(\"Count\", Fontsize=14)\n",
    "plt.title(\"All Per Patient Data - Correlation Histogram\", Fontsize=14)\n",
    "plt.xlim([-1,1])\n",
    "plt.legend();\n",
    "plt.savefig(\"../figures/corrcoef_hist.svg\")"
   ]
  },
  {
   "cell_type": "code",
   "execution_count": 69,
   "metadata": {},
   "outputs": [
    {
     "name": "stdout",
     "output_type": "stream",
     "text": [
      "0\n"
     ]
    },
    {
     "data": {
      "text/plain": [
       "[None]"
      ]
     },
     "execution_count": 69,
     "metadata": {},
     "output_type": "execute_result"
    }
   ],
   "source": [
    "[print(i) for i in range(1)]"
   ]
  },
  {
   "cell_type": "code",
   "execution_count": null,
   "metadata": {},
   "outputs": [],
   "source": []
  }
 ],
 "metadata": {
  "kernelspec": {
   "display_name": "Python 3",
   "language": "python",
   "name": "python3"
  },
  "language_info": {
   "codemirror_mode": {
    "name": "ipython",
    "version": 3
   },
   "file_extension": ".py",
   "mimetype": "text/x-python",
   "name": "python",
   "nbconvert_exporter": "python",
   "pygments_lexer": "ipython3",
   "version": "3.6.5"
  }
 },
 "nbformat": 4,
 "nbformat_minor": 2
}
