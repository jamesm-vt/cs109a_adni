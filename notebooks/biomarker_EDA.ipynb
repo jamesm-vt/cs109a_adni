{
 "cells": [
  {
   "cell_type": "markdown",
   "metadata": {},
   "source": [
    "# Biomarker Raw Data\n",
    "\n",
    "The purpose of this notebook is to explore, filter, and clean the raw biomarker data available on the ADNI database. ADNI contains a diverse set of biomarker data. From this broader data, we focused on three biomarker data sets:\n",
    "\n",
    "- Apolipoprotein E (ApoE) patient genotypes\n",
    "- Protein measurements from patient cerebrospinal fluid (CSF)\n",
    "- Chemical screenings of patient blood and urine"
   ]
  },
  {
   "cell_type": "markdown",
   "metadata": {},
   "source": [
    "**Import Dependencies**\n",
    "\n",
    "Before getting started, lets import our python dependencies and the data files of interest."
   ]
  },
  {
   "cell_type": "code",
   "execution_count": 1,
   "metadata": {},
   "outputs": [],
   "source": [
    "%matplotlib inline\n",
    "import numpy as np\n",
    "import pandas as pd\n",
    "import matplotlib\n",
    "import matplotlib.pyplot as plt\n",
    "import seaborn as sns\n",
    "sns.set()\n",
    "\n",
    "# import custom dependencies\n",
    "import sys\n",
    "sys.path.append('../ADNI_')\n",
    "from ADNI_utilities import define_terms, describe_meta_data, append_meta_cols"
   ]
  },
  {
   "cell_type": "markdown",
   "metadata": {},
   "source": [
    "Initialize data structures"
   ]
  },
  {
   "cell_type": "code",
   "execution_count": 2,
   "metadata": {},
   "outputs": [],
   "source": [
    "# import adni dictionary for defining terms\n",
    "apo_dict = pd.read_csv(\"../data/Biomarker Data/APOERES_DICT.csv\")\n",
    "\n",
    "# import data set specific dictionaries\n",
    "csf_dict = pd.read_csv(\"../data/Biomarker Data/UPENNBIOMK_MASTER_DICT.csv\")\n",
    "lab_dict = pd.read_csv(\"../data/Biomarker Data/LABDATA_DICT.csv\")\n",
    "adni_dict_df = pd.read_csv(\"../data/study info/DATADIC.csv\")"
   ]
  },
  {
   "cell_type": "code",
   "execution_count": 3,
   "metadata": {
    "scrolled": false
   },
   "outputs": [],
   "source": [
    "# define dataframes from the biomarker dataset\n",
    "apo_df = pd.read_csv(\"../data/Biomarker Data/APOERES.csv\")\n",
    "csf_df = pd.read_csv(\"../data/Biomarker Data/UPENNBIOMK_MASTER.csv\")\n",
    "lab_df =  pd.read_csv(\"../data/Biomarker Data/LABDATA.csv\")"
   ]
  },
  {
   "cell_type": "markdown",
   "metadata": {},
   "source": [
    "## ApoE Genotypes"
   ]
  },
  {
   "cell_type": "markdown",
   "metadata": {},
   "source": [
    "The APOERES table contains information about patient alleles for the ApoE gene which has been linked to alzheimers. More specifically, ApoE is thought to promote proteolytic degredation of amyloid-beta. Build up of amyloid-beta is thought to be part of the pathogenesis of Alzheimer's Disease. The prevalance of Alzheimer's disease is much higher in patients with a copy of E4 allele of ApoE and is higher still in patients with two copies of E4.\n",
    "\n",
    "Let's start by characterizing some general features of the data."
   ]
  },
  {
   "cell_type": "code",
   "execution_count": 4,
   "metadata": {},
   "outputs": [
    {
     "name": "stdout",
     "output_type": "stream",
     "text": [
      "Phases:\t ['ADNI1' 'ADNIGO2']\n",
      "Num Entries: 2067\n",
      "Num Columns: 16\n",
      "Num Patients: 2067\n",
      "Records per Patient: 1-1\n",
      "Phases spanned per patient: 1-1\n",
      "Patients w/ Duplicates: 0\n"
     ]
    }
   ],
   "source": [
    "# describe data structure\n",
    "describe_meta_data(apo_df)"
   ]
  },
  {
   "cell_type": "markdown",
   "metadata": {},
   "source": [
    "It looks like there is a single entry for each patient with over ADNI1, ADNIGO, and ADNI2, which should cover most of the patients in the study. With a total patient count of 2,067, nearly every patient in the study shoudl have measurement. We can take a look at the features to see what we might be interested in."
   ]
  },
  {
   "cell_type": "code",
   "execution_count": 7,
   "metadata": {},
   "outputs": [
    {
     "data": {
      "text/html": [
       "<div>\n",
       "<style scoped>\n",
       "    .dataframe tbody tr th:only-of-type {\n",
       "        vertical-align: middle;\n",
       "    }\n",
       "\n",
       "    .dataframe tbody tr th {\n",
       "        vertical-align: top;\n",
       "    }\n",
       "\n",
       "    .dataframe thead th {\n",
       "        text-align: right;\n",
       "    }\n",
       "</style>\n",
       "<table border=\"1\" class=\"dataframe\">\n",
       "  <thead>\n",
       "    <tr style=\"text-align: right;\">\n",
       "      <th></th>\n",
       "      <th>FLDNAME</th>\n",
       "      <th>TYPE</th>\n",
       "      <th>TBLNAME</th>\n",
       "      <th>TEXT</th>\n",
       "      <th>CODE</th>\n",
       "    </tr>\n",
       "  </thead>\n",
       "  <tbody>\n",
       "    <tr>\n",
       "      <th>0</th>\n",
       "      <td>NaN</td>\n",
       "      <td>NaN</td>\n",
       "      <td>NaN</td>\n",
       "      <td>NaN</td>\n",
       "      <td>NaN</td>\n",
       "    </tr>\n",
       "    <tr>\n",
       "      <th>1</th>\n",
       "      <td>ID</td>\n",
       "      <td>N</td>\n",
       "      <td>APOERES</td>\n",
       "      <td>Record ID</td>\n",
       "      <td>\"crfname\",\"ApoE Genotyping - Results\",\"indexes...</td>\n",
       "    </tr>\n",
       "    <tr>\n",
       "      <th>2</th>\n",
       "      <td>RID</td>\n",
       "      <td>N</td>\n",
       "      <td>APOERES</td>\n",
       "      <td>Participant roster ID</td>\n",
       "      <td>NaN</td>\n",
       "    </tr>\n",
       "    <tr>\n",
       "      <th>3</th>\n",
       "      <td>SITEID</td>\n",
       "      <td>N</td>\n",
       "      <td>APOERES</td>\n",
       "      <td>Site ID</td>\n",
       "      <td>NaN</td>\n",
       "    </tr>\n",
       "    <tr>\n",
       "      <th>4</th>\n",
       "      <td>VISCODE</td>\n",
       "      <td>T</td>\n",
       "      <td>APOERES</td>\n",
       "      <td>Visit code</td>\n",
       "      <td>NaN</td>\n",
       "    </tr>\n",
       "    <tr>\n",
       "      <th>5</th>\n",
       "      <td>USERDATE</td>\n",
       "      <td>S</td>\n",
       "      <td>APOERES</td>\n",
       "      <td>Date record created</td>\n",
       "      <td>NaN</td>\n",
       "    </tr>\n",
       "    <tr>\n",
       "      <th>6</th>\n",
       "      <td>USERDATE2</td>\n",
       "      <td>S</td>\n",
       "      <td>APOERES</td>\n",
       "      <td>Date record last updated</td>\n",
       "      <td>NaN</td>\n",
       "    </tr>\n",
       "    <tr>\n",
       "      <th>7</th>\n",
       "      <td>APTESTDT</td>\n",
       "      <td>D</td>\n",
       "      <td>APOERES</td>\n",
       "      <td>Date Test Performed</td>\n",
       "      <td>NaN</td>\n",
       "    </tr>\n",
       "    <tr>\n",
       "      <th>8</th>\n",
       "      <td>APGEN1</td>\n",
       "      <td>N</td>\n",
       "      <td>APOERES</td>\n",
       "      <td>Genotype - Allele 1</td>\n",
       "      <td>2..4</td>\n",
       "    </tr>\n",
       "    <tr>\n",
       "      <th>9</th>\n",
       "      <td>APGEN2</td>\n",
       "      <td>N</td>\n",
       "      <td>APOERES</td>\n",
       "      <td>Genotype - Allele 2</td>\n",
       "      <td>2..4</td>\n",
       "    </tr>\n",
       "    <tr>\n",
       "      <th>10</th>\n",
       "      <td>APVOLUME</td>\n",
       "      <td>N</td>\n",
       "      <td>APOERES</td>\n",
       "      <td>Volume of Blood Shipped in Lavendar Top Tube</td>\n",
       "      <td>1..10</td>\n",
       "    </tr>\n",
       "    <tr>\n",
       "      <th>11</th>\n",
       "      <td>APRECEIVE</td>\n",
       "      <td>N</td>\n",
       "      <td>APOERES</td>\n",
       "      <td>Sample recieved within 24 hours of blood draw?</td>\n",
       "      <td>1=Yes;0=No</td>\n",
       "    </tr>\n",
       "    <tr>\n",
       "      <th>12</th>\n",
       "      <td>APAMBTEMP</td>\n",
       "      <td>N</td>\n",
       "      <td>APOERES</td>\n",
       "      <td>Sample shipped at ambient temperature?</td>\n",
       "      <td>1=Yes;0=No</td>\n",
       "    </tr>\n",
       "    <tr>\n",
       "      <th>13</th>\n",
       "      <td>APRESAMP</td>\n",
       "      <td>N</td>\n",
       "      <td>APOERES</td>\n",
       "      <td>Request Resample?</td>\n",
       "      <td>1=Yes;0=No</td>\n",
       "    </tr>\n",
       "    <tr>\n",
       "      <th>14</th>\n",
       "      <td>APUSABLE</td>\n",
       "      <td>N</td>\n",
       "      <td>APOERES</td>\n",
       "      <td>Sample Useable?</td>\n",
       "      <td>1=Yes;0=No</td>\n",
       "    </tr>\n",
       "    <tr>\n",
       "      <th>15</th>\n",
       "      <td>NaN</td>\n",
       "      <td>NaN</td>\n",
       "      <td>NaN</td>\n",
       "      <td>NaN</td>\n",
       "      <td>NaN</td>\n",
       "    </tr>\n",
       "  </tbody>\n",
       "</table>\n",
       "</div>"
      ],
      "text/plain": [
       "      FLDNAME TYPE  TBLNAME                                            TEXT  \\\n",
       "0         NaN  NaN      NaN                                             NaN   \n",
       "1          ID    N  APOERES                                       Record ID   \n",
       "2         RID    N  APOERES                           Participant roster ID   \n",
       "3      SITEID    N  APOERES                                         Site ID   \n",
       "4     VISCODE    T  APOERES                                      Visit code   \n",
       "5    USERDATE    S  APOERES                             Date record created   \n",
       "6   USERDATE2    S  APOERES                        Date record last updated   \n",
       "7    APTESTDT    D  APOERES                             Date Test Performed   \n",
       "8      APGEN1    N  APOERES                             Genotype - Allele 1   \n",
       "9      APGEN2    N  APOERES                             Genotype - Allele 2   \n",
       "10   APVOLUME    N  APOERES    Volume of Blood Shipped in Lavendar Top Tube   \n",
       "11  APRECEIVE    N  APOERES  Sample recieved within 24 hours of blood draw?   \n",
       "12  APAMBTEMP    N  APOERES          Sample shipped at ambient temperature?   \n",
       "13   APRESAMP    N  APOERES                               Request Resample?   \n",
       "14   APUSABLE    N  APOERES                                 Sample Useable?   \n",
       "15        NaN  NaN      NaN                                             NaN   \n",
       "\n",
       "                                                 CODE  \n",
       "0                                                 NaN  \n",
       "1   \"crfname\",\"ApoE Genotyping - Results\",\"indexes...  \n",
       "2                                                 NaN  \n",
       "3                                                 NaN  \n",
       "4                                                 NaN  \n",
       "5                                                 NaN  \n",
       "6                                                 NaN  \n",
       "7                                                 NaN  \n",
       "8                                                2..4  \n",
       "9                                                2..4  \n",
       "10                                              1..10  \n",
       "11                                         1=Yes;0=No  \n",
       "12                                         1=Yes;0=No  \n",
       "13                                         1=Yes;0=No  \n",
       "14                                         1=Yes;0=No  \n",
       "15                                                NaN  "
      ]
     },
     "execution_count": 7,
     "metadata": {},
     "output_type": "execute_result"
    }
   ],
   "source": [
    "# define and print terms from apo table\n",
    "term_defs = define_terms(apo_df, adni_dict_df, \"APOERES\")\n",
    "term_defs"
   ]
  },
  {
   "cell_type": "markdown",
   "metadata": {},
   "source": [
    "The two columns of interest here are categorical variables describing the two alleles of ApoE for each patient. The rest of data here is meta data about the patient visit or the sample."
   ]
  },
  {
   "cell_type": "code",
   "execution_count": 5,
   "metadata": {},
   "outputs": [],
   "source": [
    "# record the columns of interest\n",
    "apo_cols = [\"APGEN1\",\"APGEN2\"]"
   ]
  },
  {
   "cell_type": "markdown",
   "metadata": {},
   "source": [
    "The alleles should be categorical variables (i.e. `int64`). We can see from the term codes that these should take integer values from 2-4, corresponding to the ApoE alleles E2, E3, and E4. "
   ]
  },
  {
   "cell_type": "code",
   "execution_count": 9,
   "metadata": {},
   "outputs": [
    {
     "data": {
      "text/html": [
       "<div>\n",
       "<style scoped>\n",
       "    .dataframe tbody tr th:only-of-type {\n",
       "        vertical-align: middle;\n",
       "    }\n",
       "\n",
       "    .dataframe tbody tr th {\n",
       "        vertical-align: top;\n",
       "    }\n",
       "\n",
       "    .dataframe thead th {\n",
       "        text-align: right;\n",
       "    }\n",
       "</style>\n",
       "<table border=\"1\" class=\"dataframe\">\n",
       "  <thead>\n",
       "    <tr style=\"text-align: right;\">\n",
       "      <th></th>\n",
       "      <th>APGEN1</th>\n",
       "      <th>APGEN2</th>\n",
       "    </tr>\n",
       "  </thead>\n",
       "  <tbody>\n",
       "    <tr>\n",
       "      <th>0</th>\n",
       "      <td>3</td>\n",
       "      <td>3</td>\n",
       "    </tr>\n",
       "    <tr>\n",
       "      <th>1</th>\n",
       "      <td>2</td>\n",
       "      <td>4</td>\n",
       "    </tr>\n",
       "    <tr>\n",
       "      <th>2</th>\n",
       "      <td>4</td>\n",
       "      <td>2</td>\n",
       "    </tr>\n",
       "  </tbody>\n",
       "</table>\n",
       "</div>"
      ],
      "text/plain": [
       "   APGEN1  APGEN2\n",
       "0       3       3\n",
       "1       2       4\n",
       "2       4       2"
      ]
     },
     "execution_count": 9,
     "metadata": {},
     "output_type": "execute_result"
    }
   ],
   "source": [
    "apo_df[apo_cols].apply(lambda x: x.unique())"
   ]
  },
  {
   "cell_type": "code",
   "execution_count": 9,
   "metadata": {},
   "outputs": [
    {
     "data": {
      "text/plain": [
       "APGEN1    int64\n",
       "APGEN2    int64\n",
       "dtype: object"
      ]
     },
     "execution_count": 9,
     "metadata": {},
     "output_type": "execute_result"
    }
   ],
   "source": [
    "# check to ensure data types are int for categorical data\n",
    "apo_df[apo_cols].dtypes"
   ]
  },
  {
   "cell_type": "markdown",
   "metadata": {},
   "source": [
    "We can see from the above list of unique values that we have genotype information for both alleles for every patient in the data set."
   ]
  },
  {
   "cell_type": "markdown",
   "metadata": {},
   "source": [
    "## Cerebrospinal Fluid Measurements"
   ]
  },
  {
   "cell_type": "markdown",
   "metadata": {},
   "source": [
    "UPENN Biomarker master table contains Amyloid-beta, Tau, and pTau protein measurements taken from patient CSF. Higher levels of these proteins in the CSF have all previously been linked to higher incidence of Alzheimer's disease. We can repeat the same process above for this table."
   ]
  },
  {
   "cell_type": "code",
   "execution_count": 10,
   "metadata": {},
   "outputs": [
    {
     "name": "stdout",
     "output_type": "stream",
     "text": [
      "No phases listed\n",
      "Num Entries: 5876\n",
      "Num Columns: 14\n",
      "Num Patients: 1249\n",
      "Records per Patient: 2-26\n",
      "Phases spanned per patient: 0-0\n",
      "Patients w/ Duplicates: 1249\n"
     ]
    }
   ],
   "source": [
    "# describe the meta data\n",
    "describe_meta_data(csf_df)"
   ]
  },
  {
   "cell_type": "markdown",
   "metadata": {},
   "source": [
    "The summary description above shows that we likely have anywhere from 2-26 records per patient, suggesting that these protein levels were periodically measured throughout the study."
   ]
  },
  {
   "cell_type": "code",
   "execution_count": 11,
   "metadata": {},
   "outputs": [
    {
     "data": {
      "text/html": [
       "<div>\n",
       "<style scoped>\n",
       "    .dataframe tbody tr th:only-of-type {\n",
       "        vertical-align: middle;\n",
       "    }\n",
       "\n",
       "    .dataframe tbody tr th {\n",
       "        vertical-align: top;\n",
       "    }\n",
       "\n",
       "    .dataframe thead th {\n",
       "        text-align: right;\n",
       "    }\n",
       "</style>\n",
       "<table border=\"1\" class=\"dataframe\">\n",
       "  <thead>\n",
       "    <tr style=\"text-align: right;\">\n",
       "      <th></th>\n",
       "      <th>FLDNAME</th>\n",
       "      <th>TYPE</th>\n",
       "      <th>TBLNAME</th>\n",
       "      <th>TEXT</th>\n",
       "      <th>CODE</th>\n",
       "    </tr>\n",
       "  </thead>\n",
       "  <tbody>\n",
       "    <tr>\n",
       "      <th>0</th>\n",
       "      <td>RID</td>\n",
       "      <td>-4.0</td>\n",
       "      <td>UPENNBIOMK_MASTER</td>\n",
       "      <td>Participant roster ID</td>\n",
       "      <td>NaN</td>\n",
       "    </tr>\n",
       "    <tr>\n",
       "      <th>1</th>\n",
       "      <td>VISCODE</td>\n",
       "      <td>-4.0</td>\n",
       "      <td>UPENNBIOMK_MASTER</td>\n",
       "      <td>Visit code</td>\n",
       "      <td>NaN</td>\n",
       "    </tr>\n",
       "    <tr>\n",
       "      <th>2</th>\n",
       "      <td>BATCH</td>\n",
       "      <td>-4.0</td>\n",
       "      <td>UPENNBIOMK_MASTER</td>\n",
       "      <td>Name of LONI table, corresponding to analytica...</td>\n",
       "      <td>NaN</td>\n",
       "    </tr>\n",
       "    <tr>\n",
       "      <th>3</th>\n",
       "      <td>KIT</td>\n",
       "      <td>-4.0</td>\n",
       "      <td>UPENNBIOMK_MASTER</td>\n",
       "      <td>Reagents lot number</td>\n",
       "      <td>NaN</td>\n",
       "    </tr>\n",
       "    <tr>\n",
       "      <th>4</th>\n",
       "      <td>STDS</td>\n",
       "      <td>-4.0</td>\n",
       "      <td>UPENNBIOMK_MASTER</td>\n",
       "      <td>Calibrators and Quality Controls lot number</td>\n",
       "      <td>NaN</td>\n",
       "    </tr>\n",
       "    <tr>\n",
       "      <th>5</th>\n",
       "      <td>NaN</td>\n",
       "      <td>NaN</td>\n",
       "      <td>NaN</td>\n",
       "      <td>NaN</td>\n",
       "      <td>NaN</td>\n",
       "    </tr>\n",
       "    <tr>\n",
       "      <th>6</th>\n",
       "      <td>RUNDATE</td>\n",
       "      <td>-4.0</td>\n",
       "      <td>UPENNBIOMK_MASTER</td>\n",
       "      <td>Date of analytical run</td>\n",
       "      <td>NaN</td>\n",
       "    </tr>\n",
       "    <tr>\n",
       "      <th>7</th>\n",
       "      <td>ABETA</td>\n",
       "      <td>-4.0</td>\n",
       "      <td>UPENNBIOMK_MASTER</td>\n",
       "      <td>Result rescaled to UPENNBIOMK</td>\n",
       "      <td>NaN</td>\n",
       "    </tr>\n",
       "    <tr>\n",
       "      <th>8</th>\n",
       "      <td>TAU</td>\n",
       "      <td>-4.0</td>\n",
       "      <td>UPENNBIOMK_MASTER</td>\n",
       "      <td>Result rescaled to UPENNBIOMK</td>\n",
       "      <td>NaN</td>\n",
       "    </tr>\n",
       "    <tr>\n",
       "      <th>9</th>\n",
       "      <td>PTAU</td>\n",
       "      <td>-4.0</td>\n",
       "      <td>UPENNBIOMK_MASTER</td>\n",
       "      <td>Result rescaled to UPENNBIOMK</td>\n",
       "      <td>NaN</td>\n",
       "    </tr>\n",
       "    <tr>\n",
       "      <th>10</th>\n",
       "      <td>ABETA_RAW</td>\n",
       "      <td>-4.0</td>\n",
       "      <td>UPENNBIOMK_MASTER</td>\n",
       "      <td>Original (raw) result, before rescaling</td>\n",
       "      <td>NaN</td>\n",
       "    </tr>\n",
       "    <tr>\n",
       "      <th>11</th>\n",
       "      <td>TAU_RAW</td>\n",
       "      <td>-4.0</td>\n",
       "      <td>UPENNBIOMK_MASTER</td>\n",
       "      <td>Original (raw) result, before rescaling</td>\n",
       "      <td>NaN</td>\n",
       "    </tr>\n",
       "    <tr>\n",
       "      <th>12</th>\n",
       "      <td>PTAU_RAW</td>\n",
       "      <td>-4.0</td>\n",
       "      <td>UPENNBIOMK_MASTER</td>\n",
       "      <td>Original (raw) result, before rescaling</td>\n",
       "      <td>NaN</td>\n",
       "    </tr>\n",
       "    <tr>\n",
       "      <th>13</th>\n",
       "      <td>NaN</td>\n",
       "      <td>NaN</td>\n",
       "      <td>NaN</td>\n",
       "      <td>NaN</td>\n",
       "      <td>NaN</td>\n",
       "    </tr>\n",
       "  </tbody>\n",
       "</table>\n",
       "</div>"
      ],
      "text/plain": [
       "      FLDNAME  TYPE            TBLNAME  \\\n",
       "0         RID  -4.0  UPENNBIOMK_MASTER   \n",
       "1     VISCODE  -4.0  UPENNBIOMK_MASTER   \n",
       "2       BATCH  -4.0  UPENNBIOMK_MASTER   \n",
       "3         KIT  -4.0  UPENNBIOMK_MASTER   \n",
       "4        STDS  -4.0  UPENNBIOMK_MASTER   \n",
       "5         NaN   NaN                NaN   \n",
       "6     RUNDATE  -4.0  UPENNBIOMK_MASTER   \n",
       "7       ABETA  -4.0  UPENNBIOMK_MASTER   \n",
       "8         TAU  -4.0  UPENNBIOMK_MASTER   \n",
       "9        PTAU  -4.0  UPENNBIOMK_MASTER   \n",
       "10  ABETA_RAW  -4.0  UPENNBIOMK_MASTER   \n",
       "11    TAU_RAW  -4.0  UPENNBIOMK_MASTER   \n",
       "12   PTAU_RAW  -4.0  UPENNBIOMK_MASTER   \n",
       "13        NaN   NaN                NaN   \n",
       "\n",
       "                                                 TEXT  CODE  \n",
       "0                               Participant roster ID   NaN  \n",
       "1                                          Visit code   NaN  \n",
       "2   Name of LONI table, corresponding to analytica...   NaN  \n",
       "3                                 Reagents lot number   NaN  \n",
       "4         Calibrators and Quality Controls lot number   NaN  \n",
       "5                                                 NaN   NaN  \n",
       "6                              Date of analytical run   NaN  \n",
       "7                       Result rescaled to UPENNBIOMK   NaN  \n",
       "8                       Result rescaled to UPENNBIOMK   NaN  \n",
       "9                       Result rescaled to UPENNBIOMK   NaN  \n",
       "10            Original (raw) result, before rescaling   NaN  \n",
       "11            Original (raw) result, before rescaling   NaN  \n",
       "12            Original (raw) result, before rescaling   NaN  \n",
       "13                                                NaN   NaN  "
      ]
     },
     "execution_count": 11,
     "metadata": {},
     "output_type": "execute_result"
    }
   ],
   "source": [
    "# define and print terms from CSF biomarker master table\n",
    "term_defs = define_terms(csf_df, csf_dict, \"UPENNBIOMK_MASTER\")\n",
    "term_defs"
   ]
  },
  {
   "cell_type": "markdown",
   "metadata": {},
   "source": [
    "There is no phase information in this table. Looks like we won't be able to group the data by phase. Taking a quick glance at the features, the most interesting ones look like the re-scaled measurement of `ABETA`, `TAU`, and `PTAU`. The protocols for these measurements changed between ADNI phases, meaning that the re-scaled measurement is what we will want to keep if we want to make comparisons across phases."
   ]
  },
  {
   "cell_type": "code",
   "execution_count": 16,
   "metadata": {},
   "outputs": [],
   "source": [
    "# record columns for later use\n",
    "csf_cols = [\"ABETA\",\"TAU\",\"PTAU\"]"
   ]
  },
  {
   "cell_type": "markdown",
   "metadata": {},
   "source": [
    "ADNI uses 3 different missing value indicators: `-1`, `-4`, and `NaN`. We will want to ensure that all missing values values are marked with a single indicator: `-1`. If we want to store our categorical variables as `int` data type, we cannot use `NaN` as our indicator since it can only be specified for `float` data types."
   ]
  },
  {
   "cell_type": "code",
   "execution_count": 18,
   "metadata": {},
   "outputs": [],
   "source": [
    "# ensure standardized missing value is compatible with int\n",
    "csf_df.replace({np.nan:-1, -4:-1}, inplace=True)"
   ]
  },
  {
   "cell_type": "code",
   "execution_count": 19,
   "metadata": {},
   "outputs": [
    {
     "data": {
      "text/plain": [
       "ABETA    float64\n",
       "TAU      float64\n",
       "PTAU     float64\n",
       "dtype: object"
      ]
     },
     "execution_count": 19,
     "metadata": {},
     "output_type": "execute_result"
    }
   ],
   "source": [
    "# check to ensure data type is float for continous variable\n",
    "csf_df[csf_cols].dtypes"
   ]
  },
  {
   "cell_type": "markdown",
   "metadata": {},
   "source": [
    "## Laboratory Chemical Screenings"
   ]
  },
  {
   "cell_type": "markdown",
   "metadata": {},
   "source": [
    "The lab master data set contains lab results from a variety of chemical tests performed on patient blood and urine. This is a very large and diverse data set that is likely to be loaded with predictors that we have no prior expectation should be strongly linked to Alzheimer's Disease."
   ]
  },
  {
   "cell_type": "code",
   "execution_count": 14,
   "metadata": {},
   "outputs": [
    {
     "name": "stdout",
     "output_type": "stream",
     "text": [
      "Phases:\t ['ADNI1' 'ADNIGO' 'ADNI2']\n",
      "Num Entries: 2463\n",
      "Num Columns: 131\n",
      "Num Patients: 2285\n",
      "Records per Patient: 1-3\n",
      "Phases spanned per patient: 1-1\n",
      "Patients w/ Duplicates: 171\n"
     ]
    }
   ],
   "source": [
    "# define and print terms from lab data master table\n",
    "describe_meta_data(lab_df)"
   ]
  },
  {
   "cell_type": "markdown",
   "metadata": {},
   "source": [
    "As another example of disorganisation and non-standardization of ADNI data, the ADNI dictionary does not contain proper definitions of the lab tests. A separate dictionary of lab codes is provided, but the dictionary is not formatted like other ADNI dictionaries. So we can define another lookup function for the lab codes."
   ]
  },
  {
   "cell_type": "code",
   "execution_count": 15,
   "metadata": {},
   "outputs": [],
   "source": [
    "# create a function to extract lab codes from the lab dict (has a different structure from other dictionaries)\n",
    "def define_labcodes(df, dict_df):\n",
    "    \n",
    "    keys=[\"Test Code\",\"Test Description\"]\n",
    "    term_dicts = []\n",
    "    for col in df.columns:\n",
    "\n",
    "        term_dict = dict.fromkeys(keys)\n",
    "        loc = (dict_df[\"Test Code\"] == col)\n",
    "        \n",
    "        if any(loc):\n",
    "            tmp = dict_df.loc[loc][keys]\n",
    "\n",
    "            for key in keys:\n",
    "                if tmp[key].unique().shape[0]:\n",
    "                    term_dict[key] = tmp[key].unique()[0]\n",
    "                else:\n",
    "                    term_dict[key] = float('nan')\n",
    "\n",
    "            term_dicts.append(term_dict)\n",
    "            #print(\"Name: {FLDNAME},\\nType: {TYPE},\\nTable: {TBLNAME},\\nDesc: {TEXT},\\nCode:{CODE}\\n\".format(**term_dict))\n",
    "    \n",
    "    data_dict = pd.DataFrame.from_dict(term_dicts).reindex(columns=keys)\n",
    "    return(data_dict)"
   ]
  },
  {
   "cell_type": "code",
   "execution_count": 16,
   "metadata": {},
   "outputs": [
    {
     "data": {
      "text/html": [
       "<div>\n",
       "<style scoped>\n",
       "    .dataframe tbody tr th:only-of-type {\n",
       "        vertical-align: middle;\n",
       "    }\n",
       "\n",
       "    .dataframe tbody tr th {\n",
       "        vertical-align: top;\n",
       "    }\n",
       "\n",
       "    .dataframe thead th {\n",
       "        text-align: right;\n",
       "    }\n",
       "</style>\n",
       "<table border=\"1\" class=\"dataframe\">\n",
       "  <thead>\n",
       "    <tr style=\"text-align: right;\">\n",
       "      <th></th>\n",
       "      <th>Test Code</th>\n",
       "      <th>Test Description</th>\n",
       "    </tr>\n",
       "  </thead>\n",
       "  <tbody>\n",
       "    <tr>\n",
       "      <th>0</th>\n",
       "      <td>AXT117</td>\n",
       "      <td>Thyroid Stim. Hormone-QT</td>\n",
       "    </tr>\n",
       "    <tr>\n",
       "      <th>1</th>\n",
       "      <td>BAT126</td>\n",
       "      <td>Vitamin B12</td>\n",
       "    </tr>\n",
       "    <tr>\n",
       "      <th>2</th>\n",
       "      <td>CMT1</td>\n",
       "      <td>Color-QT</td>\n",
       "    </tr>\n",
       "    <tr>\n",
       "      <th>3</th>\n",
       "      <td>CMT10</td>\n",
       "      <td>Urine Nitrite-QT</td>\n",
       "    </tr>\n",
       "    <tr>\n",
       "      <th>4</th>\n",
       "      <td>CMT11</td>\n",
       "      <td>Leukocyte Esterase-QT</td>\n",
       "    </tr>\n",
       "    <tr>\n",
       "      <th>5</th>\n",
       "      <td>CMT2</td>\n",
       "      <td>Specific Gravity-QT</td>\n",
       "    </tr>\n",
       "    <tr>\n",
       "      <th>6</th>\n",
       "      <td>CMT3</td>\n",
       "      <td>pH-QT</td>\n",
       "    </tr>\n",
       "    <tr>\n",
       "      <th>7</th>\n",
       "      <td>CMT43</td>\n",
       "      <td>Blood (+)-QT</td>\n",
       "    </tr>\n",
       "    <tr>\n",
       "      <th>8</th>\n",
       "      <td>CMT49</td>\n",
       "      <td>Urine Protein (3+)-QT</td>\n",
       "    </tr>\n",
       "    <tr>\n",
       "      <th>9</th>\n",
       "      <td>CMT5</td>\n",
       "      <td>Urine Glucose-QT</td>\n",
       "    </tr>\n",
       "  </tbody>\n",
       "</table>\n",
       "</div>"
      ],
      "text/plain": [
       "  Test Code          Test Description\n",
       "0    AXT117  Thyroid Stim. Hormone-QT\n",
       "1    BAT126               Vitamin B12\n",
       "2      CMT1                  Color-QT\n",
       "3     CMT10          Urine Nitrite-QT\n",
       "4     CMT11     Leukocyte Esterase-QT\n",
       "5      CMT2       Specific Gravity-QT\n",
       "6      CMT3                     pH-QT\n",
       "7     CMT43              Blood (+)-QT\n",
       "8     CMT49     Urine Protein (3+)-QT\n",
       "9      CMT5          Urine Glucose-QT"
      ]
     },
     "execution_count": 16,
     "metadata": {},
     "output_type": "execute_result"
    }
   ],
   "source": [
    "# extract lab codes and descriptions of each test\n",
    "lab_codes = define_labcodes(lab_df, lab_dict)\n",
    "lab_codes.head(10)"
   ]
  },
  {
   "cell_type": "markdown",
   "metadata": {},
   "source": [
    "From the short list above we can see that the lab results contain diverse analysis of the patient blood and urine, including hormone levels, protein measurements, blood sugar, and the presence of vitamins and minerals. Since we have no apriori hypothesis about which of these lab measurements might be more interesting than others, let's keep measurements from all the tests."
   ]
  },
  {
   "cell_type": "code",
   "execution_count": 17,
   "metadata": {
    "scrolled": true
   },
   "outputs": [],
   "source": [
    "# record all lab codes and use them to extract lab code data from \n",
    "lab_cols = lab_codes[\"Test Code\"]"
   ]
  },
  {
   "cell_type": "markdown",
   "metadata": {},
   "source": [
    "Let's move on to missing data for this data set.\n",
    "\n",
    "From the ADNI website:\n",
    "\n",
    ">**Laboratory Data**: Screening clinical lab results (i.e. urine, chemistry panel).\n",
    "Data contains some character coding (i.e. SCC09: No specimen received ), and\n",
    "they can be treated as missing data. (LABDATA.csv)\n",
    "\n",
    "Keeping this in mind, we can define a function to replace all alpha-numeric entries with the standard missing value `NaN`. All the data is in a string format by default; so we need to determine which strings are numeric and which are alpha-numeric."
   ]
  },
  {
   "cell_type": "code",
   "execution_count": 18,
   "metadata": {},
   "outputs": [],
   "source": [
    "# determine if a string contains any non numeric characters\n",
    "def is_number(string: str):\n",
    "    \n",
    "    # define valid numeric characters \n",
    "    # (including decimal and negative sign)\n",
    "    valid_chars = set(str(np.arange(0,10,1))[1:-1] + '.-')\n",
    "    is_num = not bool(set(string)-valid_chars)\n",
    "    return(is_num)"
   ]
  },
  {
   "cell_type": "code",
   "execution_count": 19,
   "metadata": {},
   "outputs": [],
   "source": [
    "# find columns of lab df with strings\n",
    "str_cols = lab_df[lab_cols].dtypes == object\n",
    "str_cols = lab_cols[str_cols.values]\n",
    "\n",
    "# define anonymous function to replace missing data with NaN\n",
    "str_isnumber = lab_df[str_cols].apply(lambda x: x.apply(is_number))\n",
    "\n",
    "# convert values with strings to missing val (-1)\n",
    "str_vals = lab_df[str_cols].values\n",
    "str_vals[~str_isnumber] = '-1'\n",
    "num_vals = str_vals.astype(float)\n",
    "\n",
    "# store new numeric values in dataframe\n",
    "lab_df[str_cols] = num_vals\n",
    "\n",
    "# convert missing values to nan\n",
    "lab_df = lab_df.replace(to_replace=-1, value=np.nan)\n",
    "\n",
    "# look for columns where all values are missing\n",
    "# and remove them from the list of columns\n",
    "all_missing_cols = str_cols[(num_vals==-1).all(0)]\n",
    "lab_cols = list(set(lab_cols) - set(all_missing_cols))"
   ]
  },
  {
   "cell_type": "code",
   "execution_count": 20,
   "metadata": {},
   "outputs": [
    {
     "data": {
      "text/plain": [
       "array([dtype('float64')], dtype=object)"
      ]
     },
     "execution_count": 20,
     "metadata": {},
     "output_type": "execute_result"
    }
   ],
   "source": [
    "# check to make sure all of our lab test columns are numeric\n",
    "lab_df[lab_cols].dtypes.unique()"
   ]
  },
  {
   "cell_type": "markdown",
   "metadata": {},
   "source": [
    "## Save cleaned biomarker data to file\n",
    "\n",
    "Before moving on to additional analysis, we can save the dataframes with the missing values updated and the columns restricted to our columns of interest."
   ]
  },
  {
   "cell_type": "code",
   "execution_count": 21,
   "metadata": {
    "scrolled": true
   },
   "outputs": [],
   "source": [
    "# intialize dataframe list and empty placeholder\n",
    "all_dfs = [apo_df, csf_df, lab_df]\n",
    "all_df_cols = [apo_cols, csf_cols, lab_cols]\n",
    "df_names = [\"apoe\",\"csf\",\"lab\"]\n",
    "\n",
    "# iterate over dataframes\n",
    "for i,df in enumerate(all_dfs):\n",
    "    \n",
    "    # ensure standardized missing value\n",
    "    df.replace({np.nan:-1, -4:-1}, inplace=True)\n",
    "    \n",
    "    # ensure RID is in column list for indexing\n",
    "    cols = all_df_cols[i]\n",
    "    cols = append_meta_cols(df.columns, cols)\n",
    "    \n",
    "    # write data to csv\n",
    "    to_write = df[cols]\n",
    "    to_write.to_csv(\"../data/Cleaned/\" + df_names[i] + \"_clean.csv\")"
   ]
  }
 ],
 "metadata": {
  "kernelspec": {
   "display_name": "Python 3",
   "language": "python",
   "name": "python3"
  },
  "language_info": {
   "codemirror_mode": {
    "name": "ipython",
    "version": 3
   },
   "file_extension": ".py",
   "mimetype": "text/x-python",
   "name": "python",
   "nbconvert_exporter": "python",
   "pygments_lexer": "ipython3",
   "version": "3.6.5"
  }
 },
 "nbformat": 4,
 "nbformat_minor": 2
}
