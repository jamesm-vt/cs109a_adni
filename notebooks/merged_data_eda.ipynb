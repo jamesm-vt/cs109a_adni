{
 "cells": [
  {
   "cell_type": "markdown",
   "metadata": {},
   "source": [
    "# Alzheimer's Disease Neuroimaging Initiative"
   ]
  },
  {
   "cell_type": "code",
   "execution_count": 178,
   "metadata": {},
   "outputs": [
    {
     "data": {
      "text/html": [
       "<style>\n",
       "    table {\n",
       "        display: inline-block\n",
       "    }\n",
       "    .rendered_html td, .rendered_html th {text-align: left;}\n",
       "</style>"
      ],
      "text/plain": [
       "<IPython.core.display.HTML object>"
      ]
     },
     "execution_count": 178,
     "metadata": {},
     "output_type": "execute_result"
    }
   ],
   "source": [
    "from IPython.core.display import HTML\n",
    "with open(\"project.css\") as css:\n",
    "    styles = css.read()\n",
    "HTML(styles)"
   ]
  },
  {
   "cell_type": "markdown",
   "metadata": {},
   "source": [
    "## ADNI\n",
    "\n",
    "The overarching goal of the Alzheimer's Disease Neuroimaging Initiative (ADNI) is to identify biomarkers of Alzheimer’s disease. Specifically the study aims at identifying those biomarkers that can be used in the earliest (pre-dementia) prediction of Alzheimer's Disease (AD). The study began in 2004, a time when biomarkers for Alzheimer’s disease which could be used for diagnostics in pre-dementia individuals were virtually unknown. There are four categories of biomarkers in the scope of the initiative: (clinical, imaging, genetic, and biochemical).\n",
    "\n",
    "There have been ADNI 4 study phases to date with the following goals:\n",
    "\n",
    "<!-- Begin ADNI Phase table -->\n",
    "\n",
    "| Study Phase | Goal | Dates | Cohort |\n",
    "|:---: |:--- |:--- | --- |\n",
    "| ADNI 1 | Develop biomarkers as outcome measures for clinical trials | 2004-2009 | 200 elderly controls<br>400 MCI<br>200 AD |\n",
    "| ADNI GO | Examine biomarkers in earlier stages of disease | 2009-2011 | Existing ADNI-1 +<br>200 early MCI |\n",
    "| ADNI 2 | Develop biomarkers as predictors of cognitive decline, and as outcome measures | 2011-2016 | Existing ADNI-1 and ADNI-GO +<br>150 elderly controls<br>100 early MCI<br>150 late MCI<br>150 AD |\n",
    "| ADNI 3 | Study the use of tau PET and functional imaging techniques in clinical trials | 2016 - present | Existing ADNI-1, ADNI-GO, ADNI-2 +<br>133 elderly controls<br>151 MCI<br>87 AD |\n",
    "\n",
    "<!-- End ADNI phase table -->"
   ]
  },
  {
   "cell_type": "markdown",
   "metadata": {},
   "source": [
    "## ADNI Data\n",
    "Before looking at a single observation or feature, there is a lot of information we can glean from reviewing ADNI metadata. There are over 250 datasets in the ADNI data inventory spanning the 4 study phases (ADNI 1, GO, 2, 3) - and this number does not include the archives. These studies are longitudinal. ADNI-1 started in 2004 and ADNI-3 continues today. Although there is potentially a wealth of information, insights, and predictive power in these data, their data collection methods and longitudinal nature present many challenges.\n",
    "\n",
    "One challenge is that all biometrics within the scope of the study are not collected across all study phases. Also, within each phase, not all participants had all measurements taken. For example, in ADNI-1, $100\\%$ of the cohort had a 1.5 Tesla (1.5T) MRI, $50\\%$ had a PET scan. Of the $50\\%$ that didn't have a PET scan, $25\\%$ had a 3T MRI. Finally, only $20\\%$ of the ADNI-1 cohort had a lumbar puncture (L.P.) to collect cerebral spinal fluid (CSF).\n",
    "\n",
    "Other data challenges are related to the longitudinal nature of the studies across the different phases. In each successive phase of the study, participants were rolled over from previous phases while new participants were also added - *(cohort details can be seen in the table above)*. However, existing participants in the study must provide their consent to be included in each subsequent phase. Furthermore, an obvious, but nonetheless real, complication with this population is that a participant could be removed from the study at any time due to significant deterioration in health or death. \n",
    "\n",
    "The result is that each phase of the study produces a richer set of longitudinal data than the previous study because of the rollover participants. The downside of this design is the inherent introduction of missingness into the data due to the recently joined participants."
   ]
  },
  {
   "cell_type": "markdown",
   "metadata": {},
   "source": [
    "### An initial look at the data.\n",
    "Given the breadth of available data and the challenges mentioned above, deciding what data to use to start EDA is a non-trivial task. Fortunately, there is a combined dataset available consisting of key ADNI tables merged into a single table based on the patient identifier or `RID`. As is common with most ADNI datasets, each observation represents a single visit for a participant. This means that a single participant (`RID`) may appear multiple times in the dataset. The number of occurrences will generally depend on what phase the participant entered the study.\n",
    "\n",
    "Let's take an initial look at the merged dataset."
   ]
  },
  {
   "cell_type": "code",
   "execution_count": 179,
   "metadata": {},
   "outputs": [],
   "source": [
    "# imports\n",
    "import pandas as pd\n",
    "import numpy as np\n",
    "import matplotlib.pyplot as plt\n",
    "import ADNI_utilities\n",
    "\n",
    "from pandas.plotting import scatter_matrix\n",
    "from sklearn.preprocessing import MinMaxScaler\n",
    "from sklearn.multiclass import OneVsRestClassifier\n",
    "from sklearn.svm import LinearSVC\n",
    "from sklearn.tree import DecisionTreeClassifier\n",
    "from sklearn.ensemble import AdaBoostClassifier\n",
    "from sklearn import linear_model\n"
   ]
  },
  {
   "cell_type": "code",
   "execution_count": 180,
   "metadata": {},
   "outputs": [],
   "source": [
    "adni_merge = pd.read_csv('../data/ADNIMERGE.csv', low_memory=False)"
   ]
  },
  {
   "cell_type": "code",
   "execution_count": 181,
   "metadata": {},
   "outputs": [
    {
     "name": "stdout",
     "output_type": "stream",
     "text": [
      "The shape of the dataset is (13632, 113).\n",
      "There are 2081 unique participants in the dataset.\n",
      "There is an average of 6.55 rows in the data per participant.\n"
     ]
    }
   ],
   "source": [
    "print(\"The shape of the dataset is {}.\".format(adni_merge.shape))\n",
    "print(\"There are {} unique participants in the dataset.\"\n",
    "      .format(len(adni_merge.RID.unique())))\n",
    "print(\"There is an average of {:.2f} rows in the data per participant.\"\n",
    "      .format(len(adni_merge)/len(adni_merge.RID.unique())))"
   ]
  },
  {
   "cell_type": "markdown",
   "metadata": {},
   "source": [
    "As seen above, the dataset contains $2081$ unique study participants spanning $13632$ visits. The data is longitudinal based on participant visits spaced roughly six months apart. The `VISCODE` feature represents the visit in which the measurements and evaluations were captured. The initial evaluation measurements are identified by `VISCODE` = `'bl'`, which stands for baseline. Below are the unique `VISCODE` values in the dataset:"
   ]
  },
  {
   "cell_type": "code",
   "execution_count": 182,
   "metadata": {},
   "outputs": [
    {
     "data": {
      "text/plain": [
       "array(['bl', 'm03', 'm06', 'm12', 'm18', 'm24', 'm36', 'm30', 'm42',\n",
       "       'm48', 'm54', 'm60', 'm66', 'm72', 'm78', 'm84', 'm90', 'm96',\n",
       "       'm102', 'm108', 'm114', 'm120', 'm126', 'm132', 'm144', 'm156'],\n",
       "      dtype=object)"
      ]
     },
     "execution_count": 182,
     "metadata": {},
     "output_type": "execute_result"
    }
   ],
   "source": [
    "adni_merge.sort_values(by='Month')['VISCODE'].unique()"
   ]
  },
  {
   "cell_type": "markdown",
   "metadata": {},
   "source": [
    "Let's visualize the number of study participants per `VISCODE`."
   ]
  },
  {
   "cell_type": "code",
   "execution_count": 183,
   "metadata": {},
   "outputs": [
    {
     "data": {
      "image/png": "[encoded data removed]",
      "text/plain": [
       "<Figure size 1008x576 with 1 Axes>"
      ]
     },
     "metadata": {
      "needs_background": "light"
     },
     "output_type": "display_data"
    }
   ],
   "source": [
    "# M represents months since the last visit (0 = baseline/initial visit)\n",
    "adni_by_month = adni_merge.groupby(by='M').count()\n",
    "particpants = adni_by_month['RID']\n",
    "visits = adni_merge.sort_values(by='M')['VISCODE'].unique()\n",
    "\n",
    "fig, ax = plt.subplots(1, 1, figsize=(14,8))\n",
    "\n",
    "ax.set_title('Number of participants per visit', size=17)\n",
    "ax.set_xticks(range(0, 26, 2))\n",
    "ax.set_xlabel('Visit Code (indicates months since inital baseline visit)', size=14)\n",
    "ax.set_ylabel('Participants', size=14)\n",
    "ax.bar(visits, particpants)\n",
    "\n",
    "plt.show()"
   ]
  },
  {
   "cell_type": "markdown",
   "metadata": {},
   "source": [
    "Based on the design of the study as discussed above, we expect there to be a lot of missing data in this data set. Let's take a look."
   ]
  },
  {
   "cell_type": "code",
   "execution_count": 184,
   "metadata": {},
   "outputs": [
    {
     "name": "stdout",
     "output_type": "stream",
     "text": [
      "There are a total of 507270 missing values.\n",
      "Out of 113 features in the dataset, 93 have missing values.\n",
      "\n",
      "Quartiles of missing data:\n",
      "      Num Missing  Pct. Missing\n",
      "0.25       3839.0     28.161678\n",
      "0.50       6185.0     45.371185\n",
      "0.75       7758.0     56.910211\n",
      "1.00      13632.0    100.000000\n"
     ]
    },
    {
     "data": {
      "text/html": [
       "<div>\n",
       "<style scoped>\n",
       "    .dataframe tbody tr th:only-of-type {\n",
       "        vertical-align: middle;\n",
       "    }\n",
       "\n",
       "    .dataframe tbody tr th {\n",
       "        vertical-align: top;\n",
       "    }\n",
       "\n",
       "    .dataframe thead th {\n",
       "        text-align: right;\n",
       "    }\n",
       "</style>\n",
       "<table border=\"1\" class=\"dataframe\">\n",
       "  <thead>\n",
       "    <tr style=\"text-align: right;\">\n",
       "      <th></th>\n",
       "      <th>Num Missing</th>\n",
       "      <th>Pct. Missing</th>\n",
       "    </tr>\n",
       "  </thead>\n",
       "  <tbody>\n",
       "    <tr>\n",
       "      <th>FLDSTRENG_bl</th>\n",
       "      <td>13632.0</td>\n",
       "      <td>100.000000</td>\n",
       "    </tr>\n",
       "    <tr>\n",
       "      <th>FLDSTRENG</th>\n",
       "      <td>13632.0</td>\n",
       "      <td>100.000000</td>\n",
       "    </tr>\n",
       "    <tr>\n",
       "      <th>PIB_bl</th>\n",
       "      <td>13483.0</td>\n",
       "      <td>98.906984</td>\n",
       "    </tr>\n",
       "    <tr>\n",
       "      <th>PIB</th>\n",
       "      <td>13409.0</td>\n",
       "      <td>98.364143</td>\n",
       "    </tr>\n",
       "    <tr>\n",
       "      <th>PTAU</th>\n",
       "      <td>11262.0</td>\n",
       "      <td>82.614437</td>\n",
       "    </tr>\n",
       "    <tr>\n",
       "      <th>ABETA</th>\n",
       "      <td>11261.0</td>\n",
       "      <td>82.607101</td>\n",
       "    </tr>\n",
       "    <tr>\n",
       "      <th>TAU</th>\n",
       "      <td>11261.0</td>\n",
       "      <td>82.607101</td>\n",
       "    </tr>\n",
       "    <tr>\n",
       "      <th>AV45</th>\n",
       "      <td>11122.0</td>\n",
       "      <td>81.587441</td>\n",
       "    </tr>\n",
       "    <tr>\n",
       "      <th>FDG</th>\n",
       "      <td>10125.0</td>\n",
       "      <td>74.273768</td>\n",
       "    </tr>\n",
       "    <tr>\n",
       "      <th>DIGITSCOR</th>\n",
       "      <td>9832.0</td>\n",
       "      <td>72.124413</td>\n",
       "    </tr>\n",
       "  </tbody>\n",
       "</table>\n",
       "</div>"
      ],
      "text/plain": [
       "              Num Missing  Pct. Missing\n",
       "FLDSTRENG_bl      13632.0    100.000000\n",
       "FLDSTRENG         13632.0    100.000000\n",
       "PIB_bl            13483.0     98.906984\n",
       "PIB               13409.0     98.364143\n",
       "PTAU              11262.0     82.614437\n",
       "ABETA             11261.0     82.607101\n",
       "TAU               11261.0     82.607101\n",
       "AV45              11122.0     81.587441\n",
       "FDG               10125.0     74.273768\n",
       "DIGITSCOR          9832.0     72.124413"
      ]
     },
     "execution_count": 184,
     "metadata": {},
     "output_type": "execute_result"
    }
   ],
   "source": [
    "# Calculate missing data\n",
    "missing_data = utils.calculate_missing_data(adni_merge)\n",
    "\n",
    "# Look at the top 10 columns in terms of missing values\n",
    "missing_data.head(10)"
   ]
  },
  {
   "cell_type": "markdown",
   "metadata": {},
   "source": [
    "We've noticed that the numbers of non-null values for `PTAU`, `ABETA`, and `TAU` are suspiciously close to the number of unique participants. The fact that these features all have almost the exact same number of missing values could be an artifact of how and when these data were collected. Perhaps these were collected on the initial baseline `bl` visit."
   ]
  },
  {
   "cell_type": "code",
   "execution_count": 185,
   "metadata": {},
   "outputs": [
    {
     "data": {
      "text/html": [
       "<div>\n",
       "<style scoped>\n",
       "    .dataframe tbody tr th:only-of-type {\n",
       "        vertical-align: middle;\n",
       "    }\n",
       "\n",
       "    .dataframe tbody tr th {\n",
       "        vertical-align: top;\n",
       "    }\n",
       "\n",
       "    .dataframe thead th {\n",
       "        text-align: right;\n",
       "    }\n",
       "</style>\n",
       "<table border=\"1\" class=\"dataframe\">\n",
       "  <thead>\n",
       "    <tr style=\"text-align: right;\">\n",
       "      <th></th>\n",
       "      <th>Num Missing</th>\n",
       "      <th>Pct. Missing</th>\n",
       "      <th>Num Values Present</th>\n",
       "      <th>Num Participants</th>\n",
       "    </tr>\n",
       "  </thead>\n",
       "  <tbody>\n",
       "    <tr>\n",
       "      <th>TAU</th>\n",
       "      <td>11261.0</td>\n",
       "      <td>82.607101</td>\n",
       "      <td>2371.0</td>\n",
       "      <td>2081</td>\n",
       "    </tr>\n",
       "    <tr>\n",
       "      <th>PTAU</th>\n",
       "      <td>11262.0</td>\n",
       "      <td>82.614437</td>\n",
       "      <td>2370.0</td>\n",
       "      <td>2081</td>\n",
       "    </tr>\n",
       "    <tr>\n",
       "      <th>ABETA</th>\n",
       "      <td>11261.0</td>\n",
       "      <td>82.607101</td>\n",
       "      <td>2371.0</td>\n",
       "      <td>2081</td>\n",
       "    </tr>\n",
       "  </tbody>\n",
       "</table>\n",
       "</div>"
      ],
      "text/plain": [
       "       Num Missing  Pct. Missing  Num Values Present  Num Participants\n",
       "TAU        11261.0     82.607101              2371.0              2081\n",
       "PTAU       11262.0     82.614437              2370.0              2081\n",
       "ABETA      11261.0     82.607101              2371.0              2081"
      ]
     },
     "execution_count": 185,
     "metadata": {},
     "output_type": "execute_result"
    }
   ],
   "source": [
    "missing_proteins = missing_data.loc[['TAU', 'PTAU', 'ABETA']]\n",
    "missing_proteins['Num Values Present'] = len(adni_merge) - missing_proteins['Num Missing']\n",
    "missing_proteins['Num Participants'] = len(adni_merge.RID.unique())\n",
    "missing_proteins"
   ]
  },
  {
   "cell_type": "markdown",
   "metadata": {},
   "source": [
    "There are many options to deal with the variable number of visits in the merged data set. Instead of vertically stacking the visits as in the merged dataset, we could split on `VISCODE` and stack the data *horizontally* creating wide rows with many more features. However, this is essentially transposing the data and moving the missing values from deep columns to wide rows. Another option is to split the data into multiple subsets of data based on `VISCODE` and deal with them separately. As shown in the \"*Participants per visit*\" figure, every participant had at least a baseline visit. This subset should provide the most complete and uniform representation of the data."
   ]
  },
  {
   "cell_type": "code",
   "execution_count": 186,
   "metadata": {},
   "outputs": [
    {
     "name": "stdout",
     "output_type": "stream",
     "text": [
      "Shape of the baseline visit subset:  (2081, 113)\n"
     ]
    },
    {
     "data": {
      "text/html": [
       "<div>\n",
       "<style scoped>\n",
       "    .dataframe tbody tr th:only-of-type {\n",
       "        vertical-align: middle;\n",
       "    }\n",
       "\n",
       "    .dataframe tbody tr th {\n",
       "        vertical-align: top;\n",
       "    }\n",
       "\n",
       "    .dataframe thead th {\n",
       "        text-align: right;\n",
       "    }\n",
       "</style>\n",
       "<table border=\"1\" class=\"dataframe\">\n",
       "  <thead>\n",
       "    <tr style=\"text-align: right;\">\n",
       "      <th></th>\n",
       "      <th>RID</th>\n",
       "      <th>PTID</th>\n",
       "      <th>VISCODE</th>\n",
       "      <th>SITE</th>\n",
       "      <th>COLPROT</th>\n",
       "      <th>ORIGPROT</th>\n",
       "      <th>EXAMDATE</th>\n",
       "      <th>DX_bl</th>\n",
       "      <th>AGE</th>\n",
       "      <th>PTGENDER</th>\n",
       "      <th>...</th>\n",
       "      <th>TAU_bl</th>\n",
       "      <th>PTAU_bl</th>\n",
       "      <th>FDG_bl</th>\n",
       "      <th>PIB_bl</th>\n",
       "      <th>AV45_bl</th>\n",
       "      <th>Years_bl</th>\n",
       "      <th>Month_bl</th>\n",
       "      <th>Month</th>\n",
       "      <th>M</th>\n",
       "      <th>update_stamp</th>\n",
       "    </tr>\n",
       "  </thead>\n",
       "  <tbody>\n",
       "    <tr>\n",
       "      <th>0</th>\n",
       "      <td>2</td>\n",
       "      <td>011_S_0002</td>\n",
       "      <td>bl</td>\n",
       "      <td>11</td>\n",
       "      <td>ADNI1</td>\n",
       "      <td>ADNI1</td>\n",
       "      <td>2005-09-08</td>\n",
       "      <td>CN</td>\n",
       "      <td>74.3</td>\n",
       "      <td>Male</td>\n",
       "      <td>...</td>\n",
       "      <td>NaN</td>\n",
       "      <td>NaN</td>\n",
       "      <td>1.36665</td>\n",
       "      <td>NaN</td>\n",
       "      <td>NaN</td>\n",
       "      <td>0.0</td>\n",
       "      <td>0.0</td>\n",
       "      <td>0</td>\n",
       "      <td>0</td>\n",
       "      <td>2018-10-19 22:51:15.0</td>\n",
       "    </tr>\n",
       "    <tr>\n",
       "      <th>1</th>\n",
       "      <td>3</td>\n",
       "      <td>011_S_0003</td>\n",
       "      <td>bl</td>\n",
       "      <td>11</td>\n",
       "      <td>ADNI1</td>\n",
       "      <td>ADNI1</td>\n",
       "      <td>2005-09-12</td>\n",
       "      <td>AD</td>\n",
       "      <td>81.3</td>\n",
       "      <td>Male</td>\n",
       "      <td>...</td>\n",
       "      <td>239.7</td>\n",
       "      <td>22.83</td>\n",
       "      <td>1.08355</td>\n",
       "      <td>NaN</td>\n",
       "      <td>NaN</td>\n",
       "      <td>0.0</td>\n",
       "      <td>0.0</td>\n",
       "      <td>0</td>\n",
       "      <td>0</td>\n",
       "      <td>2018-10-19 22:51:15.0</td>\n",
       "    </tr>\n",
       "    <tr>\n",
       "      <th>5</th>\n",
       "      <td>4</td>\n",
       "      <td>022_S_0004</td>\n",
       "      <td>bl</td>\n",
       "      <td>22</td>\n",
       "      <td>ADNI1</td>\n",
       "      <td>ADNI1</td>\n",
       "      <td>2005-11-08</td>\n",
       "      <td>LMCI</td>\n",
       "      <td>67.5</td>\n",
       "      <td>Male</td>\n",
       "      <td>...</td>\n",
       "      <td>153.1</td>\n",
       "      <td>13.29</td>\n",
       "      <td>NaN</td>\n",
       "      <td>NaN</td>\n",
       "      <td>NaN</td>\n",
       "      <td>0.0</td>\n",
       "      <td>0.0</td>\n",
       "      <td>0</td>\n",
       "      <td>0</td>\n",
       "      <td>2018-10-19 22:51:15.0</td>\n",
       "    </tr>\n",
       "    <tr>\n",
       "      <th>10</th>\n",
       "      <td>5</td>\n",
       "      <td>011_S_0005</td>\n",
       "      <td>bl</td>\n",
       "      <td>11</td>\n",
       "      <td>ADNI1</td>\n",
       "      <td>ADNI1</td>\n",
       "      <td>2005-09-07</td>\n",
       "      <td>CN</td>\n",
       "      <td>73.7</td>\n",
       "      <td>Male</td>\n",
       "      <td>...</td>\n",
       "      <td>337</td>\n",
       "      <td>33.43</td>\n",
       "      <td>1.29343</td>\n",
       "      <td>NaN</td>\n",
       "      <td>NaN</td>\n",
       "      <td>0.0</td>\n",
       "      <td>0.0</td>\n",
       "      <td>0</td>\n",
       "      <td>0</td>\n",
       "      <td>2018-10-19 22:51:15.0</td>\n",
       "    </tr>\n",
       "    <tr>\n",
       "      <th>15</th>\n",
       "      <td>6</td>\n",
       "      <td>100_S_0006</td>\n",
       "      <td>bl</td>\n",
       "      <td>100</td>\n",
       "      <td>ADNI1</td>\n",
       "      <td>ADNI1</td>\n",
       "      <td>2005-11-29</td>\n",
       "      <td>LMCI</td>\n",
       "      <td>80.4</td>\n",
       "      <td>Female</td>\n",
       "      <td>...</td>\n",
       "      <td>NaN</td>\n",
       "      <td>NaN</td>\n",
       "      <td>NaN</td>\n",
       "      <td>NaN</td>\n",
       "      <td>NaN</td>\n",
       "      <td>0.0</td>\n",
       "      <td>0.0</td>\n",
       "      <td>0</td>\n",
       "      <td>0</td>\n",
       "      <td>2018-10-19 22:51:15.0</td>\n",
       "    </tr>\n",
       "  </tbody>\n",
       "</table>\n",
       "<p>5 rows × 113 columns</p>\n",
       "</div>"
      ],
      "text/plain": [
       "    RID        PTID VISCODE  SITE COLPROT ORIGPROT    EXAMDATE DX_bl   AGE  \\\n",
       "0     2  011_S_0002      bl    11   ADNI1    ADNI1  2005-09-08    CN  74.3   \n",
       "1     3  011_S_0003      bl    11   ADNI1    ADNI1  2005-09-12    AD  81.3   \n",
       "5     4  022_S_0004      bl    22   ADNI1    ADNI1  2005-11-08  LMCI  67.5   \n",
       "10    5  011_S_0005      bl    11   ADNI1    ADNI1  2005-09-07    CN  73.7   \n",
       "15    6  100_S_0006      bl   100   ADNI1    ADNI1  2005-11-29  LMCI  80.4   \n",
       "\n",
       "   PTGENDER          ...            TAU_bl PTAU_bl   FDG_bl PIB_bl  AV45_bl  \\\n",
       "0      Male          ...               NaN     NaN  1.36665    NaN      NaN   \n",
       "1      Male          ...             239.7   22.83  1.08355    NaN      NaN   \n",
       "5      Male          ...             153.1   13.29      NaN    NaN      NaN   \n",
       "10     Male          ...               337   33.43  1.29343    NaN      NaN   \n",
       "15   Female          ...               NaN     NaN      NaN    NaN      NaN   \n",
       "\n",
       "    Years_bl  Month_bl  Month  M           update_stamp  \n",
       "0        0.0       0.0      0  0  2018-10-19 22:51:15.0  \n",
       "1        0.0       0.0      0  0  2018-10-19 22:51:15.0  \n",
       "5        0.0       0.0      0  0  2018-10-19 22:51:15.0  \n",
       "10       0.0       0.0      0  0  2018-10-19 22:51:15.0  \n",
       "15       0.0       0.0      0  0  2018-10-19 22:51:15.0  \n",
       "\n",
       "[5 rows x 113 columns]"
      ]
     },
     "execution_count": 186,
     "metadata": {},
     "output_type": "execute_result"
    }
   ],
   "source": [
    "baseline = adni_merge[adni_merge['VISCODE'] == 'bl'].copy()\n",
    "print('Shape of the baseline visit subset: ', baseline.shape)\n",
    "\n",
    "baseline.head()"
   ]
  },
  {
   "cell_type": "markdown",
   "metadata": {},
   "source": [
    "Let's examime the missing data from the baseline visit dataset."
   ]
  },
  {
   "cell_type": "code",
   "execution_count": 187,
   "metadata": {},
   "outputs": [
    {
     "name": "stdout",
     "output_type": "stream",
     "text": [
      "There are a total of 54057 missing values.\n",
      "Out of 113 features in the dataset, 91 have missing values.\n",
      "\n",
      "Quartiles of missing data:\n",
      "      Num Missing  Pct. Missing\n",
      "0.25         22.0      1.057184\n",
      "0.50        728.0     34.983181\n",
      "0.75        851.0     40.893801\n",
      "1.00       2081.0    100.000000\n"
     ]
    }
   ],
   "source": [
    "# Calculate missing data\n",
    "missing_data = utils.calculate_missing_data(baseline)"
   ]
  },
  {
   "cell_type": "markdown",
   "metadata": {},
   "source": [
    "## Filling in Missing Data\n",
    "Based on the study data, we know that not all biometrics are measured at every visit. Therefore we may be able to pull measures together from different visits to help fill in missing data. Of course since we're dealing with longitudinal data with visits month or years apart, we have to make sure that we only consider measures from visits where the diagnosis code is unchanged."
   ]
  },
  {
   "cell_type": "code",
   "execution_count": 188,
   "metadata": {
    "scrolled": false
   },
   "outputs": [
    {
     "name": "stdout",
     "output_type": "stream",
     "text": [
      "Searching...\n",
      "Updated 4104 of 54057 missing values.\n"
     ]
    }
   ],
   "source": [
    "# For every column in the baseline (VISCODE='bl') with missing values, look for\n",
    "# a value in subsequent visits with the constraint that the DX code must\n",
    "# not have changed. Take the first (earliest) biometric measure available.\n",
    "\n",
    "baseline.sort_values(by='RID')\n",
    "missing_cols = baseline.columns[baseline.isnull().any()]\n",
    "viscodes = list(adni_merge.sort_values(by='Month')['VISCODE'].unique())\n",
    "viscodes.pop(0) # Get rid of 'bl'\n",
    "\n",
    "missing_values = baseline.isnull().sum().sum()\n",
    "updated_values = 0\n",
    "\n",
    "print('Searching...')\n",
    "for col in missing_cols:\n",
    "    \n",
    "    for v in viscodes:\n",
    "        \n",
    "        # Get the RIDs with missing values in this colummn.\n",
    "        # Do this for each VISCODE since we are iteratively\n",
    "        # updating missing values.\n",
    "        rids = baseline[baseline[col].isnull()].RID\n",
    "        \n",
    "        # Create a DataFrame from adni_merge for the current\n",
    "        # VISCODE, RIDs, & where current col is not null.\n",
    "        df = adni_merge.loc[(adni_merge.RID.isin(rids))\n",
    "                            & (adni_merge.VISCODE == v)\n",
    "                            & (adni_merge[col].notnull()),\n",
    "                            baseline.columns] \n",
    "               \n",
    "        if df.empty: # if no matches, continue\n",
    "            continue\n",
    "            \n",
    "        df = df.copy()\n",
    "        df.sort_values(by='RID', inplace=True)\n",
    "            \n",
    "        # Find baseline participants who are also in the current VISCODE\n",
    "        bl = baseline[baseline.RID.isin(df.RID)].copy()\n",
    "        bl.sort_values(by='RID', inplace=True)\n",
    "        df.index = bl.index\n",
    "        \n",
    "        # Only keep those where the diagnosis is unchanged & col is not null\n",
    "        df = df[(df.DX == bl.DX) & (df[col].notnull())]\n",
    "\n",
    "        if df.empty:  # if DX codes don't match, continue\n",
    "            continue\n",
    "\n",
    "        # Update null values in the original baseline DF\n",
    "        baseline.loc[baseline.index.isin(df.index), col] = df[col]\n",
    "        updated_values += len(df)\n",
    "\n",
    "print(f'Updated {updated_values} of {missing_values} missing values.')"
   ]
  },
  {
   "cell_type": "code",
   "execution_count": 189,
   "metadata": {},
   "outputs": [
    {
     "name": "stdout",
     "output_type": "stream",
     "text": [
      "There are a total of 49953 missing values.\n",
      "Out of 113 features in the dataset, 91 have missing values.\n",
      "\n",
      "Quartiles of missing data:\n",
      "      Num Missing  Pct. Missing\n",
      "0.25         21.0      1.009130\n",
      "0.50        641.0     30.802499\n",
      "0.75        832.0     39.980778\n",
      "1.00       2081.0    100.000000\n"
     ]
    },
    {
     "data": {
      "text/html": [
       "<div>\n",
       "<style scoped>\n",
       "    .dataframe tbody tr th:only-of-type {\n",
       "        vertical-align: middle;\n",
       "    }\n",
       "\n",
       "    .dataframe tbody tr th {\n",
       "        vertical-align: top;\n",
       "    }\n",
       "\n",
       "    .dataframe thead th {\n",
       "        text-align: right;\n",
       "    }\n",
       "</style>\n",
       "<table border=\"1\" class=\"dataframe\">\n",
       "  <thead>\n",
       "    <tr style=\"text-align: right;\">\n",
       "      <th></th>\n",
       "      <th>Num Missing</th>\n",
       "      <th>Pct. Missing</th>\n",
       "    </tr>\n",
       "  </thead>\n",
       "  <tbody>\n",
       "    <tr>\n",
       "      <th>FLDSTRENG</th>\n",
       "      <td>2081.0</td>\n",
       "      <td>100.000000</td>\n",
       "    </tr>\n",
       "    <tr>\n",
       "      <th>FLDSTRENG_bl</th>\n",
       "      <td>2081.0</td>\n",
       "      <td>100.000000</td>\n",
       "    </tr>\n",
       "    <tr>\n",
       "      <th>PIB_bl</th>\n",
       "      <td>2061.0</td>\n",
       "      <td>99.038924</td>\n",
       "    </tr>\n",
       "    <tr>\n",
       "      <th>PIB</th>\n",
       "      <td>1990.0</td>\n",
       "      <td>95.627102</td>\n",
       "    </tr>\n",
       "    <tr>\n",
       "      <th>DIGITSCOR_bl</th>\n",
       "      <td>1267.0</td>\n",
       "      <td>60.884190</td>\n",
       "    </tr>\n",
       "    <tr>\n",
       "      <th>DIGITSCOR</th>\n",
       "      <td>1264.0</td>\n",
       "      <td>60.740029</td>\n",
       "    </tr>\n",
       "    <tr>\n",
       "      <th>AV45_bl</th>\n",
       "      <td>1107.0</td>\n",
       "      <td>53.195579</td>\n",
       "    </tr>\n",
       "    <tr>\n",
       "      <th>AV45</th>\n",
       "      <td>971.0</td>\n",
       "      <td>46.660259</td>\n",
       "    </tr>\n",
       "    <tr>\n",
       "      <th>EcogSPOrgan_bl</th>\n",
       "      <td>891.0</td>\n",
       "      <td>42.815954</td>\n",
       "    </tr>\n",
       "    <tr>\n",
       "      <th>PTAU_bl</th>\n",
       "      <td>866.0</td>\n",
       "      <td>41.614608</td>\n",
       "    </tr>\n",
       "  </tbody>\n",
       "</table>\n",
       "</div>"
      ],
      "text/plain": [
       "                Num Missing  Pct. Missing\n",
       "FLDSTRENG            2081.0    100.000000\n",
       "FLDSTRENG_bl         2081.0    100.000000\n",
       "PIB_bl               2061.0     99.038924\n",
       "PIB                  1990.0     95.627102\n",
       "DIGITSCOR_bl         1267.0     60.884190\n",
       "DIGITSCOR            1264.0     60.740029\n",
       "AV45_bl              1107.0     53.195579\n",
       "AV45                  971.0     46.660259\n",
       "EcogSPOrgan_bl        891.0     42.815954\n",
       "PTAU_bl               866.0     41.614608"
      ]
     },
     "execution_count": 189,
     "metadata": {},
     "output_type": "execute_result"
    }
   ],
   "source": [
    "# Calculate missing data\n",
    "missing_data = utils.calculate_missing_data(baseline)\n",
    "\n",
    "# Look at the top 10 columns in terms of missing values\n",
    "missing_data.head(10)"
   ]
  },
  {
   "cell_type": "markdown",
   "metadata": {},
   "source": [
    "Clearly a lot of missing data remain and we will likely have to explore methods to impute these values. Before doing that however, we will explore the data a little closer to see if there are features that should be dropped due to high correlation, lack of information, or other reasons."
   ]
  },
  {
   "cell_type": "markdown",
   "metadata": {},
   "source": [
    "`FLDSTRENG` and `FLDSTRENG_bl` are providing absolutely no information so we can drop them."
   ]
  },
  {
   "cell_type": "code",
   "execution_count": 190,
   "metadata": {},
   "outputs": [],
   "source": [
    "baseline = baseline.drop(labels=['FLDSTRENG', 'FLDSTRENG_bl'], axis=1)"
   ]
  },
  {
   "cell_type": "markdown",
   "metadata": {},
   "source": [
    "There appears to be a lot of features with similar, if not identical, information such as `TAU`, `TAU_bl`, `AV45`, `AV45_bl`. Let's examine this pattern to see if these pairs are highly correlated."
   ]
  },
  {
   "cell_type": "code",
   "execution_count": 191,
   "metadata": {},
   "outputs": [
    {
     "data": {
      "text/html": [
       "<div>\n",
       "<style scoped>\n",
       "    .dataframe tbody tr th:only-of-type {\n",
       "        vertical-align: middle;\n",
       "    }\n",
       "\n",
       "    .dataframe tbody tr th {\n",
       "        vertical-align: top;\n",
       "    }\n",
       "\n",
       "    .dataframe thead th {\n",
       "        text-align: right;\n",
       "    }\n",
       "</style>\n",
       "<table border=\"1\" class=\"dataframe\">\n",
       "  <thead>\n",
       "    <tr style=\"text-align: right;\">\n",
       "      <th></th>\n",
       "      <th>Baseline column</th>\n",
       "      <th>Alternate column</th>\n",
       "      <th>Correlation</th>\n",
       "    </tr>\n",
       "  </thead>\n",
       "  <tbody>\n",
       "    <tr>\n",
       "      <th>0</th>\n",
       "      <td>CDRSB_bl</td>\n",
       "      <td>CDRSB</td>\n",
       "      <td>1.0</td>\n",
       "    </tr>\n",
       "    <tr>\n",
       "      <th>1</th>\n",
       "      <td>ADAS11_bl</td>\n",
       "      <td>ADAS11</td>\n",
       "      <td>1.0</td>\n",
       "    </tr>\n",
       "    <tr>\n",
       "      <th>2</th>\n",
       "      <td>ADAS13_bl</td>\n",
       "      <td>ADAS13</td>\n",
       "      <td>1.0</td>\n",
       "    </tr>\n",
       "    <tr>\n",
       "      <th>3</th>\n",
       "      <td>ADASQ4_bl</td>\n",
       "      <td>ADASQ4</td>\n",
       "      <td>1.0</td>\n",
       "    </tr>\n",
       "    <tr>\n",
       "      <th>4</th>\n",
       "      <td>MMSE_bl</td>\n",
       "      <td>MMSE</td>\n",
       "      <td>1.0</td>\n",
       "    </tr>\n",
       "    <tr>\n",
       "      <th>5</th>\n",
       "      <td>RAVLT_immediate_bl</td>\n",
       "      <td>RAVLT_immediate</td>\n",
       "      <td>1.0</td>\n",
       "    </tr>\n",
       "    <tr>\n",
       "      <th>6</th>\n",
       "      <td>RAVLT_learning_bl</td>\n",
       "      <td>RAVLT_learning</td>\n",
       "      <td>1.0</td>\n",
       "    </tr>\n",
       "    <tr>\n",
       "      <th>7</th>\n",
       "      <td>RAVLT_forgetting_bl</td>\n",
       "      <td>RAVLT_forgetting</td>\n",
       "      <td>1.0</td>\n",
       "    </tr>\n",
       "    <tr>\n",
       "      <th>8</th>\n",
       "      <td>RAVLT_perc_forgetting_bl</td>\n",
       "      <td>RAVLT_perc_forgetting</td>\n",
       "      <td>1.0</td>\n",
       "    </tr>\n",
       "    <tr>\n",
       "      <th>9</th>\n",
       "      <td>LDELTOTAL_BL</td>\n",
       "      <td>LDELTOTAL</td>\n",
       "      <td>1.0</td>\n",
       "    </tr>\n",
       "    <tr>\n",
       "      <th>10</th>\n",
       "      <td>DIGITSCOR_bl</td>\n",
       "      <td>DIGITSCOR</td>\n",
       "      <td>1.0</td>\n",
       "    </tr>\n",
       "    <tr>\n",
       "      <th>11</th>\n",
       "      <td>TRABSCOR_bl</td>\n",
       "      <td>TRABSCOR</td>\n",
       "      <td>1.0</td>\n",
       "    </tr>\n",
       "    <tr>\n",
       "      <th>12</th>\n",
       "      <td>FAQ_bl</td>\n",
       "      <td>FAQ</td>\n",
       "      <td>1.0</td>\n",
       "    </tr>\n",
       "    <tr>\n",
       "      <th>13</th>\n",
       "      <td>mPACCdigit_bl</td>\n",
       "      <td>mPACCdigit</td>\n",
       "      <td>1.0</td>\n",
       "    </tr>\n",
       "    <tr>\n",
       "      <th>14</th>\n",
       "      <td>mPACCtrailsB_bl</td>\n",
       "      <td>mPACCtrailsB</td>\n",
       "      <td>1.0</td>\n",
       "    </tr>\n",
       "    <tr>\n",
       "      <th>15</th>\n",
       "      <td>Ventricles_bl</td>\n",
       "      <td>Ventricles</td>\n",
       "      <td>1.0</td>\n",
       "    </tr>\n",
       "    <tr>\n",
       "      <th>16</th>\n",
       "      <td>Hippocampus_bl</td>\n",
       "      <td>Hippocampus</td>\n",
       "      <td>1.0</td>\n",
       "    </tr>\n",
       "    <tr>\n",
       "      <th>17</th>\n",
       "      <td>WholeBrain_bl</td>\n",
       "      <td>WholeBrain</td>\n",
       "      <td>1.0</td>\n",
       "    </tr>\n",
       "    <tr>\n",
       "      <th>18</th>\n",
       "      <td>Entorhinal_bl</td>\n",
       "      <td>Entorhinal</td>\n",
       "      <td>1.0</td>\n",
       "    </tr>\n",
       "    <tr>\n",
       "      <th>19</th>\n",
       "      <td>Fusiform_bl</td>\n",
       "      <td>Fusiform</td>\n",
       "      <td>1.0</td>\n",
       "    </tr>\n",
       "    <tr>\n",
       "      <th>20</th>\n",
       "      <td>MidTemp_bl</td>\n",
       "      <td>MidTemp</td>\n",
       "      <td>1.0</td>\n",
       "    </tr>\n",
       "    <tr>\n",
       "      <th>21</th>\n",
       "      <td>ICV_bl</td>\n",
       "      <td>ICV</td>\n",
       "      <td>1.0</td>\n",
       "    </tr>\n",
       "    <tr>\n",
       "      <th>22</th>\n",
       "      <td>MOCA_bl</td>\n",
       "      <td>MOCA</td>\n",
       "      <td>1.0</td>\n",
       "    </tr>\n",
       "    <tr>\n",
       "      <th>23</th>\n",
       "      <td>EcogPtMem_bl</td>\n",
       "      <td>EcogPtMem</td>\n",
       "      <td>1.0</td>\n",
       "    </tr>\n",
       "    <tr>\n",
       "      <th>24</th>\n",
       "      <td>EcogPtLang_bl</td>\n",
       "      <td>EcogPtLang</td>\n",
       "      <td>1.0</td>\n",
       "    </tr>\n",
       "    <tr>\n",
       "      <th>25</th>\n",
       "      <td>EcogPtVisspat_bl</td>\n",
       "      <td>EcogPtVisspat</td>\n",
       "      <td>1.0</td>\n",
       "    </tr>\n",
       "    <tr>\n",
       "      <th>26</th>\n",
       "      <td>EcogPtPlan_bl</td>\n",
       "      <td>EcogPtPlan</td>\n",
       "      <td>1.0</td>\n",
       "    </tr>\n",
       "    <tr>\n",
       "      <th>27</th>\n",
       "      <td>EcogPtOrgan_bl</td>\n",
       "      <td>EcogPtOrgan</td>\n",
       "      <td>1.0</td>\n",
       "    </tr>\n",
       "    <tr>\n",
       "      <th>28</th>\n",
       "      <td>EcogPtDivatt_bl</td>\n",
       "      <td>EcogPtDivatt</td>\n",
       "      <td>1.0</td>\n",
       "    </tr>\n",
       "    <tr>\n",
       "      <th>29</th>\n",
       "      <td>EcogPtTotal_bl</td>\n",
       "      <td>EcogPtTotal</td>\n",
       "      <td>1.0</td>\n",
       "    </tr>\n",
       "    <tr>\n",
       "      <th>30</th>\n",
       "      <td>EcogSPMem_bl</td>\n",
       "      <td>EcogSPMem</td>\n",
       "      <td>1.0</td>\n",
       "    </tr>\n",
       "    <tr>\n",
       "      <th>31</th>\n",
       "      <td>EcogSPLang_bl</td>\n",
       "      <td>EcogSPLang</td>\n",
       "      <td>1.0</td>\n",
       "    </tr>\n",
       "    <tr>\n",
       "      <th>32</th>\n",
       "      <td>EcogSPVisspat_bl</td>\n",
       "      <td>EcogSPVisspat</td>\n",
       "      <td>1.0</td>\n",
       "    </tr>\n",
       "    <tr>\n",
       "      <th>33</th>\n",
       "      <td>EcogSPPlan_bl</td>\n",
       "      <td>EcogSPPlan</td>\n",
       "      <td>1.0</td>\n",
       "    </tr>\n",
       "    <tr>\n",
       "      <th>34</th>\n",
       "      <td>EcogSPOrgan_bl</td>\n",
       "      <td>EcogSPOrgan</td>\n",
       "      <td>1.0</td>\n",
       "    </tr>\n",
       "    <tr>\n",
       "      <th>35</th>\n",
       "      <td>EcogSPDivatt_bl</td>\n",
       "      <td>EcogSPDivatt</td>\n",
       "      <td>1.0</td>\n",
       "    </tr>\n",
       "    <tr>\n",
       "      <th>36</th>\n",
       "      <td>EcogSPTotal_bl</td>\n",
       "      <td>EcogSPTotal</td>\n",
       "      <td>1.0</td>\n",
       "    </tr>\n",
       "    <tr>\n",
       "      <th>37</th>\n",
       "      <td>FDG_bl</td>\n",
       "      <td>FDG</td>\n",
       "      <td>1.0</td>\n",
       "    </tr>\n",
       "    <tr>\n",
       "      <th>38</th>\n",
       "      <td>PIB_bl</td>\n",
       "      <td>PIB</td>\n",
       "      <td>1.0</td>\n",
       "    </tr>\n",
       "    <tr>\n",
       "      <th>39</th>\n",
       "      <td>AV45_bl</td>\n",
       "      <td>AV45</td>\n",
       "      <td>1.0</td>\n",
       "    </tr>\n",
       "  </tbody>\n",
       "</table>\n",
       "</div>"
      ],
      "text/plain": [
       "             Baseline column       Alternate column  Correlation\n",
       "0                   CDRSB_bl                  CDRSB          1.0\n",
       "1                  ADAS11_bl                 ADAS11          1.0\n",
       "2                  ADAS13_bl                 ADAS13          1.0\n",
       "3                  ADASQ4_bl                 ADASQ4          1.0\n",
       "4                    MMSE_bl                   MMSE          1.0\n",
       "5         RAVLT_immediate_bl        RAVLT_immediate          1.0\n",
       "6          RAVLT_learning_bl         RAVLT_learning          1.0\n",
       "7        RAVLT_forgetting_bl       RAVLT_forgetting          1.0\n",
       "8   RAVLT_perc_forgetting_bl  RAVLT_perc_forgetting          1.0\n",
       "9               LDELTOTAL_BL              LDELTOTAL          1.0\n",
       "10              DIGITSCOR_bl              DIGITSCOR          1.0\n",
       "11               TRABSCOR_bl               TRABSCOR          1.0\n",
       "12                    FAQ_bl                    FAQ          1.0\n",
       "13             mPACCdigit_bl             mPACCdigit          1.0\n",
       "14           mPACCtrailsB_bl           mPACCtrailsB          1.0\n",
       "15             Ventricles_bl             Ventricles          1.0\n",
       "16            Hippocampus_bl            Hippocampus          1.0\n",
       "17             WholeBrain_bl             WholeBrain          1.0\n",
       "18             Entorhinal_bl             Entorhinal          1.0\n",
       "19               Fusiform_bl               Fusiform          1.0\n",
       "20                MidTemp_bl                MidTemp          1.0\n",
       "21                    ICV_bl                    ICV          1.0\n",
       "22                   MOCA_bl                   MOCA          1.0\n",
       "23              EcogPtMem_bl              EcogPtMem          1.0\n",
       "24             EcogPtLang_bl             EcogPtLang          1.0\n",
       "25          EcogPtVisspat_bl          EcogPtVisspat          1.0\n",
       "26             EcogPtPlan_bl             EcogPtPlan          1.0\n",
       "27            EcogPtOrgan_bl            EcogPtOrgan          1.0\n",
       "28           EcogPtDivatt_bl           EcogPtDivatt          1.0\n",
       "29            EcogPtTotal_bl            EcogPtTotal          1.0\n",
       "30              EcogSPMem_bl              EcogSPMem          1.0\n",
       "31             EcogSPLang_bl             EcogSPLang          1.0\n",
       "32          EcogSPVisspat_bl          EcogSPVisspat          1.0\n",
       "33             EcogSPPlan_bl             EcogSPPlan          1.0\n",
       "34            EcogSPOrgan_bl            EcogSPOrgan          1.0\n",
       "35           EcogSPDivatt_bl           EcogSPDivatt          1.0\n",
       "36            EcogSPTotal_bl            EcogSPTotal          1.0\n",
       "37                    FDG_bl                    FDG          1.0\n",
       "38                    PIB_bl                    PIB          1.0\n",
       "39                   AV45_bl                   AV45          1.0"
      ]
     },
     "execution_count": 191,
     "metadata": {},
     "output_type": "execute_result"
    }
   ],
   "source": [
    "# Generate a correlation matrix of xxx_bl vs xxx\n",
    "corr_df = baseline.corr()\n",
    "cols = baseline.columns\n",
    "col1, col2, corr = [], [], []\n",
    "\n",
    "# Specifically check the correlation of xxx_bl to xxx\n",
    "for col in cols:\n",
    "    if '_bl' in col.lower(): \n",
    "        drop_bl = col[0:-3]\n",
    "        if (drop_bl in cols):\n",
    "            if (col in corr_df.index and corr_df.loc[col][drop_bl] > .8):\n",
    "                col1.append(col)\n",
    "                col2.append(drop_bl)\n",
    "                corr.append(corr_df.loc[col][drop_bl])\n",
    "\n",
    "# Display the results                \n",
    "bl_corr_df = pd.DataFrame({\"Baseline column\": col1, 'Alternate column': col2, \"Correlation\": corr})\n",
    "bl_corr_df"
   ]
  },
  {
   "cell_type": "markdown",
   "metadata": {},
   "source": [
    "These features indeed contain duplicate information so we can drop one of each pair."
   ]
  },
  {
   "cell_type": "code",
   "execution_count": 192,
   "metadata": {},
   "outputs": [
    {
     "name": "stdout",
     "output_type": "stream",
     "text": [
      "The new shape of the baseline subset is (2081, 71).\n"
     ]
    }
   ],
   "source": [
    "baseline = baseline.drop(labels=bl_corr_df['Baseline column'].values, axis=1)\n",
    "print(\"The new shape of the baseline subset is {}.\".format(baseline.shape))"
   ]
  },
  {
   "cell_type": "code",
   "execution_count": 193,
   "metadata": {},
   "outputs": [
    {
     "data": {
      "text/plain": [
       "Index(['ABETA', 'ABETA_bl', 'ADAS11', 'ADAS13', 'ADASQ4', 'AGE', 'APOE4',\n",
       "       'AV45', 'CDRSB', 'COLPROT', 'DIGITSCOR', 'DX', 'DX_bl', 'EXAMDATE',\n",
       "       'EXAMDATE_bl', 'EcogPtDivatt', 'EcogPtLang', 'EcogPtMem', 'EcogPtOrgan',\n",
       "       'EcogPtPlan', 'EcogPtTotal', 'EcogPtVisspat', 'EcogSPDivatt',\n",
       "       'EcogSPLang', 'EcogSPMem', 'EcogSPOrgan', 'EcogSPPlan', 'EcogSPTotal',\n",
       "       'EcogSPVisspat', 'Entorhinal', 'FAQ', 'FDG', 'FSVERSION',\n",
       "       'FSVERSION_bl', 'Fusiform', 'Hippocampus', 'ICV', 'IMAGEUID',\n",
       "       'LDELTOTAL', 'M', 'MMSE', 'MOCA', 'MidTemp', 'Month', 'Month_bl',\n",
       "       'ORIGPROT', 'PIB', 'PTAU', 'PTAU_bl', 'PTEDUCAT', 'PTETHCAT',\n",
       "       'PTGENDER', 'PTID', 'PTMARRY', 'PTRACCAT', 'RAVLT_forgetting',\n",
       "       'RAVLT_immediate', 'RAVLT_learning', 'RAVLT_perc_forgetting', 'RID',\n",
       "       'SITE', 'TAU', 'TAU_bl', 'TRABSCOR', 'VISCODE', 'Ventricles',\n",
       "       'WholeBrain', 'Years_bl', 'mPACCdigit', 'mPACCtrailsB', 'update_stamp'],\n",
       "      dtype='object')"
      ]
     },
     "execution_count": 193,
     "metadata": {},
     "output_type": "execute_result"
    }
   ],
   "source": [
    "# Let's see what features we have now\n",
    "baseline.columns.sort_values()"
   ]
  },
  {
   "cell_type": "markdown",
   "metadata": {},
   "source": [
    "We still have some columns that look very similar. These may contain non-numeric values such as strings or NaNs, or possibly they are really uncorrelated."
   ]
  },
  {
   "cell_type": "code",
   "execution_count": 194,
   "metadata": {},
   "outputs": [
    {
     "data": {
      "text/html": [
       "<div>\n",
       "<style scoped>\n",
       "    .dataframe tbody tr th:only-of-type {\n",
       "        vertical-align: middle;\n",
       "    }\n",
       "\n",
       "    .dataframe tbody tr th {\n",
       "        vertical-align: top;\n",
       "    }\n",
       "\n",
       "    .dataframe thead th {\n",
       "        text-align: right;\n",
       "    }\n",
       "</style>\n",
       "<table border=\"1\" class=\"dataframe\">\n",
       "  <thead>\n",
       "    <tr style=\"text-align: right;\">\n",
       "      <th></th>\n",
       "      <th>Missing Values</th>\n",
       "      <th>Baseline Missing Values</th>\n",
       "      <th>Percent Matching</th>\n",
       "    </tr>\n",
       "  </thead>\n",
       "  <tbody>\n",
       "    <tr>\n",
       "      <th>ABETA</th>\n",
       "      <td>832</td>\n",
       "      <td>866</td>\n",
       "      <td>98.366170</td>\n",
       "    </tr>\n",
       "    <tr>\n",
       "      <th>DX</th>\n",
       "      <td>25</td>\n",
       "      <td>16</td>\n",
       "      <td>24.939933</td>\n",
       "    </tr>\n",
       "    <tr>\n",
       "      <th>EXAMDATE</th>\n",
       "      <td>0</td>\n",
       "      <td>0</td>\n",
       "      <td>100.000000</td>\n",
       "    </tr>\n",
       "    <tr>\n",
       "      <th>FSVERSION</th>\n",
       "      <td>346</td>\n",
       "      <td>357</td>\n",
       "      <td>99.471408</td>\n",
       "    </tr>\n",
       "    <tr>\n",
       "      <th>PTAU</th>\n",
       "      <td>832</td>\n",
       "      <td>866</td>\n",
       "      <td>98.366170</td>\n",
       "    </tr>\n",
       "    <tr>\n",
       "      <th>TAU</th>\n",
       "      <td>832</td>\n",
       "      <td>866</td>\n",
       "      <td>98.366170</td>\n",
       "    </tr>\n",
       "  </tbody>\n",
       "</table>\n",
       "</div>"
      ],
      "text/plain": [
       "           Missing Values  Baseline Missing Values  Percent Matching\n",
       "ABETA                 832                      866         98.366170\n",
       "DX                     25                       16         24.939933\n",
       "EXAMDATE                0                        0        100.000000\n",
       "FSVERSION             346                      357         99.471408\n",
       "PTAU                  832                      866         98.366170\n",
       "TAU                   832                      866         98.366170"
      ]
     },
     "execution_count": 194,
     "metadata": {},
     "output_type": "execute_result"
    }
   ],
   "source": [
    "# Columns to check for duplicates\n",
    "cols = ['ABETA', 'DX', 'EXAMDATE','FSVERSION',  'PTAU', 'TAU']\n",
    "\n",
    "bl_missing = []\n",
    "missing = []\n",
    "matching_vals = []\n",
    "\n",
    "for col in cols:\n",
    "    missing.append(baseline[col].isnull().sum())\n",
    "    bl_missing.append(baseline[col+'_bl'].isnull().sum())\n",
    "    match = (baseline[col] == baseline[col+'_bl']).sum()\n",
    "    matching_vals.append((match + min(missing[-1], bl_missing[-1]))/len(baseline) * 100)\n",
    "                 \n",
    "# Display the results                \n",
    "bl_dupes = pd.DataFrame({'Missing Values': missing,\n",
    "                            'Baseline Missing Values': bl_missing,\n",
    "                            'Percent Matching': matching_vals}, index=cols)\n",
    "bl_dupes"
   ]
  },
  {
   "cell_type": "markdown",
   "metadata": {},
   "source": [
    "All of the pairs are nearly exact duplicates except `DX`|`DX_bl`, so we can drop one of the duplicate columns. The baseline version has slightly more missing data, so we'll drop that one. Then we'll take a look at `DX` vs.`DX_bl`."
   ]
  },
  {
   "cell_type": "code",
   "execution_count": 195,
   "metadata": {},
   "outputs": [],
   "source": [
    "# Get a list of duplicate column names to drop\n",
    "dupe_cols = [col + '_bl' for col in cols]\n",
    "\n",
    "# Remove DX_bl until we investigate further\n",
    "del dupe_cols[dupe_cols.index('DX_bl')]\n",
    "\n",
    "# Drop the columns\n",
    "baseline = baseline.drop(labels=dupe_cols, axis=1)"
   ]
  },
  {
   "cell_type": "code",
   "execution_count": 196,
   "metadata": {},
   "outputs": [
    {
     "data": {
      "text/html": [
       "<div>\n",
       "<style scoped>\n",
       "    .dataframe tbody tr th:only-of-type {\n",
       "        vertical-align: middle;\n",
       "    }\n",
       "\n",
       "    .dataframe tbody tr th {\n",
       "        vertical-align: top;\n",
       "    }\n",
       "\n",
       "    .dataframe thead th {\n",
       "        text-align: right;\n",
       "    }\n",
       "</style>\n",
       "<table border=\"1\" class=\"dataframe\">\n",
       "  <thead>\n",
       "    <tr style=\"text-align: right;\">\n",
       "      <th></th>\n",
       "      <th>DX_bl</th>\n",
       "      <th>DX</th>\n",
       "    </tr>\n",
       "  </thead>\n",
       "  <tbody>\n",
       "    <tr>\n",
       "      <th>0</th>\n",
       "      <td>CN</td>\n",
       "      <td>CN</td>\n",
       "    </tr>\n",
       "    <tr>\n",
       "      <th>1</th>\n",
       "      <td>AD</td>\n",
       "      <td>Dementia</td>\n",
       "    </tr>\n",
       "    <tr>\n",
       "      <th>5</th>\n",
       "      <td>LMCI</td>\n",
       "      <td>MCI</td>\n",
       "    </tr>\n",
       "    <tr>\n",
       "      <th>48</th>\n",
       "      <td>SMC</td>\n",
       "      <td>CN</td>\n",
       "    </tr>\n",
       "    <tr>\n",
       "      <th>2848</th>\n",
       "      <td>EMCI</td>\n",
       "      <td>MCI</td>\n",
       "    </tr>\n",
       "    <tr>\n",
       "      <th>11389</th>\n",
       "      <td>NaN</td>\n",
       "      <td>NaN</td>\n",
       "    </tr>\n",
       "  </tbody>\n",
       "</table>\n",
       "</div>"
      ],
      "text/plain": [
       "      DX_bl        DX\n",
       "0        CN        CN\n",
       "1        AD  Dementia\n",
       "5      LMCI       MCI\n",
       "48      SMC        CN\n",
       "2848   EMCI       MCI\n",
       "11389   NaN       NaN"
      ]
     },
     "execution_count": 196,
     "metadata": {},
     "output_type": "execute_result"
    }
   ],
   "source": [
    "# See how DX maps to DX_bl\n",
    "baseline.drop_duplicates('DX_bl')[['DX_bl', 'DX']]"
   ]
  },
  {
   "cell_type": "markdown",
   "metadata": {},
   "source": [
    "Although similar, the diagnoses in `DX_bl` are more specific than those in `DX`. We'll use the more standard diagnosis codes in `DX`, however `DX_bl` has slightly less missingness. We'll drop `DX` and keep `DX_bl`, but we'll remap some of the values."
   ]
  },
  {
   "cell_type": "code",
   "execution_count": 197,
   "metadata": {},
   "outputs": [],
   "source": [
    "# Drop DX\n",
    "baseline = baseline.drop(labels=['DX'], axis=1)\n",
    "\n",
    "# Remap some of the DX_bl values\n",
    "baseline.DX_bl = baseline.DX_bl.replace('LMCI','MCI')\n",
    "baseline.DX_bl = baseline.DX_bl.replace('EMCI','MCI')\n",
    "baseline.DX_bl = baseline.DX_bl.replace('SMC','CN')"
   ]
  },
  {
   "cell_type": "markdown",
   "metadata": {},
   "source": [
    "We also have some participants for which we have no diagnosis code, so these records will not be useful and can be dropped."
   ]
  },
  {
   "cell_type": "code",
   "execution_count": 198,
   "metadata": {},
   "outputs": [
    {
     "name": "stdout",
     "output_type": "stream",
     "text": [
      "Removed 16 participants with no diagnosis code.\n"
     ]
    }
   ],
   "source": [
    "missing_dx = len(baseline[baseline['DX_bl'].isnull()])\n",
    "baseline = baseline.dropna(axis=0, subset=['DX_bl'])\n",
    "print(f'Removed {missing_dx} participants with no diagnosis code.')"
   ]
  },
  {
   "cell_type": "markdown",
   "metadata": {},
   "source": [
    "`PTID` is also duplicative. It is a combination of `RID` and `SITE`."
   ]
  },
  {
   "cell_type": "code",
   "execution_count": 199,
   "metadata": {},
   "outputs": [],
   "source": [
    "baseline = baseline.drop(labels='PTID', axis=1)"
   ]
  },
  {
   "cell_type": "code",
   "execution_count": 200,
   "metadata": {},
   "outputs": [
    {
     "name": "stdout",
     "output_type": "stream",
     "text": [
      "The new shape of the baseline subset is (2065, 64).\n",
      "There are a total of 20821 missing values.\n",
      "Out of 64 features in the dataset, 44 have missing values.\n",
      "\n",
      "Quartiles of missing data:\n",
      "      Num Missing  Pct. Missing\n",
      "0.25        22.75      1.101695\n",
      "0.50       541.50     26.222760\n",
      "0.75       649.00     31.428571\n",
      "1.00      1974.00     95.593220\n"
     ]
    },
    {
     "data": {
      "text/html": [
       "<div>\n",
       "<style scoped>\n",
       "    .dataframe tbody tr th:only-of-type {\n",
       "        vertical-align: middle;\n",
       "    }\n",
       "\n",
       "    .dataframe tbody tr th {\n",
       "        vertical-align: top;\n",
       "    }\n",
       "\n",
       "    .dataframe thead th {\n",
       "        text-align: right;\n",
       "    }\n",
       "</style>\n",
       "<table border=\"1\" class=\"dataframe\">\n",
       "  <thead>\n",
       "    <tr style=\"text-align: right;\">\n",
       "      <th></th>\n",
       "      <th>Num Missing</th>\n",
       "      <th>Pct. Missing</th>\n",
       "    </tr>\n",
       "  </thead>\n",
       "  <tbody>\n",
       "    <tr>\n",
       "      <th>PIB</th>\n",
       "      <td>1974.0</td>\n",
       "      <td>95.593220</td>\n",
       "    </tr>\n",
       "    <tr>\n",
       "      <th>DIGITSCOR</th>\n",
       "      <td>1248.0</td>\n",
       "      <td>60.435835</td>\n",
       "    </tr>\n",
       "    <tr>\n",
       "      <th>AV45</th>\n",
       "      <td>956.0</td>\n",
       "      <td>46.295400</td>\n",
       "    </tr>\n",
       "    <tr>\n",
       "      <th>ABETA</th>\n",
       "      <td>816.0</td>\n",
       "      <td>39.515738</td>\n",
       "    </tr>\n",
       "    <tr>\n",
       "      <th>TAU</th>\n",
       "      <td>816.0</td>\n",
       "      <td>39.515738</td>\n",
       "    </tr>\n",
       "    <tr>\n",
       "      <th>PTAU</th>\n",
       "      <td>816.0</td>\n",
       "      <td>39.515738</td>\n",
       "    </tr>\n",
       "    <tr>\n",
       "      <th>EcogSPOrgan</th>\n",
       "      <td>670.0</td>\n",
       "      <td>32.445521</td>\n",
       "    </tr>\n",
       "    <tr>\n",
       "      <th>EcogSPDivatt</th>\n",
       "      <td>656.0</td>\n",
       "      <td>31.767554</td>\n",
       "    </tr>\n",
       "    <tr>\n",
       "      <th>EcogSPVisspat</th>\n",
       "      <td>654.0</td>\n",
       "      <td>31.670702</td>\n",
       "    </tr>\n",
       "    <tr>\n",
       "      <th>EcogSPPlan</th>\n",
       "      <td>651.0</td>\n",
       "      <td>31.525424</td>\n",
       "    </tr>\n",
       "    <tr>\n",
       "      <th>EcogSPTotal</th>\n",
       "      <td>649.0</td>\n",
       "      <td>31.428571</td>\n",
       "    </tr>\n",
       "    <tr>\n",
       "      <th>EcogSPMem</th>\n",
       "      <td>649.0</td>\n",
       "      <td>31.428571</td>\n",
       "    </tr>\n",
       "    <tr>\n",
       "      <th>EcogSPLang</th>\n",
       "      <td>648.0</td>\n",
       "      <td>31.380145</td>\n",
       "    </tr>\n",
       "    <tr>\n",
       "      <th>MOCA</th>\n",
       "      <td>647.0</td>\n",
       "      <td>31.331719</td>\n",
       "    </tr>\n",
       "    <tr>\n",
       "      <th>EcogPtOrgan</th>\n",
       "      <td>644.0</td>\n",
       "      <td>31.186441</td>\n",
       "    </tr>\n",
       "    <tr>\n",
       "      <th>FDG</th>\n",
       "      <td>643.0</td>\n",
       "      <td>31.138015</td>\n",
       "    </tr>\n",
       "    <tr>\n",
       "      <th>EcogPtDivatt</th>\n",
       "      <td>642.0</td>\n",
       "      <td>31.089588</td>\n",
       "    </tr>\n",
       "    <tr>\n",
       "      <th>EcogPtLang</th>\n",
       "      <td>640.0</td>\n",
       "      <td>30.992736</td>\n",
       "    </tr>\n",
       "    <tr>\n",
       "      <th>EcogPtVisspat</th>\n",
       "      <td>640.0</td>\n",
       "      <td>30.992736</td>\n",
       "    </tr>\n",
       "    <tr>\n",
       "      <th>EcogPtPlan</th>\n",
       "      <td>639.0</td>\n",
       "      <td>30.944310</td>\n",
       "    </tr>\n",
       "    <tr>\n",
       "      <th>EcogPtMem</th>\n",
       "      <td>638.0</td>\n",
       "      <td>30.895884</td>\n",
       "    </tr>\n",
       "    <tr>\n",
       "      <th>EcogPtTotal</th>\n",
       "      <td>638.0</td>\n",
       "      <td>30.895884</td>\n",
       "    </tr>\n",
       "    <tr>\n",
       "      <th>Entorhinal</th>\n",
       "      <td>445.0</td>\n",
       "      <td>21.549637</td>\n",
       "    </tr>\n",
       "    <tr>\n",
       "      <th>Fusiform</th>\n",
       "      <td>445.0</td>\n",
       "      <td>21.549637</td>\n",
       "    </tr>\n",
       "    <tr>\n",
       "      <th>MidTemp</th>\n",
       "      <td>445.0</td>\n",
       "      <td>21.549637</td>\n",
       "    </tr>\n",
       "    <tr>\n",
       "      <th>Hippocampus</th>\n",
       "      <td>398.0</td>\n",
       "      <td>19.273608</td>\n",
       "    </tr>\n",
       "    <tr>\n",
       "      <th>Ventricles</th>\n",
       "      <td>358.0</td>\n",
       "      <td>17.336562</td>\n",
       "    </tr>\n",
       "    <tr>\n",
       "      <th>WholeBrain</th>\n",
       "      <td>346.0</td>\n",
       "      <td>16.755448</td>\n",
       "    </tr>\n",
       "    <tr>\n",
       "      <th>APOE4</th>\n",
       "      <td>340.0</td>\n",
       "      <td>16.464891</td>\n",
       "    </tr>\n",
       "    <tr>\n",
       "      <th>FSVERSION</th>\n",
       "      <td>330.0</td>\n",
       "      <td>15.980630</td>\n",
       "    </tr>\n",
       "    <tr>\n",
       "      <th>IMAGEUID</th>\n",
       "      <td>330.0</td>\n",
       "      <td>15.980630</td>\n",
       "    </tr>\n",
       "    <tr>\n",
       "      <th>ICV</th>\n",
       "      <td>330.0</td>\n",
       "      <td>15.980630</td>\n",
       "    </tr>\n",
       "    <tr>\n",
       "      <th>TRABSCOR</th>\n",
       "      <td>26.0</td>\n",
       "      <td>1.259080</td>\n",
       "    </tr>\n",
       "    <tr>\n",
       "      <th>FAQ</th>\n",
       "      <td>13.0</td>\n",
       "      <td>0.629540</td>\n",
       "    </tr>\n",
       "    <tr>\n",
       "      <th>RAVLT_perc_forgetting</th>\n",
       "      <td>8.0</td>\n",
       "      <td>0.387409</td>\n",
       "    </tr>\n",
       "    <tr>\n",
       "      <th>ADAS13</th>\n",
       "      <td>8.0</td>\n",
       "      <td>0.387409</td>\n",
       "    </tr>\n",
       "    <tr>\n",
       "      <th>ADAS11</th>\n",
       "      <td>6.0</td>\n",
       "      <td>0.290557</td>\n",
       "    </tr>\n",
       "    <tr>\n",
       "      <th>LDELTOTAL</th>\n",
       "      <td>3.0</td>\n",
       "      <td>0.145278</td>\n",
       "    </tr>\n",
       "    <tr>\n",
       "      <th>RAVLT_forgetting</th>\n",
       "      <td>3.0</td>\n",
       "      <td>0.145278</td>\n",
       "    </tr>\n",
       "    <tr>\n",
       "      <th>RAVLT_learning</th>\n",
       "      <td>3.0</td>\n",
       "      <td>0.145278</td>\n",
       "    </tr>\n",
       "    <tr>\n",
       "      <th>RAVLT_immediate</th>\n",
       "      <td>3.0</td>\n",
       "      <td>0.145278</td>\n",
       "    </tr>\n",
       "    <tr>\n",
       "      <th>ADASQ4</th>\n",
       "      <td>3.0</td>\n",
       "      <td>0.145278</td>\n",
       "    </tr>\n",
       "    <tr>\n",
       "      <th>mPACCdigit</th>\n",
       "      <td>2.0</td>\n",
       "      <td>0.096852</td>\n",
       "    </tr>\n",
       "    <tr>\n",
       "      <th>mPACCtrailsB</th>\n",
       "      <td>2.0</td>\n",
       "      <td>0.096852</td>\n",
       "    </tr>\n",
       "  </tbody>\n",
       "</table>\n",
       "</div>"
      ],
      "text/plain": [
       "                       Num Missing  Pct. Missing\n",
       "PIB                         1974.0     95.593220\n",
       "DIGITSCOR                   1248.0     60.435835\n",
       "AV45                         956.0     46.295400\n",
       "ABETA                        816.0     39.515738\n",
       "TAU                          816.0     39.515738\n",
       "PTAU                         816.0     39.515738\n",
       "EcogSPOrgan                  670.0     32.445521\n",
       "EcogSPDivatt                 656.0     31.767554\n",
       "EcogSPVisspat                654.0     31.670702\n",
       "EcogSPPlan                   651.0     31.525424\n",
       "EcogSPTotal                  649.0     31.428571\n",
       "EcogSPMem                    649.0     31.428571\n",
       "EcogSPLang                   648.0     31.380145\n",
       "MOCA                         647.0     31.331719\n",
       "EcogPtOrgan                  644.0     31.186441\n",
       "FDG                          643.0     31.138015\n",
       "EcogPtDivatt                 642.0     31.089588\n",
       "EcogPtLang                   640.0     30.992736\n",
       "EcogPtVisspat                640.0     30.992736\n",
       "EcogPtPlan                   639.0     30.944310\n",
       "EcogPtMem                    638.0     30.895884\n",
       "EcogPtTotal                  638.0     30.895884\n",
       "Entorhinal                   445.0     21.549637\n",
       "Fusiform                     445.0     21.549637\n",
       "MidTemp                      445.0     21.549637\n",
       "Hippocampus                  398.0     19.273608\n",
       "Ventricles                   358.0     17.336562\n",
       "WholeBrain                   346.0     16.755448\n",
       "APOE4                        340.0     16.464891\n",
       "FSVERSION                    330.0     15.980630\n",
       "IMAGEUID                     330.0     15.980630\n",
       "ICV                          330.0     15.980630\n",
       "TRABSCOR                      26.0      1.259080\n",
       "FAQ                           13.0      0.629540\n",
       "RAVLT_perc_forgetting          8.0      0.387409\n",
       "ADAS13                         8.0      0.387409\n",
       "ADAS11                         6.0      0.290557\n",
       "LDELTOTAL                      3.0      0.145278\n",
       "RAVLT_forgetting               3.0      0.145278\n",
       "RAVLT_learning                 3.0      0.145278\n",
       "RAVLT_immediate                3.0      0.145278\n",
       "ADASQ4                         3.0      0.145278\n",
       "mPACCdigit                     2.0      0.096852\n",
       "mPACCtrailsB                   2.0      0.096852"
      ]
     },
     "execution_count": 200,
     "metadata": {},
     "output_type": "execute_result"
    }
   ],
   "source": [
    "print(\"The new shape of the baseline subset is {}.\".format(baseline.shape))\n",
    "utils.calculate_missing_data(baseline)"
   ]
  },
  {
   "cell_type": "markdown",
   "metadata": {},
   "source": [
    "In the new dataset, it is clear that `PIB` will not be useful and can be removed. PIB or *PiB* stands for **Pi**ttsburgh Compound-**B** - a synthetic radiotracer developed for use in PET scans to visualize and measure A$\\beta$ deposits in the brain."
   ]
  },
  {
   "cell_type": "code",
   "execution_count": 201,
   "metadata": {},
   "outputs": [],
   "source": [
    "baseline = baseline.drop(labels='PIB', axis=1)"
   ]
  },
  {
   "cell_type": "markdown",
   "metadata": {},
   "source": [
    "Remove other features that won't be helpful in predicting AD, such as `SITE`, `Month`, `EXAMDATE`, etc."
   ]
  },
  {
   "cell_type": "code",
   "execution_count": 202,
   "metadata": {},
   "outputs": [],
   "source": [
    "baseline = baseline.drop(labels=['update_stamp', 'Years_bl', 'SITE', 'VISCODE', 'COLPROT', 'ORIGPROT',\n",
    "                                 'Month_bl', 'Month', 'M', 'EXAMDATE', 'IMAGEUID'], axis=1)"
   ]
  },
  {
   "cell_type": "code",
   "execution_count": 203,
   "metadata": {},
   "outputs": [
    {
     "data": {
      "text/plain": [
       "Index(['ABETA', 'ADAS11', 'ADAS13', 'ADASQ4', 'AGE', 'APOE4', 'AV45', 'CDRSB',\n",
       "       'DIGITSCOR', 'DX_bl', 'EcogPtDivatt', 'EcogPtLang', 'EcogPtMem',\n",
       "       'EcogPtOrgan', 'EcogPtPlan', 'EcogPtTotal', 'EcogPtVisspat',\n",
       "       'EcogSPDivatt', 'EcogSPLang', 'EcogSPMem', 'EcogSPOrgan', 'EcogSPPlan',\n",
       "       'EcogSPTotal', 'EcogSPVisspat', 'Entorhinal', 'FAQ', 'FDG', 'FSVERSION',\n",
       "       'Fusiform', 'Hippocampus', 'ICV', 'LDELTOTAL', 'MMSE', 'MOCA',\n",
       "       'MidTemp', 'PTAU', 'PTEDUCAT', 'PTETHCAT', 'PTGENDER', 'PTMARRY',\n",
       "       'PTRACCAT', 'RAVLT_forgetting', 'RAVLT_immediate', 'RAVLT_learning',\n",
       "       'RAVLT_perc_forgetting', 'RID', 'TAU', 'TRABSCOR', 'Ventricles',\n",
       "       'WholeBrain', 'mPACCdigit', 'mPACCtrailsB'],\n",
       "      dtype='object')"
      ]
     },
     "execution_count": 203,
     "metadata": {},
     "output_type": "execute_result"
    }
   ],
   "source": [
    "# Let's see what features we have now\n",
    "baseline.columns.sort_values()"
   ]
  },
  {
   "cell_type": "markdown",
   "metadata": {},
   "source": [
    "We have some non-numeric data in `ABETA`, `TAU`, and `PTAU`, such as '>1300' or '<80'. We'll remove the `>` and `<` characters and change the dtype to float64."
   ]
  },
  {
   "cell_type": "code",
   "execution_count": 204,
   "metadata": {},
   "outputs": [],
   "source": [
    "# remove < or > \n",
    "def remove_gt_lt(val):\n",
    "    if type(val) == str:\n",
    "        return float(val.replace('>', '').replace('<', ''))\n",
    "    else:\n",
    "        return val\n",
    "    \n",
    "    \n",
    "for col in ['ABETA', 'TAU', 'PTAU']:\n",
    "    values = baseline[col].values\n",
    "    baseline[col] = list(map(remove_gt_lt, values))"
   ]
  },
  {
   "cell_type": "code",
   "execution_count": 205,
   "metadata": {},
   "outputs": [],
   "source": [
    "baseline['PTEDUCAT'] = baseline.PTEDUCAT.astype('float')"
   ]
  },
  {
   "cell_type": "markdown",
   "metadata": {},
   "source": [
    "At this point, we have cleaned the data by removing duplicate/highly correlated or informationless features and filling in missing values that can be found within the collected data. To deal with the remaining missingness, we will impute values. But first we have to make a decision about whether to normalize the data before or after imputation. We have decided to standardize the data before imputing missing values. We reason that imputing on the data before standardization may cover up or dilute any bias present in the data. Also, standardizing the data before imputation is preferred if we use modeling to impute missing data."
   ]
  },
  {
   "cell_type": "markdown",
   "metadata": {},
   "source": [
    "There are additional (potentially valuable) data that are not included in the Merged data set. These data have been cleaned and put into a format such that we can join them to the merged data set. We will do that before performing any imputation."
   ]
  },
  {
   "cell_type": "code",
   "execution_count": 206,
   "metadata": {},
   "outputs": [],
   "source": [
    "# First set the baseline indext to 'RID'\n",
    "baseline.index = baseline['RID']\n",
    "baseline = baseline.drop(labels='RID', axis=1)"
   ]
  },
  {
   "cell_type": "code",
   "execution_count": 207,
   "metadata": {},
   "outputs": [],
   "source": [
    "# Read in the additional patient data. Use RID as the index column\n",
    "pat_data = pd.read_csv('../data/Per_Patient/patient_firstidx_merge.csv', index_col='RID', na_values='-1')"
   ]
  },
  {
   "cell_type": "markdown",
   "metadata": {},
   "source": [
    "Let's identify and remove any duplicate columns."
   ]
  },
  {
   "cell_type": "code",
   "execution_count": 208,
   "metadata": {},
   "outputs": [
    {
     "name": "stdout",
     "output_type": "stream",
     "text": [
      "Dropped duplicate columns: ['PTMARRY', 'PTRACCAT', 'PTGENDER', 'PTAU', 'PTETHCAT', 'ABETA', 'PTEDUCAT', 'TAU']\n"
     ]
    }
   ],
   "source": [
    "dupes = list(set(baseline.columns) & set(pat_data.columns))\n",
    "pat_data = pat_data.drop(labels=dupes, axis=1)\n",
    "print(f'Dropped duplicate columns: {dupes}')"
   ]
  },
  {
   "cell_type": "markdown",
   "metadata": {},
   "source": [
    "Now we'll merge the data sets and remove and remaining columns that have too much missing data."
   ]
  },
  {
   "cell_type": "code",
   "execution_count": 209,
   "metadata": {},
   "outputs": [],
   "source": [
    "# Merge baseline with pat_data\n",
    "pat_comb = pd.merge(baseline, pat_data, on='RID')"
   ]
  },
  {
   "cell_type": "code",
   "execution_count": 210,
   "metadata": {},
   "outputs": [
    {
     "name": "stdout",
     "output_type": "stream",
     "text": [
      "Dropped columns due to missingness:\n",
      " {'HMT88', 'HMT89', 'MH14AALCH', 'HMT91', 'HMT53', 'MH16ASMOK', 'HMT72', 'DXNORM', 'HMT49', 'HMT90', 'MH15ADRUG', 'HMT97', 'HMT65', 'HMT20', 'HMT57', 'MH16CSMOK', 'HMT70', 'HMT94', 'HMT76', 'HMT68', 'HMT79', 'HMT61', 'HMT52', 'HMT56', 'HMT86', 'HMT96', 'HMT84', 'HMT81', 'HMT50', 'HMT55', 'HMT69', 'HMT99', 'HMT66', 'MH14BALCH', 'HMT75', 'HMT59', 'HMT21', 'HMT62', 'HMT98', 'HMT85', 'HMT74', 'HMT64', 'MH15BDRUG', 'HMT82', 'HMT92', 'MH16BSMOK', 'MH14CALCH', 'DXNODEP', 'HMT78', 'HMT77', 'HMT95', 'HMT54', 'HMT80', 'DXOTHDEM', 'HMT48', 'HMT63', 'HMT67', 'HMT93', 'HMT60', 'HMT83', 'HMT87', 'HMT58'}\n"
     ]
    }
   ],
   "source": [
    "cols = pat_comb.columns.values\n",
    "\n",
    "# Drop columns that don't have at least 20% non-NA values\n",
    "pat_comb = pat_comb.dropna(axis='columns', thresh=np.floor(pat_comb.shape[0] * .2))\n",
    "\n",
    "print('Dropped columns due to missingness:\\n', set(cols) ^ set(pat_comb.columns.values))"
   ]
  },
  {
   "cell_type": "code",
   "execution_count": 211,
   "metadata": {},
   "outputs": [],
   "source": [
    "pat_comb.to_csv('../data/Per_Patient/pat_merge_b4_impute.csv')"
   ]
  },
  {
   "cell_type": "markdown",
   "metadata": {},
   "source": [
    "Now we will prepare the categorical variables. Depending on the study, some categorical features use text values like `AD`, `MCI`, `MALE`, `FEMALE`, etc., and some use numerical codes. The per-patient data have been cleaned to and standardized to use numeric values. We will read in a file that identifies the correct dtypes per column.\n",
    "\n",
    "Let's prepare the categorical features and make sure the `dtypes` are appropriate."
   ]
  },
  {
   "cell_type": "code",
   "execution_count": 174,
   "metadata": {},
   "outputs": [],
   "source": [
    "# Import the dtypes. Categorical variables are represented as int64 as opposed to floats.\n",
    "dtypes = pd.read_csv('../data/Per_Patient/patient_firstidx_dtypes.csv', index_col='feature_name')\n",
    "\n",
    "# Categoricals from baseline\n",
    "categoricals = ['PTETHCAT', 'PTGENDER', 'PTRACCAT', 'PTMARRY', 'FSVERSION', 'APOE4', 'DX_bl']\n",
    "\n",
    "# Collect categorical columns from pat_data based on dtype=int64\n",
    "for i in dtypes.index:\n",
    "    # RID is the index so skip it\n",
    "    if i == 'RID':\n",
    "        continue\n",
    "    # If dtype is int, the it's categorical\n",
    "    if 'int' in dtypes.loc[i].data_type and i in pat_comb.columns:\n",
    "        categoricals.append(i)\n",
    "        \n",
    "# Remove any dupes\n",
    "categoricals = list(set(categoricals))"
   ]
  },
  {
   "cell_type": "markdown",
   "metadata": {},
   "source": [
    "At this point, we have cleaned the data by removing duplicate/highly correlated or informationless features and filling in missing values that can be found within the collected data. To deal with the remaining missingness, we will impute values. But first we have to make a decision about whether to normalize the data before or after imputation. We have decided to standardize the data before imputing missing values. We reason that imputing on the data before standardization may cover up or dilute any bias present in the data. Also, standardizing the data before imputation is preferred if we use modeling to impute missing data."
   ]
  },
  {
   "cell_type": "code",
   "execution_count": 175,
   "metadata": {},
   "outputs": [],
   "source": [
    "# Scale all columns that are non-categorical\n",
    "non_cat = list(set(pat_comb.columns) ^ set(categoricals))\n",
    "pat_comb = utils.standardize_cols(data=pat_comb, cols=non_cat, scaler=MinMaxScaler())"
   ]
  },
  {
   "cell_type": "markdown",
   "metadata": {},
   "source": [
    "Save the file before imputing."
   ]
  },
  {
   "cell_type": "markdown",
   "metadata": {},
   "source": [
    "Impute missing categorical variables:"
   ]
  },
  {
   "cell_type": "code",
   "execution_count": 82,
   "metadata": {},
   "outputs": [
    {
     "name": "stderr",
     "output_type": "stream",
     "text": [
      "/Users/jamesmay/anaconda3/lib/python3.6/site-packages/sklearn/model_selection/_search.py:841: DeprecationWarning: The default of the `iid` parameter will change from True to False in version 0.22 and will be removed in 0.24. This will change numeric results when test-set sizes are unequal.\n",
      "  DeprecationWarning)\n"
     ]
    }
   ],
   "source": [
    "params = { \n",
    "    \"base_estimator__criterion\": [\"gini\", \"entropy\"],\n",
    "    \"base_estimator__splitter\":   [\"best\", \"random\"],\n",
    "    \"n_estimators\": [20, 50, 100]\n",
    "}\n",
    "\n",
    "dtc = DecisionTreeClassifier(max_features=\"auto\", class_weight=\"balanced\", max_depth=None)\n",
    "ada = AdaBoostClassifier(base_estimator=dtc)\n",
    "pat_comb, ada_scores = utils.impute_values_classification(pat_comb,\n",
    "                                                      cols=categoricals,\n",
    "                                                      estimator=ada,\n",
    "                                                      param_grid=params)"
   ]
  },
  {
   "cell_type": "markdown",
   "metadata": {},
   "source": [
    "Impute missing continuous variables."
   ]
  },
  {
   "cell_type": "code",
   "execution_count": 83,
   "metadata": {},
   "outputs": [
    {
     "name": "stderr",
     "output_type": "stream",
     "text": [
      "/Users/jamesmay/anaconda3/lib/python3.6/site-packages/sklearn/model_selection/_search.py:841: DeprecationWarning: The default of the `iid` parameter will change from True to False in version 0.22 and will be removed in 0.24. This will change numeric results when test-set sizes are unequal.\n",
      "  DeprecationWarning)\n",
      "/Users/jamesmay/anaconda3/lib/python3.6/site-packages/sklearn/model_selection/_search.py:841: DeprecationWarning: The default of the `iid` parameter will change from True to False in version 0.22 and will be removed in 0.24. This will change numeric results when test-set sizes are unequal.\n",
      "  DeprecationWarning)\n",
      "/Users/jamesmay/anaconda3/lib/python3.6/site-packages/sklearn/model_selection/_search.py:841: DeprecationWarning: The default of the `iid` parameter will change from True to False in version 0.22 and will be removed in 0.24. This will change numeric results when test-set sizes are unequal.\n",
      "  DeprecationWarning)\n"
     ]
    }
   ],
   "source": [
    "a"
   ]
  },
  {
   "cell_type": "code",
   "execution_count": 85,
   "metadata": {},
   "outputs": [],
   "source": [
    "pat_comb.to_csv('../data/Per_Patient/pat_merge_imputed_lasso_ada.csv')"
   ]
  }
 ],
 "metadata": {
  "kernelspec": {
   "display_name": "Python 3",
   "language": "python",
   "name": "python3"
  },
  "language_info": {
   "codemirror_mode": {
    "name": "ipython",
    "version": 3
   },
   "file_extension": ".py",
   "mimetype": "text/x-python",
   "name": "python",
   "nbconvert_exporter": "python",
   "pygments_lexer": "ipython3",
   "version": "3.6.6"
  },
  "varInspector": {
   "cols": {
    "lenName": 16,
    "lenType": 16,
    "lenVar": 40
   },
   "kernels_config": {
    "python": {
     "delete_cmd_postfix": "",
     "delete_cmd_prefix": "del ",
     "library": "var_list.py",
     "varRefreshCmd": "print(var_dic_list())"
    },
    "r": {
     "delete_cmd_postfix": ") ",
     "delete_cmd_prefix": "rm(",
     "library": "var_list.r",
     "varRefreshCmd": "cat(var_dic_list()) "
    }
   },
   "types_to_exclude": [
    "module",
    "function",
    "builtin_function_or_method",
    "instance",
    "_Feature"
   ],
   "window_display": false
  }
 },
 "nbformat": 4,
 "nbformat_minor": 2
}
