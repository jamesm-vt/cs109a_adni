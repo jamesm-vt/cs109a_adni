{
 "cells": [
  {
   "cell_type": "markdown",
   "metadata": {},
   "source": [
    "# ADNI Merge"
   ]
  },
  {
   "cell_type": "code",
   "execution_count": 1,
   "metadata": {},
   "outputs": [
    {
     "data": {
      "text/html": [
       "<style>\n",
       "    table {\n",
       "        display: inline-block\n",
       "    }\n",
       "    .rendered_html td, .rendered_html th {text-align: left;}\n",
       "</style>"
      ],
      "text/plain": [
       "<IPython.core.display.HTML object>"
      ]
     },
     "execution_count": 1,
     "metadata": {},
     "output_type": "execute_result"
    }
   ],
   "source": [
    "from IPython.core.display import HTML\n",
    "with open(\"./project.css\") as css:\n",
    "    styles = css.read()\n",
    "HTML(styles)"
   ]
  },
  {
   "cell_type": "markdown",
   "metadata": {},
   "source": [
    "## ADNI\n",
    "\n",
    "The overarching goal of the Alzheimer's Disease Neuroimaging Initiative (ADNI) is to identify biomarkers of Alzheimer’s disease. Specifically the study aims at identifying those biomarkers that can be used in the earliest (pre-dementia) prediction of Alzheimer's Disease (AD). The study began in 2004, a time when biomarkers for Alzheimer’s disease which could be used for diagnostics in pre-dementia individuals were virtually unknown. There are four categories of biomarkers in the scope of the initiative: (clinical, imaging, genetic, and biochemical).\n",
    "\n",
    "There have been ADNI 4 study phases to date with the following goals:\n",
    "\n",
    "<!-- Begin ADNI Phase table -->\n",
    "\n",
    "| Study Phase | Goal | Dates | Cohort |\n",
    "|:---: |:--- |:--- | --- |\n",
    "| ADNI 1 | Develop biomarkers as outcome measures for clinical trials | 2004-2009 | 200 elderly controls<br>400 MCI<br>200 AD |\n",
    "| ADNI GO | Examine biomarkers in earlier stages of disease | 2009-2011 | Existing ADNI-1 +<br>200 early MCI |\n",
    "| ADNI 2 | Develop biomarkers as predictors of cognitive decline, and as outcome measures | 2011-2016 | Existing ADNI-1 and ADNI-GO +<br>150 elderly controls<br>100 early MCI<br>150 late MCI<br>150 AD |\n",
    "| ADNI 3 | Study the use of tau PET and functional imaging techniques in clinical trials | 2016 - present | Existing ADNI-1, ADNI-GO, ADNI-2 +<br>133 elderly controls<br>151 MCI<br>87 AD |\n",
    "\n",
    "<!-- End ADNI phase table -->"
   ]
  },
  {
   "cell_type": "markdown",
   "metadata": {},
   "source": [
    "## ADNI Data\n",
    "Before looking at a single observation or feature, there is a lot of information we can glean from reviewing ADNI metadata. There are over 250 datasets in the ADNI data inventory spanning the 4 study phases (ADNI 1, GO, 2, 3) - and this number does not include the archives. These studies are longitudinal. ADNI-1 started in 2004 and ADNI-3 continues today. Although there is potentially a wealth of information, insights, and predictive power in these data, their data collection methods and longitudinal nature present many challenges.\n",
    "\n",
    "One challenge is that all biometrics within the scope of the study are not collected across all study phases. Also, within each phase, not all participants had all measurements taken. For example, in ADNI-1, $100\\%$ of the cohort had a 1.5 Tesla (1.5T) MRI, $50\\%$ had a PET scan. Of the $50\\%$ that didn't have a PET scan, $25\\%$ had a 3T MRI. Finally, only $20\\%$ of the ADNI-1 cohort had a lumbar puncture (L.P.) to collect cerebral spinal fluid (CSF).\n",
    "\n",
    "Other data challenges are related to the longitudinal nature of the studies across the different phases. In each successive phase of the study, participants were rolled over from previous phases while new participants were also added - *(cohort details can be seen in the table above)*. However, existing participants in the study must provide their consent to be included in each subsequent phase. Furthermore, an obvious, but nonetheless real, complication with this population is that a participant could be removed from the study at any time due to significant deterioration in health or death. \n",
    "\n",
    "The result is that each phase of the study produces a richer set of longitudinal data than the previous study because of the rollover participants. The downside of this design is the inherent introduction of missingness into the data due to the recently joined participants."
   ]
  },
  {
   "cell_type": "markdown",
   "metadata": {},
   "source": [
    "### An initial look at the data.\n",
    "Given the breadth of available data and the challenges mentioned above, deciding what data to use to start EDA is a non-trivial task. Fortunately, there is a combined dataset available consisting of key ADNI tables merged into a single table based on the patient identifier or `RID`. As is common with most ADNI datasets, each observation represents a single visit for a participant. This means that a single participant (`RID`) may appear multiple times in the dataset. The number of occurrences will generally depend on what phase the participant entered the study.\n",
    "\n",
    "Let's take an initial look at the merged dataset."
   ]
  },
  {
   "cell_type": "code",
   "execution_count": 2,
   "metadata": {},
   "outputs": [
    {
     "data": {
      "text/plain": [
       "'\\nconda config --add channels conda-forge\\nconda install -y mlxtend\\nconda update -y pandas\\nconda update -y numpy\\nconda update -y scikit-learn --no-channel-priority\\n'"
      ]
     },
     "execution_count": 2,
     "metadata": {},
     "output_type": "execute_result"
    }
   ],
   "source": [
    "# imports\n",
    "import pandas as pd\n",
    "import numpy as np\n",
    "import matplotlib.pyplot as plt\n",
    "import ADNI_utilities as utils\n",
    "\n",
    "from pandas.plotting import scatter_matrix\n",
    "from sklearn.preprocessing import MinMaxScaler\n",
    "from sklearn.multiclass import OneVsRestClassifier\n",
    "from sklearn.neighbors import KNeighborsClassifier\n",
    "from sklearn.svm import LinearSVC\n",
    "from sklearn.svm import SVC\n",
    "from sklearn.tree import DecisionTreeClassifier\n",
    "from sklearn.ensemble import AdaBoostClassifier\n",
    "from sklearn.ensemble import BaggingClassifier\n",
    "from sklearn.ensemble import RandomForestRegressor\n",
    "from sklearn.gaussian_process import GaussianProcessClassifier\n",
    "from sklearn.gaussian_process.kernels import RationalQuadratic\n",
    "from sklearn.gaussian_process.kernels import RBF\n",
    "from sklearn import linear_model\n",
    "from sklearn.linear_model import LogisticRegression\n",
    "from sklearn.svm import SVR\n",
    "\n",
    "\n",
    "### Stacking libraries require mlxtend\n",
    "### conda install mlxtend --channel conda-forge\n",
    "from mlxtend.classifier import StackingCVClassifier\n",
    "from mlxtend.regressor import StackingCVRegressor\n",
    "\n",
    "# Use the following to install mlxtend and to\n",
    "# update other libs to required (latest) versions\n",
    "\"\"\"\n",
    "conda config --add channels conda-forge\n",
    "conda install -y mlxtend\n",
    "conda update -y pandas\n",
    "conda update -y numpy\n",
    "conda update -y scikit-learn --no-channel-priority\n",
    "\"\"\""
   ]
  },
  {
   "cell_type": "code",
   "execution_count": 3,
   "metadata": {},
   "outputs": [],
   "source": [
    "adni_merge = pd.read_csv('../data/ADNIMERGE.csv', low_memory=False)"
   ]
  },
  {
   "cell_type": "code",
   "execution_count": 4,
   "metadata": {},
   "outputs": [
    {
     "name": "stdout",
     "output_type": "stream",
     "text": [
      "The shape of the dataset is (13632, 113).\n",
      "There are 2081 unique participants in the dataset.\n",
      "There is an average of 6.55 rows in the data per participant.\n"
     ]
    }
   ],
   "source": [
    "print(\"The shape of the dataset is {}.\".format(adni_merge.shape))\n",
    "print(\"There are {} unique participants in the dataset.\"\n",
    "      .format(len(adni_merge.RID.unique())))\n",
    "print(\"There is an average of {:.2f} rows in the data per participant.\"\n",
    "      .format(len(adni_merge)/len(adni_merge.RID.unique())))"
   ]
  },
  {
   "cell_type": "markdown",
   "metadata": {},
   "source": [
    "As seen above, the dataset contains $2081$ unique study participants spanning $13632$ visits. The data is longitudinal based on participant visits spaced roughly six months apart. The `VISCODE` feature represents the visit in which the measurements and evaluations were captured. The initial evaluation measurements are identified by `VISCODE` = `'bl'`, which stands for baseline. Below are the unique `VISCODE` values in the dataset:"
   ]
  },
  {
   "cell_type": "code",
   "execution_count": 5,
   "metadata": {},
   "outputs": [
    {
     "data": {
      "text/plain": [
       "array(['bl', 'm03', 'm06', 'm12', 'm18', 'm24', 'm36', 'm30', 'm42',\n",
       "       'm48', 'm54', 'm60', 'm66', 'm72', 'm78', 'm84', 'm90', 'm96',\n",
       "       'm102', 'm108', 'm114', 'm120', 'm126', 'm132', 'm144', 'm156'],\n",
       "      dtype=object)"
      ]
     },
     "execution_count": 5,
     "metadata": {},
     "output_type": "execute_result"
    }
   ],
   "source": [
    "adni_merge.sort_values(by='Month')['VISCODE'].unique()"
   ]
  },
  {
   "cell_type": "markdown",
   "metadata": {},
   "source": [
    "Let's visualize the number of study participants per `VISCODE`."
   ]
  },
  {
   "cell_type": "code",
   "execution_count": 6,
   "metadata": {},
   "outputs": [
    {
     "data": {
      "image/png": "[encoded data removed]",
      "text/plain": [
       "<Figure size 1008x576 with 1 Axes>"
      ]
     },
     "metadata": {},
     "output_type": "display_data"
    }
   ],
   "source": [
    "# M represents months since the last visit (0 = baseline/initial visit)\n",
    "adni_by_month = adni_merge.groupby(by='M').count()\n",
    "particpants = adni_by_month['RID']\n",
    "visits = adni_merge.sort_values(by='M')['VISCODE'].unique()\n",
    "\n",
    "fig, ax = plt.subplots(1, 1, figsize=(14,8))\n",
    "\n",
    "ax.set_title('Number of participants per visit', size=17)\n",
    "ax.set_xticks(range(0, 26, 2))\n",
    "ax.set_xlabel('Visit Code (indicates months since inital baseline visit)', size=14)\n",
    "ax.set_ylabel('Participants', size=14)\n",
    "ax.bar(visits, particpants)\n",
    "\n",
    "plt.show()"
   ]
  },
  {
   "cell_type": "markdown",
   "metadata": {},
   "source": [
    "Based on the design of the study as discussed above, we expect there to be a lot of missing data in this data set. Let's take a look."
   ]
  },
  {
   "cell_type": "code",
   "execution_count": 7,
   "metadata": {},
   "outputs": [
    {
     "name": "stdout",
     "output_type": "stream",
     "text": [
      "There are a total of 507270 missing values.\n",
      "Out of 113 features in the dataset, 93 have missing values.\n",
      "\n",
      "Quartiles of missing data:\n",
      "      Num Missing  Pct. Missing\n",
      "0.25       3839.0     28.161678\n",
      "0.50       6185.0     45.371185\n",
      "0.75       7758.0     56.910211\n",
      "1.00      13632.0    100.000000\n"
     ]
    },
    {
     "data": {
      "text/html": [
       "<div>\n",
       "<style scoped>\n",
       "    .dataframe tbody tr th:only-of-type {\n",
       "        vertical-align: middle;\n",
       "    }\n",
       "\n",
       "    .dataframe tbody tr th {\n",
       "        vertical-align: top;\n",
       "    }\n",
       "\n",
       "    .dataframe thead th {\n",
       "        text-align: right;\n",
       "    }\n",
       "</style>\n",
       "<table border=\"1\" class=\"dataframe\">\n",
       "  <thead>\n",
       "    <tr style=\"text-align: right;\">\n",
       "      <th></th>\n",
       "      <th>Num Missing</th>\n",
       "      <th>Pct. Missing</th>\n",
       "    </tr>\n",
       "  </thead>\n",
       "  <tbody>\n",
       "    <tr>\n",
       "      <th>FLDSTRENG_bl</th>\n",
       "      <td>13632.0</td>\n",
       "      <td>100.000000</td>\n",
       "    </tr>\n",
       "    <tr>\n",
       "      <th>FLDSTRENG</th>\n",
       "      <td>13632.0</td>\n",
       "      <td>100.000000</td>\n",
       "    </tr>\n",
       "    <tr>\n",
       "      <th>PIB_bl</th>\n",
       "      <td>13483.0</td>\n",
       "      <td>98.906984</td>\n",
       "    </tr>\n",
       "    <tr>\n",
       "      <th>PIB</th>\n",
       "      <td>13409.0</td>\n",
       "      <td>98.364143</td>\n",
       "    </tr>\n",
       "    <tr>\n",
       "      <th>PTAU</th>\n",
       "      <td>11262.0</td>\n",
       "      <td>82.614437</td>\n",
       "    </tr>\n",
       "    <tr>\n",
       "      <th>ABETA</th>\n",
       "      <td>11261.0</td>\n",
       "      <td>82.607101</td>\n",
       "    </tr>\n",
       "    <tr>\n",
       "      <th>TAU</th>\n",
       "      <td>11261.0</td>\n",
       "      <td>82.607101</td>\n",
       "    </tr>\n",
       "    <tr>\n",
       "      <th>AV45</th>\n",
       "      <td>11122.0</td>\n",
       "      <td>81.587441</td>\n",
       "    </tr>\n",
       "    <tr>\n",
       "      <th>FDG</th>\n",
       "      <td>10125.0</td>\n",
       "      <td>74.273768</td>\n",
       "    </tr>\n",
       "    <tr>\n",
       "      <th>DIGITSCOR</th>\n",
       "      <td>9832.0</td>\n",
       "      <td>72.124413</td>\n",
       "    </tr>\n",
       "  </tbody>\n",
       "</table>\n",
       "</div>"
      ],
      "text/plain": [
       "              Num Missing  Pct. Missing\n",
       "FLDSTRENG_bl      13632.0    100.000000\n",
       "FLDSTRENG         13632.0    100.000000\n",
       "PIB_bl            13483.0     98.906984\n",
       "PIB               13409.0     98.364143\n",
       "PTAU              11262.0     82.614437\n",
       "ABETA             11261.0     82.607101\n",
       "TAU               11261.0     82.607101\n",
       "AV45              11122.0     81.587441\n",
       "FDG               10125.0     74.273768\n",
       "DIGITSCOR          9832.0     72.124413"
      ]
     },
     "execution_count": 7,
     "metadata": {},
     "output_type": "execute_result"
    }
   ],
   "source": [
    "# Calculate missing data\n",
    "missing_data = utils.calculate_missing_data(adni_merge)\n",
    "\n",
    "# Look at the top 10 columns in terms of missing values\n",
    "missing_data.head(10)"
   ]
  },
  {
   "cell_type": "markdown",
   "metadata": {},
   "source": [
    "We've noticed that the numbers of non-null values for `PTAU`, `ABETA`, and `TAU` are suspiciously close to the number of unique participants. The fact that these features all have almost the exact same number of missing values could be an artifact of how and when these data were collected. Perhaps these were collected on the initial baseline `bl` visit."
   ]
  },
  {
   "cell_type": "code",
   "execution_count": 8,
   "metadata": {},
   "outputs": [
    {
     "data": {
      "text/html": [
       "<div>\n",
       "<style scoped>\n",
       "    .dataframe tbody tr th:only-of-type {\n",
       "        vertical-align: middle;\n",
       "    }\n",
       "\n",
       "    .dataframe tbody tr th {\n",
       "        vertical-align: top;\n",
       "    }\n",
       "\n",
       "    .dataframe thead th {\n",
       "        text-align: right;\n",
       "    }\n",
       "</style>\n",
       "<table border=\"1\" class=\"dataframe\">\n",
       "  <thead>\n",
       "    <tr style=\"text-align: right;\">\n",
       "      <th></th>\n",
       "      <th>Num Missing</th>\n",
       "      <th>Pct. Missing</th>\n",
       "      <th>Num Values Present</th>\n",
       "      <th>Num Participants</th>\n",
       "    </tr>\n",
       "  </thead>\n",
       "  <tbody>\n",
       "    <tr>\n",
       "      <th>TAU</th>\n",
       "      <td>11261.0</td>\n",
       "      <td>82.607101</td>\n",
       "      <td>2371.0</td>\n",
       "      <td>2081</td>\n",
       "    </tr>\n",
       "    <tr>\n",
       "      <th>PTAU</th>\n",
       "      <td>11262.0</td>\n",
       "      <td>82.614437</td>\n",
       "      <td>2370.0</td>\n",
       "      <td>2081</td>\n",
       "    </tr>\n",
       "    <tr>\n",
       "      <th>ABETA</th>\n",
       "      <td>11261.0</td>\n",
       "      <td>82.607101</td>\n",
       "      <td>2371.0</td>\n",
       "      <td>2081</td>\n",
       "    </tr>\n",
       "  </tbody>\n",
       "</table>\n",
       "</div>"
      ],
      "text/plain": [
       "       Num Missing  Pct. Missing  Num Values Present  Num Participants\n",
       "TAU        11261.0     82.607101              2371.0              2081\n",
       "PTAU       11262.0     82.614437              2370.0              2081\n",
       "ABETA      11261.0     82.607101              2371.0              2081"
      ]
     },
     "execution_count": 8,
     "metadata": {},
     "output_type": "execute_result"
    }
   ],
   "source": [
    "missing_proteins = missing_data.loc[['TAU', 'PTAU', 'ABETA']]\n",
    "missing_proteins['Num Values Present'] = len(adni_merge) - missing_proteins['Num Missing']\n",
    "missing_proteins['Num Participants'] = len(adni_merge.RID.unique())\n",
    "missing_proteins"
   ]
  },
  {
   "cell_type": "markdown",
   "metadata": {},
   "source": [
    "There are many options to deal with the variable number of visits in the merged data set. Instead of vertically stacking the visits as in the merged dataset, we could split on `VISCODE` and stack the data *horizontally* creating wide rows with many more features. However, this is essentially transposing the data and moving the missing values from deep columns to wide rows. Another option is to split the data into multiple subsets of data based on `VISCODE` and deal with them separately. As shown in the \"*Participants per visit*\" figure, every participant had at least a baseline visit. This subset should provide the most complete and uniform representation of the data."
   ]
  },
  {
   "cell_type": "code",
   "execution_count": 9,
   "metadata": {},
   "outputs": [
    {
     "name": "stdout",
     "output_type": "stream",
     "text": [
      "Shape of the baseline visit subset:  (2081, 113)\n"
     ]
    },
    {
     "data": {
      "text/html": [
       "<div>\n",
       "<style scoped>\n",
       "    .dataframe tbody tr th:only-of-type {\n",
       "        vertical-align: middle;\n",
       "    }\n",
       "\n",
       "    .dataframe tbody tr th {\n",
       "        vertical-align: top;\n",
       "    }\n",
       "\n",
       "    .dataframe thead th {\n",
       "        text-align: right;\n",
       "    }\n",
       "</style>\n",
       "<table border=\"1\" class=\"dataframe\">\n",
       "  <thead>\n",
       "    <tr style=\"text-align: right;\">\n",
       "      <th></th>\n",
       "      <th>RID</th>\n",
       "      <th>PTID</th>\n",
       "      <th>VISCODE</th>\n",
       "      <th>SITE</th>\n",
       "      <th>COLPROT</th>\n",
       "      <th>ORIGPROT</th>\n",
       "      <th>EXAMDATE</th>\n",
       "      <th>DX_bl</th>\n",
       "      <th>AGE</th>\n",
       "      <th>PTGENDER</th>\n",
       "      <th>...</th>\n",
       "      <th>TAU_bl</th>\n",
       "      <th>PTAU_bl</th>\n",
       "      <th>FDG_bl</th>\n",
       "      <th>PIB_bl</th>\n",
       "      <th>AV45_bl</th>\n",
       "      <th>Years_bl</th>\n",
       "      <th>Month_bl</th>\n",
       "      <th>Month</th>\n",
       "      <th>M</th>\n",
       "      <th>update_stamp</th>\n",
       "    </tr>\n",
       "  </thead>\n",
       "  <tbody>\n",
       "    <tr>\n",
       "      <th>0</th>\n",
       "      <td>2</td>\n",
       "      <td>011_S_0002</td>\n",
       "      <td>bl</td>\n",
       "      <td>11</td>\n",
       "      <td>ADNI1</td>\n",
       "      <td>ADNI1</td>\n",
       "      <td>2005-09-08</td>\n",
       "      <td>CN</td>\n",
       "      <td>74.3</td>\n",
       "      <td>Male</td>\n",
       "      <td>...</td>\n",
       "      <td>NaN</td>\n",
       "      <td>NaN</td>\n",
       "      <td>1.36665</td>\n",
       "      <td>NaN</td>\n",
       "      <td>NaN</td>\n",
       "      <td>0.0</td>\n",
       "      <td>0.0</td>\n",
       "      <td>0</td>\n",
       "      <td>0</td>\n",
       "      <td>2018-10-19 22:51:15.0</td>\n",
       "    </tr>\n",
       "    <tr>\n",
       "      <th>1</th>\n",
       "      <td>3</td>\n",
       "      <td>011_S_0003</td>\n",
       "      <td>bl</td>\n",
       "      <td>11</td>\n",
       "      <td>ADNI1</td>\n",
       "      <td>ADNI1</td>\n",
       "      <td>2005-09-12</td>\n",
       "      <td>AD</td>\n",
       "      <td>81.3</td>\n",
       "      <td>Male</td>\n",
       "      <td>...</td>\n",
       "      <td>239.7</td>\n",
       "      <td>22.83</td>\n",
       "      <td>1.08355</td>\n",
       "      <td>NaN</td>\n",
       "      <td>NaN</td>\n",
       "      <td>0.0</td>\n",
       "      <td>0.0</td>\n",
       "      <td>0</td>\n",
       "      <td>0</td>\n",
       "      <td>2018-10-19 22:51:15.0</td>\n",
       "    </tr>\n",
       "    <tr>\n",
       "      <th>5</th>\n",
       "      <td>4</td>\n",
       "      <td>022_S_0004</td>\n",
       "      <td>bl</td>\n",
       "      <td>22</td>\n",
       "      <td>ADNI1</td>\n",
       "      <td>ADNI1</td>\n",
       "      <td>2005-11-08</td>\n",
       "      <td>LMCI</td>\n",
       "      <td>67.5</td>\n",
       "      <td>Male</td>\n",
       "      <td>...</td>\n",
       "      <td>153.1</td>\n",
       "      <td>13.29</td>\n",
       "      <td>NaN</td>\n",
       "      <td>NaN</td>\n",
       "      <td>NaN</td>\n",
       "      <td>0.0</td>\n",
       "      <td>0.0</td>\n",
       "      <td>0</td>\n",
       "      <td>0</td>\n",
       "      <td>2018-10-19 22:51:15.0</td>\n",
       "    </tr>\n",
       "    <tr>\n",
       "      <th>10</th>\n",
       "      <td>5</td>\n",
       "      <td>011_S_0005</td>\n",
       "      <td>bl</td>\n",
       "      <td>11</td>\n",
       "      <td>ADNI1</td>\n",
       "      <td>ADNI1</td>\n",
       "      <td>2005-09-07</td>\n",
       "      <td>CN</td>\n",
       "      <td>73.7</td>\n",
       "      <td>Male</td>\n",
       "      <td>...</td>\n",
       "      <td>337</td>\n",
       "      <td>33.43</td>\n",
       "      <td>1.29343</td>\n",
       "      <td>NaN</td>\n",
       "      <td>NaN</td>\n",
       "      <td>0.0</td>\n",
       "      <td>0.0</td>\n",
       "      <td>0</td>\n",
       "      <td>0</td>\n",
       "      <td>2018-10-19 22:51:15.0</td>\n",
       "    </tr>\n",
       "    <tr>\n",
       "      <th>15</th>\n",
       "      <td>6</td>\n",
       "      <td>100_S_0006</td>\n",
       "      <td>bl</td>\n",
       "      <td>100</td>\n",
       "      <td>ADNI1</td>\n",
       "      <td>ADNI1</td>\n",
       "      <td>2005-11-29</td>\n",
       "      <td>LMCI</td>\n",
       "      <td>80.4</td>\n",
       "      <td>Female</td>\n",
       "      <td>...</td>\n",
       "      <td>NaN</td>\n",
       "      <td>NaN</td>\n",
       "      <td>NaN</td>\n",
       "      <td>NaN</td>\n",
       "      <td>NaN</td>\n",
       "      <td>0.0</td>\n",
       "      <td>0.0</td>\n",
       "      <td>0</td>\n",
       "      <td>0</td>\n",
       "      <td>2018-10-19 22:51:15.0</td>\n",
       "    </tr>\n",
       "  </tbody>\n",
       "</table>\n",
       "<p>5 rows × 113 columns</p>\n",
       "</div>"
      ],
      "text/plain": [
       "    RID        PTID VISCODE  SITE COLPROT ORIGPROT    EXAMDATE DX_bl   AGE  \\\n",
       "0     2  011_S_0002      bl    11   ADNI1    ADNI1  2005-09-08    CN  74.3   \n",
       "1     3  011_S_0003      bl    11   ADNI1    ADNI1  2005-09-12    AD  81.3   \n",
       "5     4  022_S_0004      bl    22   ADNI1    ADNI1  2005-11-08  LMCI  67.5   \n",
       "10    5  011_S_0005      bl    11   ADNI1    ADNI1  2005-09-07    CN  73.7   \n",
       "15    6  100_S_0006      bl   100   ADNI1    ADNI1  2005-11-29  LMCI  80.4   \n",
       "\n",
       "   PTGENDER          ...            TAU_bl PTAU_bl   FDG_bl PIB_bl  AV45_bl  \\\n",
       "0      Male          ...               NaN     NaN  1.36665    NaN      NaN   \n",
       "1      Male          ...             239.7   22.83  1.08355    NaN      NaN   \n",
       "5      Male          ...             153.1   13.29      NaN    NaN      NaN   \n",
       "10     Male          ...               337   33.43  1.29343    NaN      NaN   \n",
       "15   Female          ...               NaN     NaN      NaN    NaN      NaN   \n",
       "\n",
       "    Years_bl  Month_bl  Month  M           update_stamp  \n",
       "0        0.0       0.0      0  0  2018-10-19 22:51:15.0  \n",
       "1        0.0       0.0      0  0  2018-10-19 22:51:15.0  \n",
       "5        0.0       0.0      0  0  2018-10-19 22:51:15.0  \n",
       "10       0.0       0.0      0  0  2018-10-19 22:51:15.0  \n",
       "15       0.0       0.0      0  0  2018-10-19 22:51:15.0  \n",
       "\n",
       "[5 rows x 113 columns]"
      ]
     },
     "execution_count": 9,
     "metadata": {},
     "output_type": "execute_result"
    }
   ],
   "source": [
    "baseline = adni_merge[adni_merge['VISCODE'] == 'bl'].copy()\n",
    "print('Shape of the baseline visit subset: ', baseline.shape)\n",
    "\n",
    "baseline.head()"
   ]
  },
  {
   "cell_type": "markdown",
   "metadata": {},
   "source": [
    "Let's examime the missing data from the baseline visit dataset."
   ]
  },
  {
   "cell_type": "code",
   "execution_count": 10,
   "metadata": {},
   "outputs": [
    {
     "name": "stdout",
     "output_type": "stream",
     "text": [
      "There are a total of 54057 missing values.\n",
      "Out of 113 features in the dataset, 91 have missing values.\n",
      "\n",
      "Quartiles of missing data:\n",
      "      Num Missing  Pct. Missing\n",
      "0.25         22.0      1.057184\n",
      "0.50        728.0     34.983181\n",
      "0.75        851.0     40.893801\n",
      "1.00       2081.0    100.000000\n"
     ]
    }
   ],
   "source": [
    "# Calculate missing data\n",
    "missing_data = utils.calculate_missing_data(baseline)"
   ]
  },
  {
   "cell_type": "markdown",
   "metadata": {},
   "source": [
    "## Filling in Missing Data\n",
    "Based on the study data, we know that not all biometrics are measured at every visit. Therefore we may be able to pull measures together from different visits to help fill in missing data. Of course since we're dealing with longitudinal data with visits month or years apart, we have to make sure that we only consider measures from visits where the diagnosis code is unchanged."
   ]
  },
  {
   "cell_type": "code",
   "execution_count": 11,
   "metadata": {
    "scrolled": false
   },
   "outputs": [
    {
     "name": "stdout",
     "output_type": "stream",
     "text": [
      "Searching...\n",
      "Updated 4104 of 54057 missing values.\n"
     ]
    }
   ],
   "source": [
    "# For every column in the baseline (VISCODE='bl') with missing values, look for\n",
    "# a value in subsequent visits with the constraint that the DX code must\n",
    "# not have changed. Take the first (earliest) biometric measure available.\n",
    "\n",
    "baseline.sort_values(by='RID')\n",
    "missing_cols = baseline.columns[baseline.isnull().any()]\n",
    "viscodes = list(adni_merge.sort_values(by='Month')['VISCODE'].unique())\n",
    "viscodes.pop(0) # Get rid of 'bl'\n",
    "\n",
    "missing_values = baseline.isnull().sum().sum()\n",
    "updated_values = 0\n",
    "\n",
    "print('Searching...')\n",
    "for col in missing_cols:\n",
    "    \n",
    "    for v in viscodes:\n",
    "        \n",
    "        # Get the RIDs with missing values in this colummn.\n",
    "        # Do this for each VISCODE since we are iteratively\n",
    "        # updating missing values.\n",
    "        rids = baseline[baseline[col].isnull()].RID\n",
    "        \n",
    "        # Create a DataFrame from adni_merge for the current\n",
    "        # VISCODE, RIDs, & where current col is not null.\n",
    "        df = adni_merge.loc[(adni_merge.RID.isin(rids))\n",
    "                            & (adni_merge.VISCODE == v)\n",
    "                            & (adni_merge[col].notnull()),\n",
    "                            baseline.columns] \n",
    "               \n",
    "        if df.empty: # if no matches, continue\n",
    "            continue\n",
    "            \n",
    "        df = df.copy()\n",
    "        df.sort_values(by='RID', inplace=True)\n",
    "            \n",
    "        # Find baseline participants who are also in the current VISCODE\n",
    "        bl = baseline[baseline.RID.isin(df.RID)].copy()\n",
    "        bl.sort_values(by='RID', inplace=True)\n",
    "        df.index = bl.index\n",
    "        \n",
    "        # Only keep those where the diagnosis is unchanged & col is not null\n",
    "        df = df[(df.DX == bl.DX) & (df[col].notnull())]\n",
    "\n",
    "        if df.empty:  # if DX codes don't match, continue\n",
    "            continue\n",
    "\n",
    "        # Update null values in the original baseline DF\n",
    "        baseline.loc[baseline.index.isin(df.index), col] = df[col]\n",
    "        updated_values += len(df)\n",
    "\n",
    "print(f'Updated {updated_values} of {missing_values} missing values.')"
   ]
  },
  {
   "cell_type": "code",
   "execution_count": 12,
   "metadata": {},
   "outputs": [
    {
     "name": "stdout",
     "output_type": "stream",
     "text": [
      "There are a total of 49953 missing values.\n",
      "Out of 113 features in the dataset, 91 have missing values.\n",
      "\n",
      "Quartiles of missing data:\n",
      "      Num Missing  Pct. Missing\n",
      "0.25         21.0      1.009130\n",
      "0.50        641.0     30.802499\n",
      "0.75        832.0     39.980778\n",
      "1.00       2081.0    100.000000\n"
     ]
    },
    {
     "data": {
      "text/html": [
       "<div>\n",
       "<style scoped>\n",
       "    .dataframe tbody tr th:only-of-type {\n",
       "        vertical-align: middle;\n",
       "    }\n",
       "\n",
       "    .dataframe tbody tr th {\n",
       "        vertical-align: top;\n",
       "    }\n",
       "\n",
       "    .dataframe thead th {\n",
       "        text-align: right;\n",
       "    }\n",
       "</style>\n",
       "<table border=\"1\" class=\"dataframe\">\n",
       "  <thead>\n",
       "    <tr style=\"text-align: right;\">\n",
       "      <th></th>\n",
       "      <th>Num Missing</th>\n",
       "      <th>Pct. Missing</th>\n",
       "    </tr>\n",
       "  </thead>\n",
       "  <tbody>\n",
       "    <tr>\n",
       "      <th>FLDSTRENG</th>\n",
       "      <td>2081.0</td>\n",
       "      <td>100.000000</td>\n",
       "    </tr>\n",
       "    <tr>\n",
       "      <th>FLDSTRENG_bl</th>\n",
       "      <td>2081.0</td>\n",
       "      <td>100.000000</td>\n",
       "    </tr>\n",
       "    <tr>\n",
       "      <th>PIB_bl</th>\n",
       "      <td>2061.0</td>\n",
       "      <td>99.038924</td>\n",
       "    </tr>\n",
       "    <tr>\n",
       "      <th>PIB</th>\n",
       "      <td>1990.0</td>\n",
       "      <td>95.627102</td>\n",
       "    </tr>\n",
       "    <tr>\n",
       "      <th>DIGITSCOR_bl</th>\n",
       "      <td>1267.0</td>\n",
       "      <td>60.884190</td>\n",
       "    </tr>\n",
       "    <tr>\n",
       "      <th>DIGITSCOR</th>\n",
       "      <td>1264.0</td>\n",
       "      <td>60.740029</td>\n",
       "    </tr>\n",
       "    <tr>\n",
       "      <th>AV45_bl</th>\n",
       "      <td>1107.0</td>\n",
       "      <td>53.195579</td>\n",
       "    </tr>\n",
       "    <tr>\n",
       "      <th>AV45</th>\n",
       "      <td>971.0</td>\n",
       "      <td>46.660259</td>\n",
       "    </tr>\n",
       "    <tr>\n",
       "      <th>EcogSPOrgan_bl</th>\n",
       "      <td>891.0</td>\n",
       "      <td>42.815954</td>\n",
       "    </tr>\n",
       "    <tr>\n",
       "      <th>PTAU_bl</th>\n",
       "      <td>866.0</td>\n",
       "      <td>41.614608</td>\n",
       "    </tr>\n",
       "  </tbody>\n",
       "</table>\n",
       "</div>"
      ],
      "text/plain": [
       "                Num Missing  Pct. Missing\n",
       "FLDSTRENG            2081.0    100.000000\n",
       "FLDSTRENG_bl         2081.0    100.000000\n",
       "PIB_bl               2061.0     99.038924\n",
       "PIB                  1990.0     95.627102\n",
       "DIGITSCOR_bl         1267.0     60.884190\n",
       "DIGITSCOR            1264.0     60.740029\n",
       "AV45_bl              1107.0     53.195579\n",
       "AV45                  971.0     46.660259\n",
       "EcogSPOrgan_bl        891.0     42.815954\n",
       "PTAU_bl               866.0     41.614608"
      ]
     },
     "execution_count": 12,
     "metadata": {},
     "output_type": "execute_result"
    }
   ],
   "source": [
    "# Calculate missing data\n",
    "missing_data = utils.calculate_missing_data(baseline)\n",
    "\n",
    "# Look at the top 10 columns in terms of missing values\n",
    "missing_data.head(10)"
   ]
  },
  {
   "cell_type": "markdown",
   "metadata": {},
   "source": [
    "Clearly a lot of missing data remain and we will likely have to explore methods to impute these values. Before doing that however, we will explore the data a little closer to see if there are features that should be dropped due to high correlation, lack of information, or other reasons."
   ]
  },
  {
   "cell_type": "markdown",
   "metadata": {},
   "source": [
    "`FLDSTRENG` and `FLDSTRENG_bl` are providing absolutely no information so we can drop them."
   ]
  },
  {
   "cell_type": "code",
   "execution_count": 13,
   "metadata": {},
   "outputs": [],
   "source": [
    "baseline = baseline.drop(labels=['FLDSTRENG', 'FLDSTRENG_bl'], axis=1)"
   ]
  },
  {
   "cell_type": "markdown",
   "metadata": {},
   "source": [
    "There appears to be a lot of features with similar, if not identical, information such as `TAU`, `TAU_bl`, `AV45`, `AV45_bl`. Let's examine this pattern to see if these pairs are highly correlated."
   ]
  },
  {
   "cell_type": "code",
   "execution_count": 14,
   "metadata": {},
   "outputs": [
    {
     "data": {
      "text/html": [
       "<div>\n",
       "<style scoped>\n",
       "    .dataframe tbody tr th:only-of-type {\n",
       "        vertical-align: middle;\n",
       "    }\n",
       "\n",
       "    .dataframe tbody tr th {\n",
       "        vertical-align: top;\n",
       "    }\n",
       "\n",
       "    .dataframe thead th {\n",
       "        text-align: right;\n",
       "    }\n",
       "</style>\n",
       "<table border=\"1\" class=\"dataframe\">\n",
       "  <thead>\n",
       "    <tr style=\"text-align: right;\">\n",
       "      <th></th>\n",
       "      <th>Baseline column</th>\n",
       "      <th>Alternate column</th>\n",
       "      <th>Correlation</th>\n",
       "    </tr>\n",
       "  </thead>\n",
       "  <tbody>\n",
       "    <tr>\n",
       "      <th>0</th>\n",
       "      <td>CDRSB_bl</td>\n",
       "      <td>CDRSB</td>\n",
       "      <td>1.0</td>\n",
       "    </tr>\n",
       "    <tr>\n",
       "      <th>1</th>\n",
       "      <td>ADAS11_bl</td>\n",
       "      <td>ADAS11</td>\n",
       "      <td>1.0</td>\n",
       "    </tr>\n",
       "    <tr>\n",
       "      <th>2</th>\n",
       "      <td>ADAS13_bl</td>\n",
       "      <td>ADAS13</td>\n",
       "      <td>1.0</td>\n",
       "    </tr>\n",
       "    <tr>\n",
       "      <th>3</th>\n",
       "      <td>ADASQ4_bl</td>\n",
       "      <td>ADASQ4</td>\n",
       "      <td>1.0</td>\n",
       "    </tr>\n",
       "    <tr>\n",
       "      <th>4</th>\n",
       "      <td>MMSE_bl</td>\n",
       "      <td>MMSE</td>\n",
       "      <td>1.0</td>\n",
       "    </tr>\n",
       "    <tr>\n",
       "      <th>5</th>\n",
       "      <td>RAVLT_immediate_bl</td>\n",
       "      <td>RAVLT_immediate</td>\n",
       "      <td>1.0</td>\n",
       "    </tr>\n",
       "    <tr>\n",
       "      <th>6</th>\n",
       "      <td>RAVLT_learning_bl</td>\n",
       "      <td>RAVLT_learning</td>\n",
       "      <td>1.0</td>\n",
       "    </tr>\n",
       "    <tr>\n",
       "      <th>7</th>\n",
       "      <td>RAVLT_forgetting_bl</td>\n",
       "      <td>RAVLT_forgetting</td>\n",
       "      <td>1.0</td>\n",
       "    </tr>\n",
       "    <tr>\n",
       "      <th>8</th>\n",
       "      <td>RAVLT_perc_forgetting_bl</td>\n",
       "      <td>RAVLT_perc_forgetting</td>\n",
       "      <td>1.0</td>\n",
       "    </tr>\n",
       "    <tr>\n",
       "      <th>9</th>\n",
       "      <td>LDELTOTAL_BL</td>\n",
       "      <td>LDELTOTAL</td>\n",
       "      <td>1.0</td>\n",
       "    </tr>\n",
       "    <tr>\n",
       "      <th>10</th>\n",
       "      <td>DIGITSCOR_bl</td>\n",
       "      <td>DIGITSCOR</td>\n",
       "      <td>1.0</td>\n",
       "    </tr>\n",
       "    <tr>\n",
       "      <th>11</th>\n",
       "      <td>TRABSCOR_bl</td>\n",
       "      <td>TRABSCOR</td>\n",
       "      <td>1.0</td>\n",
       "    </tr>\n",
       "    <tr>\n",
       "      <th>12</th>\n",
       "      <td>FAQ_bl</td>\n",
       "      <td>FAQ</td>\n",
       "      <td>1.0</td>\n",
       "    </tr>\n",
       "    <tr>\n",
       "      <th>13</th>\n",
       "      <td>mPACCdigit_bl</td>\n",
       "      <td>mPACCdigit</td>\n",
       "      <td>1.0</td>\n",
       "    </tr>\n",
       "    <tr>\n",
       "      <th>14</th>\n",
       "      <td>mPACCtrailsB_bl</td>\n",
       "      <td>mPACCtrailsB</td>\n",
       "      <td>1.0</td>\n",
       "    </tr>\n",
       "    <tr>\n",
       "      <th>15</th>\n",
       "      <td>Ventricles_bl</td>\n",
       "      <td>Ventricles</td>\n",
       "      <td>1.0</td>\n",
       "    </tr>\n",
       "    <tr>\n",
       "      <th>16</th>\n",
       "      <td>Hippocampus_bl</td>\n",
       "      <td>Hippocampus</td>\n",
       "      <td>1.0</td>\n",
       "    </tr>\n",
       "    <tr>\n",
       "      <th>17</th>\n",
       "      <td>WholeBrain_bl</td>\n",
       "      <td>WholeBrain</td>\n",
       "      <td>1.0</td>\n",
       "    </tr>\n",
       "    <tr>\n",
       "      <th>18</th>\n",
       "      <td>Entorhinal_bl</td>\n",
       "      <td>Entorhinal</td>\n",
       "      <td>1.0</td>\n",
       "    </tr>\n",
       "    <tr>\n",
       "      <th>19</th>\n",
       "      <td>Fusiform_bl</td>\n",
       "      <td>Fusiform</td>\n",
       "      <td>1.0</td>\n",
       "    </tr>\n",
       "    <tr>\n",
       "      <th>20</th>\n",
       "      <td>MidTemp_bl</td>\n",
       "      <td>MidTemp</td>\n",
       "      <td>1.0</td>\n",
       "    </tr>\n",
       "    <tr>\n",
       "      <th>21</th>\n",
       "      <td>ICV_bl</td>\n",
       "      <td>ICV</td>\n",
       "      <td>1.0</td>\n",
       "    </tr>\n",
       "    <tr>\n",
       "      <th>22</th>\n",
       "      <td>MOCA_bl</td>\n",
       "      <td>MOCA</td>\n",
       "      <td>1.0</td>\n",
       "    </tr>\n",
       "    <tr>\n",
       "      <th>23</th>\n",
       "      <td>EcogPtMem_bl</td>\n",
       "      <td>EcogPtMem</td>\n",
       "      <td>1.0</td>\n",
       "    </tr>\n",
       "    <tr>\n",
       "      <th>24</th>\n",
       "      <td>EcogPtLang_bl</td>\n",
       "      <td>EcogPtLang</td>\n",
       "      <td>1.0</td>\n",
       "    </tr>\n",
       "    <tr>\n",
       "      <th>25</th>\n",
       "      <td>EcogPtVisspat_bl</td>\n",
       "      <td>EcogPtVisspat</td>\n",
       "      <td>1.0</td>\n",
       "    </tr>\n",
       "    <tr>\n",
       "      <th>26</th>\n",
       "      <td>EcogPtPlan_bl</td>\n",
       "      <td>EcogPtPlan</td>\n",
       "      <td>1.0</td>\n",
       "    </tr>\n",
       "    <tr>\n",
       "      <th>27</th>\n",
       "      <td>EcogPtOrgan_bl</td>\n",
       "      <td>EcogPtOrgan</td>\n",
       "      <td>1.0</td>\n",
       "    </tr>\n",
       "    <tr>\n",
       "      <th>28</th>\n",
       "      <td>EcogPtDivatt_bl</td>\n",
       "      <td>EcogPtDivatt</td>\n",
       "      <td>1.0</td>\n",
       "    </tr>\n",
       "    <tr>\n",
       "      <th>29</th>\n",
       "      <td>EcogPtTotal_bl</td>\n",
       "      <td>EcogPtTotal</td>\n",
       "      <td>1.0</td>\n",
       "    </tr>\n",
       "    <tr>\n",
       "      <th>30</th>\n",
       "      <td>EcogSPMem_bl</td>\n",
       "      <td>EcogSPMem</td>\n",
       "      <td>1.0</td>\n",
       "    </tr>\n",
       "    <tr>\n",
       "      <th>31</th>\n",
       "      <td>EcogSPLang_bl</td>\n",
       "      <td>EcogSPLang</td>\n",
       "      <td>1.0</td>\n",
       "    </tr>\n",
       "    <tr>\n",
       "      <th>32</th>\n",
       "      <td>EcogSPVisspat_bl</td>\n",
       "      <td>EcogSPVisspat</td>\n",
       "      <td>1.0</td>\n",
       "    </tr>\n",
       "    <tr>\n",
       "      <th>33</th>\n",
       "      <td>EcogSPPlan_bl</td>\n",
       "      <td>EcogSPPlan</td>\n",
       "      <td>1.0</td>\n",
       "    </tr>\n",
       "    <tr>\n",
       "      <th>34</th>\n",
       "      <td>EcogSPOrgan_bl</td>\n",
       "      <td>EcogSPOrgan</td>\n",
       "      <td>1.0</td>\n",
       "    </tr>\n",
       "    <tr>\n",
       "      <th>35</th>\n",
       "      <td>EcogSPDivatt_bl</td>\n",
       "      <td>EcogSPDivatt</td>\n",
       "      <td>1.0</td>\n",
       "    </tr>\n",
       "    <tr>\n",
       "      <th>36</th>\n",
       "      <td>EcogSPTotal_bl</td>\n",
       "      <td>EcogSPTotal</td>\n",
       "      <td>1.0</td>\n",
       "    </tr>\n",
       "    <tr>\n",
       "      <th>37</th>\n",
       "      <td>FDG_bl</td>\n",
       "      <td>FDG</td>\n",
       "      <td>1.0</td>\n",
       "    </tr>\n",
       "    <tr>\n",
       "      <th>38</th>\n",
       "      <td>PIB_bl</td>\n",
       "      <td>PIB</td>\n",
       "      <td>1.0</td>\n",
       "    </tr>\n",
       "    <tr>\n",
       "      <th>39</th>\n",
       "      <td>AV45_bl</td>\n",
       "      <td>AV45</td>\n",
       "      <td>1.0</td>\n",
       "    </tr>\n",
       "  </tbody>\n",
       "</table>\n",
       "</div>"
      ],
      "text/plain": [
       "             Baseline column       Alternate column  Correlation\n",
       "0                   CDRSB_bl                  CDRSB          1.0\n",
       "1                  ADAS11_bl                 ADAS11          1.0\n",
       "2                  ADAS13_bl                 ADAS13          1.0\n",
       "3                  ADASQ4_bl                 ADASQ4          1.0\n",
       "4                    MMSE_bl                   MMSE          1.0\n",
       "5         RAVLT_immediate_bl        RAVLT_immediate          1.0\n",
       "6          RAVLT_learning_bl         RAVLT_learning          1.0\n",
       "7        RAVLT_forgetting_bl       RAVLT_forgetting          1.0\n",
       "8   RAVLT_perc_forgetting_bl  RAVLT_perc_forgetting          1.0\n",
       "9               LDELTOTAL_BL              LDELTOTAL          1.0\n",
       "10              DIGITSCOR_bl              DIGITSCOR          1.0\n",
       "11               TRABSCOR_bl               TRABSCOR          1.0\n",
       "12                    FAQ_bl                    FAQ          1.0\n",
       "13             mPACCdigit_bl             mPACCdigit          1.0\n",
       "14           mPACCtrailsB_bl           mPACCtrailsB          1.0\n",
       "15             Ventricles_bl             Ventricles          1.0\n",
       "16            Hippocampus_bl            Hippocampus          1.0\n",
       "17             WholeBrain_bl             WholeBrain          1.0\n",
       "18             Entorhinal_bl             Entorhinal          1.0\n",
       "19               Fusiform_bl               Fusiform          1.0\n",
       "20                MidTemp_bl                MidTemp          1.0\n",
       "21                    ICV_bl                    ICV          1.0\n",
       "22                   MOCA_bl                   MOCA          1.0\n",
       "23              EcogPtMem_bl              EcogPtMem          1.0\n",
       "24             EcogPtLang_bl             EcogPtLang          1.0\n",
       "25          EcogPtVisspat_bl          EcogPtVisspat          1.0\n",
       "26             EcogPtPlan_bl             EcogPtPlan          1.0\n",
       "27            EcogPtOrgan_bl            EcogPtOrgan          1.0\n",
       "28           EcogPtDivatt_bl           EcogPtDivatt          1.0\n",
       "29            EcogPtTotal_bl            EcogPtTotal          1.0\n",
       "30              EcogSPMem_bl              EcogSPMem          1.0\n",
       "31             EcogSPLang_bl             EcogSPLang          1.0\n",
       "32          EcogSPVisspat_bl          EcogSPVisspat          1.0\n",
       "33             EcogSPPlan_bl             EcogSPPlan          1.0\n",
       "34            EcogSPOrgan_bl            EcogSPOrgan          1.0\n",
       "35           EcogSPDivatt_bl           EcogSPDivatt          1.0\n",
       "36            EcogSPTotal_bl            EcogSPTotal          1.0\n",
       "37                    FDG_bl                    FDG          1.0\n",
       "38                    PIB_bl                    PIB          1.0\n",
       "39                   AV45_bl                   AV45          1.0"
      ]
     },
     "execution_count": 14,
     "metadata": {},
     "output_type": "execute_result"
    }
   ],
   "source": [
    "# Generate a correlation matrix of xxx_bl vs xxx\n",
    "corr_df = baseline.corr()\n",
    "cols = baseline.columns\n",
    "col1, col2, corr = [], [], []\n",
    "\n",
    "# Specifically check the correlation of xxx_bl to xxx\n",
    "for col in cols:\n",
    "    if '_bl' in col.lower(): \n",
    "        drop_bl = col[0:-3]\n",
    "        if (drop_bl in cols):\n",
    "            if (col in corr_df.index and corr_df.loc[col][drop_bl] > .8):\n",
    "                col1.append(col)\n",
    "                col2.append(drop_bl)\n",
    "                corr.append(corr_df.loc[col][drop_bl])\n",
    "\n",
    "# Display the results                \n",
    "bl_corr_df = pd.DataFrame({\"Baseline column\": col1, 'Alternate column': col2, \"Correlation\": corr})\n",
    "bl_corr_df"
   ]
  },
  {
   "cell_type": "markdown",
   "metadata": {},
   "source": [
    "These features indeed contain duplicate information so we can drop one of each pair."
   ]
  },
  {
   "cell_type": "code",
   "execution_count": 15,
   "metadata": {},
   "outputs": [
    {
     "name": "stdout",
     "output_type": "stream",
     "text": [
      "The new shape of the baseline subset is (2081, 71).\n"
     ]
    }
   ],
   "source": [
    "baseline = baseline.drop(labels=bl_corr_df['Baseline column'].values, axis=1)\n",
    "print(\"The new shape of the baseline subset is {}.\".format(baseline.shape))"
   ]
  },
  {
   "cell_type": "code",
   "execution_count": 16,
   "metadata": {},
   "outputs": [
    {
     "data": {
      "text/plain": [
       "Index(['ABETA', 'ABETA_bl', 'ADAS11', 'ADAS13', 'ADASQ4', 'AGE', 'APOE4',\n",
       "       'AV45', 'CDRSB', 'COLPROT', 'DIGITSCOR', 'DX', 'DX_bl', 'EXAMDATE',\n",
       "       'EXAMDATE_bl', 'EcogPtDivatt', 'EcogPtLang', 'EcogPtMem', 'EcogPtOrgan',\n",
       "       'EcogPtPlan', 'EcogPtTotal', 'EcogPtVisspat', 'EcogSPDivatt',\n",
       "       'EcogSPLang', 'EcogSPMem', 'EcogSPOrgan', 'EcogSPPlan', 'EcogSPTotal',\n",
       "       'EcogSPVisspat', 'Entorhinal', 'FAQ', 'FDG', 'FSVERSION',\n",
       "       'FSVERSION_bl', 'Fusiform', 'Hippocampus', 'ICV', 'IMAGEUID',\n",
       "       'LDELTOTAL', 'M', 'MMSE', 'MOCA', 'MidTemp', 'Month', 'Month_bl',\n",
       "       'ORIGPROT', 'PIB', 'PTAU', 'PTAU_bl', 'PTEDUCAT', 'PTETHCAT',\n",
       "       'PTGENDER', 'PTID', 'PTMARRY', 'PTRACCAT', 'RAVLT_forgetting',\n",
       "       'RAVLT_immediate', 'RAVLT_learning', 'RAVLT_perc_forgetting', 'RID',\n",
       "       'SITE', 'TAU', 'TAU_bl', 'TRABSCOR', 'VISCODE', 'Ventricles',\n",
       "       'WholeBrain', 'Years_bl', 'mPACCdigit', 'mPACCtrailsB', 'update_stamp'],\n",
       "      dtype='object')"
      ]
     },
     "execution_count": 16,
     "metadata": {},
     "output_type": "execute_result"
    }
   ],
   "source": [
    "# Let's see what features we have now\n",
    "baseline.columns.sort_values()"
   ]
  },
  {
   "cell_type": "markdown",
   "metadata": {},
   "source": [
    "We still have some columns that look very similar. These may contain non-numeric values such as strings or NaNs, or possibly they are really uncorrelated."
   ]
  },
  {
   "cell_type": "code",
   "execution_count": 17,
   "metadata": {},
   "outputs": [
    {
     "data": {
      "text/html": [
       "<div>\n",
       "<style scoped>\n",
       "    .dataframe tbody tr th:only-of-type {\n",
       "        vertical-align: middle;\n",
       "    }\n",
       "\n",
       "    .dataframe tbody tr th {\n",
       "        vertical-align: top;\n",
       "    }\n",
       "\n",
       "    .dataframe thead th {\n",
       "        text-align: right;\n",
       "    }\n",
       "</style>\n",
       "<table border=\"1\" class=\"dataframe\">\n",
       "  <thead>\n",
       "    <tr style=\"text-align: right;\">\n",
       "      <th></th>\n",
       "      <th>Missing Values</th>\n",
       "      <th>Baseline Missing Values</th>\n",
       "      <th>Percent Matching</th>\n",
       "    </tr>\n",
       "  </thead>\n",
       "  <tbody>\n",
       "    <tr>\n",
       "      <th>ABETA</th>\n",
       "      <td>832</td>\n",
       "      <td>866</td>\n",
       "      <td>98.366170</td>\n",
       "    </tr>\n",
       "    <tr>\n",
       "      <th>DX</th>\n",
       "      <td>25</td>\n",
       "      <td>16</td>\n",
       "      <td>24.939933</td>\n",
       "    </tr>\n",
       "    <tr>\n",
       "      <th>EXAMDATE</th>\n",
       "      <td>0</td>\n",
       "      <td>0</td>\n",
       "      <td>100.000000</td>\n",
       "    </tr>\n",
       "    <tr>\n",
       "      <th>FSVERSION</th>\n",
       "      <td>346</td>\n",
       "      <td>357</td>\n",
       "      <td>99.471408</td>\n",
       "    </tr>\n",
       "    <tr>\n",
       "      <th>PTAU</th>\n",
       "      <td>832</td>\n",
       "      <td>866</td>\n",
       "      <td>98.366170</td>\n",
       "    </tr>\n",
       "    <tr>\n",
       "      <th>TAU</th>\n",
       "      <td>832</td>\n",
       "      <td>866</td>\n",
       "      <td>98.366170</td>\n",
       "    </tr>\n",
       "  </tbody>\n",
       "</table>\n",
       "</div>"
      ],
      "text/plain": [
       "           Missing Values  Baseline Missing Values  Percent Matching\n",
       "ABETA                 832                      866         98.366170\n",
       "DX                     25                       16         24.939933\n",
       "EXAMDATE                0                        0        100.000000\n",
       "FSVERSION             346                      357         99.471408\n",
       "PTAU                  832                      866         98.366170\n",
       "TAU                   832                      866         98.366170"
      ]
     },
     "execution_count": 17,
     "metadata": {},
     "output_type": "execute_result"
    }
   ],
   "source": [
    "# Columns to check for duplicates\n",
    "cols = ['ABETA', 'DX', 'EXAMDATE','FSVERSION',  'PTAU', 'TAU']\n",
    "\n",
    "bl_missing = []\n",
    "missing = []\n",
    "matching_vals = []\n",
    "\n",
    "for col in cols:\n",
    "    missing.append(baseline[col].isnull().sum())\n",
    "    bl_missing.append(baseline[col+'_bl'].isnull().sum())\n",
    "    match = (baseline[col] == baseline[col+'_bl']).sum()\n",
    "    matching_vals.append((match + min(missing[-1], bl_missing[-1]))/len(baseline) * 100)\n",
    "                 \n",
    "# Display the results                \n",
    "bl_dupes = pd.DataFrame({'Missing Values': missing,\n",
    "                            'Baseline Missing Values': bl_missing,\n",
    "                            'Percent Matching': matching_vals}, index=cols)\n",
    "bl_dupes"
   ]
  },
  {
   "cell_type": "markdown",
   "metadata": {},
   "source": [
    "All of the pairs are nearly exact duplicates except `DX`|`DX_bl`, so we can drop one of the duplicate columns. The baseline versions have slightly more missing data, so we'll drop those. Then we'll take a look at `DX` vs.`DX_bl`."
   ]
  },
  {
   "cell_type": "code",
   "execution_count": 18,
   "metadata": {},
   "outputs": [],
   "source": [
    "# Get a list of duplicate column names to drop\n",
    "dupe_cols = [col + '_bl' for col in cols]\n",
    "\n",
    "# Remove DX_bl until we investigate further\n",
    "del dupe_cols[dupe_cols.index('DX_bl')]\n",
    "\n",
    "# Drop the columns\n",
    "baseline = baseline.drop(labels=dupe_cols, axis=1)"
   ]
  },
  {
   "cell_type": "code",
   "execution_count": 19,
   "metadata": {},
   "outputs": [
    {
     "data": {
      "text/html": [
       "<div>\n",
       "<style scoped>\n",
       "    .dataframe tbody tr th:only-of-type {\n",
       "        vertical-align: middle;\n",
       "    }\n",
       "\n",
       "    .dataframe tbody tr th {\n",
       "        vertical-align: top;\n",
       "    }\n",
       "\n",
       "    .dataframe thead th {\n",
       "        text-align: right;\n",
       "    }\n",
       "</style>\n",
       "<table border=\"1\" class=\"dataframe\">\n",
       "  <thead>\n",
       "    <tr style=\"text-align: right;\">\n",
       "      <th></th>\n",
       "      <th>DX_bl</th>\n",
       "      <th>DX</th>\n",
       "    </tr>\n",
       "  </thead>\n",
       "  <tbody>\n",
       "    <tr>\n",
       "      <th>0</th>\n",
       "      <td>CN</td>\n",
       "      <td>CN</td>\n",
       "    </tr>\n",
       "    <tr>\n",
       "      <th>1</th>\n",
       "      <td>AD</td>\n",
       "      <td>Dementia</td>\n",
       "    </tr>\n",
       "    <tr>\n",
       "      <th>5</th>\n",
       "      <td>LMCI</td>\n",
       "      <td>MCI</td>\n",
       "    </tr>\n",
       "    <tr>\n",
       "      <th>48</th>\n",
       "      <td>SMC</td>\n",
       "      <td>CN</td>\n",
       "    </tr>\n",
       "    <tr>\n",
       "      <th>2848</th>\n",
       "      <td>EMCI</td>\n",
       "      <td>MCI</td>\n",
       "    </tr>\n",
       "    <tr>\n",
       "      <th>11389</th>\n",
       "      <td>NaN</td>\n",
       "      <td>NaN</td>\n",
       "    </tr>\n",
       "  </tbody>\n",
       "</table>\n",
       "</div>"
      ],
      "text/plain": [
       "      DX_bl        DX\n",
       "0        CN        CN\n",
       "1        AD  Dementia\n",
       "5      LMCI       MCI\n",
       "48      SMC        CN\n",
       "2848   EMCI       MCI\n",
       "11389   NaN       NaN"
      ]
     },
     "execution_count": 19,
     "metadata": {},
     "output_type": "execute_result"
    }
   ],
   "source": [
    "# See how DX maps to DX_bl\n",
    "baseline.drop_duplicates('DX_bl')[['DX_bl', 'DX']]"
   ]
  },
  {
   "cell_type": "markdown",
   "metadata": {},
   "source": [
    "Although similar, the diagnoses in `DX_bl` are more specific than those in `DX`. We'll use the more standard diagnosis codes in `DX`. However `DX_bl` has slightly less missingness so we'll keep that column and remap some of the values to match `DX` where needed."
   ]
  },
  {
   "cell_type": "code",
   "execution_count": 20,
   "metadata": {},
   "outputs": [],
   "source": [
    "# Drop DX\n",
    "baseline = baseline.drop(labels=['DX'], axis=1)\n",
    "\n",
    "# Remap some of the DX_bl values\n",
    "baseline.DX_bl = baseline.DX_bl.replace('LMCI','MCI')\n",
    "baseline.DX_bl = baseline.DX_bl.replace('EMCI','MCI')\n",
    "baseline.DX_bl = baseline.DX_bl.replace('SMC','CN')"
   ]
  },
  {
   "cell_type": "markdown",
   "metadata": {},
   "source": [
    "We also have some participants for which we have no diagnosis code, so these records will not be useful and can be dropped."
   ]
  },
  {
   "cell_type": "code",
   "execution_count": 21,
   "metadata": {},
   "outputs": [
    {
     "name": "stdout",
     "output_type": "stream",
     "text": [
      "Removed 16 participants with no diagnosis code.\n"
     ]
    }
   ],
   "source": [
    "missing_dx = len(baseline[baseline['DX_bl'].isnull()])\n",
    "baseline = baseline.dropna(axis=0, subset=['DX_bl'])\n",
    "print(f'Removed {missing_dx} participants with no diagnosis code.')"
   ]
  },
  {
   "cell_type": "markdown",
   "metadata": {},
   "source": [
    "`PTID` is also duplicative. It is a combination of `RID` and `SITE`."
   ]
  },
  {
   "cell_type": "code",
   "execution_count": 22,
   "metadata": {},
   "outputs": [],
   "source": [
    "baseline = baseline.drop(labels='PTID', axis=1)"
   ]
  },
  {
   "cell_type": "code",
   "execution_count": 23,
   "metadata": {},
   "outputs": [
    {
     "name": "stdout",
     "output_type": "stream",
     "text": [
      "The new shape of the baseline subset is (2065, 64).\n",
      "There are a total of 20821 missing values.\n",
      "Out of 64 features in the dataset, 44 have missing values.\n",
      "\n",
      "Quartiles of missing data:\n",
      "      Num Missing  Pct. Missing\n",
      "0.25        22.75      1.101695\n",
      "0.50       541.50     26.222760\n",
      "0.75       649.00     31.428571\n",
      "1.00      1974.00     95.593220\n"
     ]
    },
    {
     "data": {
      "text/html": [
       "<div>\n",
       "<style scoped>\n",
       "    .dataframe tbody tr th:only-of-type {\n",
       "        vertical-align: middle;\n",
       "    }\n",
       "\n",
       "    .dataframe tbody tr th {\n",
       "        vertical-align: top;\n",
       "    }\n",
       "\n",
       "    .dataframe thead th {\n",
       "        text-align: right;\n",
       "    }\n",
       "</style>\n",
       "<table border=\"1\" class=\"dataframe\">\n",
       "  <thead>\n",
       "    <tr style=\"text-align: right;\">\n",
       "      <th></th>\n",
       "      <th>Num Missing</th>\n",
       "      <th>Pct. Missing</th>\n",
       "    </tr>\n",
       "  </thead>\n",
       "  <tbody>\n",
       "    <tr>\n",
       "      <th>PIB</th>\n",
       "      <td>1974.0</td>\n",
       "      <td>95.593220</td>\n",
       "    </tr>\n",
       "    <tr>\n",
       "      <th>DIGITSCOR</th>\n",
       "      <td>1248.0</td>\n",
       "      <td>60.435835</td>\n",
       "    </tr>\n",
       "    <tr>\n",
       "      <th>AV45</th>\n",
       "      <td>956.0</td>\n",
       "      <td>46.295400</td>\n",
       "    </tr>\n",
       "    <tr>\n",
       "      <th>ABETA</th>\n",
       "      <td>816.0</td>\n",
       "      <td>39.515738</td>\n",
       "    </tr>\n",
       "    <tr>\n",
       "      <th>TAU</th>\n",
       "      <td>816.0</td>\n",
       "      <td>39.515738</td>\n",
       "    </tr>\n",
       "    <tr>\n",
       "      <th>PTAU</th>\n",
       "      <td>816.0</td>\n",
       "      <td>39.515738</td>\n",
       "    </tr>\n",
       "    <tr>\n",
       "      <th>EcogSPOrgan</th>\n",
       "      <td>670.0</td>\n",
       "      <td>32.445521</td>\n",
       "    </tr>\n",
       "    <tr>\n",
       "      <th>EcogSPDivatt</th>\n",
       "      <td>656.0</td>\n",
       "      <td>31.767554</td>\n",
       "    </tr>\n",
       "    <tr>\n",
       "      <th>EcogSPVisspat</th>\n",
       "      <td>654.0</td>\n",
       "      <td>31.670702</td>\n",
       "    </tr>\n",
       "    <tr>\n",
       "      <th>EcogSPPlan</th>\n",
       "      <td>651.0</td>\n",
       "      <td>31.525424</td>\n",
       "    </tr>\n",
       "    <tr>\n",
       "      <th>EcogSPTotal</th>\n",
       "      <td>649.0</td>\n",
       "      <td>31.428571</td>\n",
       "    </tr>\n",
       "    <tr>\n",
       "      <th>EcogSPMem</th>\n",
       "      <td>649.0</td>\n",
       "      <td>31.428571</td>\n",
       "    </tr>\n",
       "    <tr>\n",
       "      <th>EcogSPLang</th>\n",
       "      <td>648.0</td>\n",
       "      <td>31.380145</td>\n",
       "    </tr>\n",
       "    <tr>\n",
       "      <th>MOCA</th>\n",
       "      <td>647.0</td>\n",
       "      <td>31.331719</td>\n",
       "    </tr>\n",
       "    <tr>\n",
       "      <th>EcogPtOrgan</th>\n",
       "      <td>644.0</td>\n",
       "      <td>31.186441</td>\n",
       "    </tr>\n",
       "    <tr>\n",
       "      <th>FDG</th>\n",
       "      <td>643.0</td>\n",
       "      <td>31.138015</td>\n",
       "    </tr>\n",
       "    <tr>\n",
       "      <th>EcogPtDivatt</th>\n",
       "      <td>642.0</td>\n",
       "      <td>31.089588</td>\n",
       "    </tr>\n",
       "    <tr>\n",
       "      <th>EcogPtLang</th>\n",
       "      <td>640.0</td>\n",
       "      <td>30.992736</td>\n",
       "    </tr>\n",
       "    <tr>\n",
       "      <th>EcogPtVisspat</th>\n",
       "      <td>640.0</td>\n",
       "      <td>30.992736</td>\n",
       "    </tr>\n",
       "    <tr>\n",
       "      <th>EcogPtPlan</th>\n",
       "      <td>639.0</td>\n",
       "      <td>30.944310</td>\n",
       "    </tr>\n",
       "    <tr>\n",
       "      <th>EcogPtMem</th>\n",
       "      <td>638.0</td>\n",
       "      <td>30.895884</td>\n",
       "    </tr>\n",
       "    <tr>\n",
       "      <th>EcogPtTotal</th>\n",
       "      <td>638.0</td>\n",
       "      <td>30.895884</td>\n",
       "    </tr>\n",
       "    <tr>\n",
       "      <th>Entorhinal</th>\n",
       "      <td>445.0</td>\n",
       "      <td>21.549637</td>\n",
       "    </tr>\n",
       "    <tr>\n",
       "      <th>Fusiform</th>\n",
       "      <td>445.0</td>\n",
       "      <td>21.549637</td>\n",
       "    </tr>\n",
       "    <tr>\n",
       "      <th>MidTemp</th>\n",
       "      <td>445.0</td>\n",
       "      <td>21.549637</td>\n",
       "    </tr>\n",
       "    <tr>\n",
       "      <th>Hippocampus</th>\n",
       "      <td>398.0</td>\n",
       "      <td>19.273608</td>\n",
       "    </tr>\n",
       "    <tr>\n",
       "      <th>Ventricles</th>\n",
       "      <td>358.0</td>\n",
       "      <td>17.336562</td>\n",
       "    </tr>\n",
       "    <tr>\n",
       "      <th>WholeBrain</th>\n",
       "      <td>346.0</td>\n",
       "      <td>16.755448</td>\n",
       "    </tr>\n",
       "    <tr>\n",
       "      <th>APOE4</th>\n",
       "      <td>340.0</td>\n",
       "      <td>16.464891</td>\n",
       "    </tr>\n",
       "    <tr>\n",
       "      <th>FSVERSION</th>\n",
       "      <td>330.0</td>\n",
       "      <td>15.980630</td>\n",
       "    </tr>\n",
       "    <tr>\n",
       "      <th>IMAGEUID</th>\n",
       "      <td>330.0</td>\n",
       "      <td>15.980630</td>\n",
       "    </tr>\n",
       "    <tr>\n",
       "      <th>ICV</th>\n",
       "      <td>330.0</td>\n",
       "      <td>15.980630</td>\n",
       "    </tr>\n",
       "    <tr>\n",
       "      <th>TRABSCOR</th>\n",
       "      <td>26.0</td>\n",
       "      <td>1.259080</td>\n",
       "    </tr>\n",
       "    <tr>\n",
       "      <th>FAQ</th>\n",
       "      <td>13.0</td>\n",
       "      <td>0.629540</td>\n",
       "    </tr>\n",
       "    <tr>\n",
       "      <th>RAVLT_perc_forgetting</th>\n",
       "      <td>8.0</td>\n",
       "      <td>0.387409</td>\n",
       "    </tr>\n",
       "    <tr>\n",
       "      <th>ADAS13</th>\n",
       "      <td>8.0</td>\n",
       "      <td>0.387409</td>\n",
       "    </tr>\n",
       "    <tr>\n",
       "      <th>ADAS11</th>\n",
       "      <td>6.0</td>\n",
       "      <td>0.290557</td>\n",
       "    </tr>\n",
       "    <tr>\n",
       "      <th>LDELTOTAL</th>\n",
       "      <td>3.0</td>\n",
       "      <td>0.145278</td>\n",
       "    </tr>\n",
       "    <tr>\n",
       "      <th>RAVLT_forgetting</th>\n",
       "      <td>3.0</td>\n",
       "      <td>0.145278</td>\n",
       "    </tr>\n",
       "    <tr>\n",
       "      <th>RAVLT_learning</th>\n",
       "      <td>3.0</td>\n",
       "      <td>0.145278</td>\n",
       "    </tr>\n",
       "    <tr>\n",
       "      <th>RAVLT_immediate</th>\n",
       "      <td>3.0</td>\n",
       "      <td>0.145278</td>\n",
       "    </tr>\n",
       "    <tr>\n",
       "      <th>ADASQ4</th>\n",
       "      <td>3.0</td>\n",
       "      <td>0.145278</td>\n",
       "    </tr>\n",
       "    <tr>\n",
       "      <th>mPACCdigit</th>\n",
       "      <td>2.0</td>\n",
       "      <td>0.096852</td>\n",
       "    </tr>\n",
       "    <tr>\n",
       "      <th>mPACCtrailsB</th>\n",
       "      <td>2.0</td>\n",
       "      <td>0.096852</td>\n",
       "    </tr>\n",
       "  </tbody>\n",
       "</table>\n",
       "</div>"
      ],
      "text/plain": [
       "                       Num Missing  Pct. Missing\n",
       "PIB                         1974.0     95.593220\n",
       "DIGITSCOR                   1248.0     60.435835\n",
       "AV45                         956.0     46.295400\n",
       "ABETA                        816.0     39.515738\n",
       "TAU                          816.0     39.515738\n",
       "PTAU                         816.0     39.515738\n",
       "EcogSPOrgan                  670.0     32.445521\n",
       "EcogSPDivatt                 656.0     31.767554\n",
       "EcogSPVisspat                654.0     31.670702\n",
       "EcogSPPlan                   651.0     31.525424\n",
       "EcogSPTotal                  649.0     31.428571\n",
       "EcogSPMem                    649.0     31.428571\n",
       "EcogSPLang                   648.0     31.380145\n",
       "MOCA                         647.0     31.331719\n",
       "EcogPtOrgan                  644.0     31.186441\n",
       "FDG                          643.0     31.138015\n",
       "EcogPtDivatt                 642.0     31.089588\n",
       "EcogPtLang                   640.0     30.992736\n",
       "EcogPtVisspat                640.0     30.992736\n",
       "EcogPtPlan                   639.0     30.944310\n",
       "EcogPtMem                    638.0     30.895884\n",
       "EcogPtTotal                  638.0     30.895884\n",
       "Entorhinal                   445.0     21.549637\n",
       "Fusiform                     445.0     21.549637\n",
       "MidTemp                      445.0     21.549637\n",
       "Hippocampus                  398.0     19.273608\n",
       "Ventricles                   358.0     17.336562\n",
       "WholeBrain                   346.0     16.755448\n",
       "APOE4                        340.0     16.464891\n",
       "FSVERSION                    330.0     15.980630\n",
       "IMAGEUID                     330.0     15.980630\n",
       "ICV                          330.0     15.980630\n",
       "TRABSCOR                      26.0      1.259080\n",
       "FAQ                           13.0      0.629540\n",
       "RAVLT_perc_forgetting          8.0      0.387409\n",
       "ADAS13                         8.0      0.387409\n",
       "ADAS11                         6.0      0.290557\n",
       "LDELTOTAL                      3.0      0.145278\n",
       "RAVLT_forgetting               3.0      0.145278\n",
       "RAVLT_learning                 3.0      0.145278\n",
       "RAVLT_immediate                3.0      0.145278\n",
       "ADASQ4                         3.0      0.145278\n",
       "mPACCdigit                     2.0      0.096852\n",
       "mPACCtrailsB                   2.0      0.096852"
      ]
     },
     "execution_count": 23,
     "metadata": {},
     "output_type": "execute_result"
    }
   ],
   "source": [
    "print(\"The new shape of the baseline subset is {}.\".format(baseline.shape))\n",
    "utils.calculate_missing_data(baseline)"
   ]
  },
  {
   "cell_type": "markdown",
   "metadata": {},
   "source": [
    "In the new dataset, it is clear that `PIB` will not be useful and can be removed. PIB or *PiB* stands for **Pi**ttsburgh Compound-**B** - a synthetic radiotracer developed for use in PET scans to visualize and measure A$\\beta$ deposits in the brain."
   ]
  },
  {
   "cell_type": "code",
   "execution_count": 24,
   "metadata": {},
   "outputs": [],
   "source": [
    "baseline = baseline.drop(labels='PIB', axis=1)"
   ]
  },
  {
   "cell_type": "markdown",
   "metadata": {},
   "source": [
    "There are other features in the data that we are confindent won't be helpful in predicting AD. These include features such as `SITE`, `update_stamp`, `EXAMDATE`, etc. We will remove them."
   ]
  },
  {
   "cell_type": "code",
   "execution_count": 25,
   "metadata": {},
   "outputs": [],
   "source": [
    "baseline = baseline.drop(labels=['update_stamp', 'Years_bl', 'SITE', 'VISCODE', 'COLPROT', 'ORIGPROT',\n",
    "                                 'Month_bl', 'M', 'EXAMDATE', 'IMAGEUID'], axis=1)"
   ]
  },
  {
   "cell_type": "code",
   "execution_count": 26,
   "metadata": {},
   "outputs": [
    {
     "data": {
      "text/plain": [
       "Index(['ABETA', 'ADAS11', 'ADAS13', 'ADASQ4', 'AGE', 'APOE4', 'AV45', 'CDRSB',\n",
       "       'DIGITSCOR', 'DX_bl', 'EcogPtDivatt', 'EcogPtLang', 'EcogPtMem',\n",
       "       'EcogPtOrgan', 'EcogPtPlan', 'EcogPtTotal', 'EcogPtVisspat',\n",
       "       'EcogSPDivatt', 'EcogSPLang', 'EcogSPMem', 'EcogSPOrgan', 'EcogSPPlan',\n",
       "       'EcogSPTotal', 'EcogSPVisspat', 'Entorhinal', 'FAQ', 'FDG', 'FSVERSION',\n",
       "       'Fusiform', 'Hippocampus', 'ICV', 'LDELTOTAL', 'MMSE', 'MOCA',\n",
       "       'MidTemp', 'Month', 'PTAU', 'PTEDUCAT', 'PTETHCAT', 'PTGENDER',\n",
       "       'PTMARRY', 'PTRACCAT', 'RAVLT_forgetting', 'RAVLT_immediate',\n",
       "       'RAVLT_learning', 'RAVLT_perc_forgetting', 'RID', 'TAU', 'TRABSCOR',\n",
       "       'Ventricles', 'WholeBrain', 'mPACCdigit', 'mPACCtrailsB'],\n",
       "      dtype='object')"
      ]
     },
     "execution_count": 26,
     "metadata": {},
     "output_type": "execute_result"
    }
   ],
   "source": [
    "# Let's see what features we have now\n",
    "baseline.columns.sort_values()"
   ]
  },
  {
   "cell_type": "markdown",
   "metadata": {},
   "source": [
    "We have some non-numeric data in `ABETA`, `TAU`, and `PTAU`, such as '>1300' or '<80'. We'll remove the `>` and `<` characters and change the dtype to float64."
   ]
  },
  {
   "cell_type": "code",
   "execution_count": 27,
   "metadata": {},
   "outputs": [],
   "source": [
    "# remove < or > \n",
    "def remove_gt_lt(val):\n",
    "    if type(val) == str:\n",
    "        return float(val.replace('>', '').replace('<', ''))\n",
    "    else:\n",
    "        return val\n",
    "    \n",
    "    \n",
    "for col in ['ABETA', 'TAU', 'PTAU']:\n",
    "    values = baseline[col].values\n",
    "    baseline[col] = list(map(remove_gt_lt, values))"
   ]
  },
  {
   "cell_type": "code",
   "execution_count": 28,
   "metadata": {},
   "outputs": [],
   "source": [
    "baseline['PTEDUCAT'] = baseline.PTEDUCAT.astype('float')"
   ]
  },
  {
   "cell_type": "markdown",
   "metadata": {},
   "source": [
    "At this point, we have cleaned the data by removing duplicate/highly correlated or informationless features and filling in missing values that can be found within the collected data. To deal with the remaining missingness, we will impute values. But first we have to make a decision about whether to normalize the data before or after imputation. We have decided to standardize the data before imputing missing values. We reason that imputing on the data before standardization may cover up or dilute any bias present in the data. Also, standardizing the data before imputation is preferred if we use modeling to impute missing data."
   ]
  },
  {
   "cell_type": "markdown",
   "metadata": {},
   "source": [
    "There are additional (potentially valuable) data that are not included in the Merged data set. These data have been cleaned and put into a format such that we can join them to the merged data set. We will do that before performing any imputation."
   ]
  },
  {
   "cell_type": "code",
   "execution_count": 29,
   "metadata": {},
   "outputs": [],
   "source": [
    "# First set the baseline index to 'RID'\n",
    "baseline.index = baseline['RID']\n",
    "baseline = baseline.drop(labels='RID', axis=1)"
   ]
  },
  {
   "cell_type": "code",
   "execution_count": 30,
   "metadata": {},
   "outputs": [],
   "source": [
    "# Read in the additional patient data. Use RID as the index column\n",
    "pat_data = pd.read_csv('../data/Per_Patient/patient_firstidx_merge.csv', index_col='RID', na_values='-1')"
   ]
  },
  {
   "cell_type": "markdown",
   "metadata": {},
   "source": [
    "Let's identify and remove any duplicate columns."
   ]
  },
  {
   "cell_type": "code",
   "execution_count": 31,
   "metadata": {},
   "outputs": [
    {
     "name": "stdout",
     "output_type": "stream",
     "text": [
      "Dropped duplicate columns: ['ABETA', 'PTEDUCAT', 'PTETHCAT', 'PTMARRY', 'TAU', 'PTRACCAT', 'PTGENDER', 'PTAU']\n"
     ]
    }
   ],
   "source": [
    "dupes = list(set(baseline.columns) & set(pat_data.columns))\n",
    "pat_data = pat_data.drop(labels=dupes, axis=1)\n",
    "print(f'Dropped duplicate columns: {dupes}')"
   ]
  },
  {
   "cell_type": "markdown",
   "metadata": {},
   "source": [
    "Now we'll merge the ADNI_Merge dataset and cleaned Per_Patient dataset that we've built and curated from raw data files."
   ]
  },
  {
   "cell_type": "code",
   "execution_count": 32,
   "metadata": {},
   "outputs": [],
   "source": [
    "# Merge baseline with pat_data\n",
    "pat_comb = pd.merge(baseline, pat_data, on='RID')\n",
    "\n",
    "# First drop cols that have only NA values\n",
    "pat_comb = pat_comb.dropna(axis='columns', thresh=1)"
   ]
  },
  {
   "cell_type": "markdown",
   "metadata": {},
   "source": [
    "Save the file before imputing."
   ]
  },
  {
   "cell_type": "code",
   "execution_count": 33,
   "metadata": {},
   "outputs": [],
   "source": [
    "pat_comb.to_csv('../data/Per_Patient/pat_merge_b4_impute.csv')"
   ]
  },
  {
   "cell_type": "markdown",
   "metadata": {},
   "source": [
    "Our goal is to strike a balance between keeping as much data as possible and reducing noise introduced by imputing columns that are nearly completely void of information. We will explore the relationship between these by imputing with different thresholds for missing data."
   ]
  },
  {
   "cell_type": "code",
   "execution_count": 34,
   "metadata": {},
   "outputs": [],
   "source": [
    "def drop_missing_cols(data, threshold):\n",
    "    \"\"\"Drops cols from data that missing values above the threshold.\n",
    "    \n",
    "    # Arguments:\n",
    "        data: The data to drop missing cols from\n",
    "        threshold: float 0:1, the max allowable percentage of missing values\n",
    "        \n",
    "    # Returns\n",
    "        The data with missing cols dropped.\n",
    "    \"\"\"\n",
    "    cols = data.columns.values\n",
    "\n",
    "    # Drop columns that don't have at least 1 - threshold non-NA values\n",
    "    data = data.dropna(axis='columns', thresh=np.floor(data.shape[0] * (1 - threshold)))\n",
    "\n",
    "    print('Dropped columns due to missingness:\\n', set(cols) ^ set(data.columns.values))\n",
    "    return data"
   ]
  },
  {
   "cell_type": "markdown",
   "metadata": {},
   "source": [
    "Now we will prepare the categorical variables. Depending on the study, some categorical features use text values like `AD`, `MCI`, `MALE`, `FEMALE`, etc., and some use numerical codes. The per-patient data have been cleaned to and standardized to use numeric values. We will read in a file that identifies the correct dtypes per column."
   ]
  },
  {
   "cell_type": "code",
   "execution_count": 35,
   "metadata": {},
   "outputs": [],
   "source": [
    "def get_combined_data(missing_thresh):\n",
    "    \"\"\"Gets the raw combined (ADNI_Merge and Per_Patient) datasets. The\n",
    "    categorical features will have a dtype of 'int'. \n",
    "    \n",
    "    # Returns:\n",
    "        Returns the combined (ADNI_Merge and Per_Patient) datasets and lists\n",
    "        of the categorical and non-categorical features.\n",
    "    \"\"\"\n",
    "    # Read in the combined (Merged and Per Patient) dataset\n",
    "    pat_comb = pd.read_csv('../data/Per_Patient/pat_merge_b4_impute.csv', index_col='RID')\n",
    "    \n",
    "    # Drop cols based on missing threshold\n",
    "    pat_comb = drop_missing_cols(pat_comb, missing_thresh)\n",
    "\n",
    "    # Import the dtypes. Categorical variables are represented as int64 as opposed to floats.\n",
    "    dtypes = pd.read_csv('../data/Per_Patient/patient_firstidx_dtypes.csv', index_col='feature_name')\n",
    "\n",
    "    # Categoricals from baseline\n",
    "    categoricals = ['PTETHCAT', 'PTGENDER', 'PTRACCAT', 'PTMARRY', 'FSVERSION', 'APOE4', 'DX_bl']\n",
    "    for cat in categoricals:\n",
    "        if cat not in pat_comb.columns:\n",
    "            categoricals.pop(categoricals.index(cat))\n",
    "\n",
    "    # Collect categorical columns from pat_data based on dtype=int64\n",
    "    for i in dtypes.index:\n",
    "        # RID is the index so skip it\n",
    "        if i == 'RID':\n",
    "            continue\n",
    "        # If dtype is int, the it's categorical\n",
    "        if 'int' in dtypes.loc[i].data_type and i in pat_comb.columns:\n",
    "            categoricals.append(i)\n",
    "\n",
    "    # Remove any dupes\n",
    "    categoricals = list(set(categoricals))\n",
    "    non_cat = list(set(pat_comb.columns) ^ set(categoricals))\n",
    "    return pat_comb, categoricals, non_cat"
   ]
  },
  {
   "cell_type": "code",
   "execution_count": 36,
   "metadata": {},
   "outputs": [],
   "source": [
    "# Set the missing data threshold\n",
    "missing_thresh = .5"
   ]
  },
  {
   "cell_type": "markdown",
   "metadata": {},
   "source": [
    "At this point, we have cleaned the data by removing duplicate/highly correlated or informationless features and filling in missing values that can be found within the collected data. To deal with the remaining missingness, we will impute values. But first we have to make a decision about whether to normalize the data before or after imputation. We have decided to normalize the data before imputing missing values. We reason that imputing on the data before normalization may cover up or dilute any bias present in the data. Also, normalizing the data before imputation is preferred if we use modeling to impute missing data."
   ]
  },
  {
   "cell_type": "code",
   "execution_count": 37,
   "metadata": {},
   "outputs": [
    {
     "name": "stdout",
     "output_type": "stream",
     "text": [
      "Dropped columns due to missingness:\n",
      " {'DXMPTR1', 'MH14AALCH', 'MH16ASMOK', 'HMT95', 'CMT2', 'HMT93', 'DXMPTR4', 'MH15ADRUG', 'CMT3', 'HMT96', 'HMT21', 'DXNORM', 'DIGITSCOR', 'DADAD', 'MH16BSMOK', 'DXMPTR2', 'HMT20', 'AXT117', 'DXNODEP', 'HMT69', 'DXMPTR5', 'MH15BDRUG', 'UAT3', 'UAT2', 'MH16CSMOK', 'MH14BALCH', 'MH14CALCH', 'BAT324', 'DXMPTR3', 'HMT98', 'HMT70'}\n"
     ]
    }
   ],
   "source": [
    "# Read in data and identify categorical and non-categorical features\n",
    "pat_comb, categoricals, non_cat = get_combined_data(missing_thresh)"
   ]
  },
  {
   "cell_type": "code",
   "execution_count": 38,
   "metadata": {},
   "outputs": [
    {
     "name": "stderr",
     "output_type": "stream",
     "text": [
      "/home/ec2-user/anaconda3/lib/python3.6/site-packages/sklearn/preprocessing/data.py:323: DataConversionWarning: Data with input dtype int64, float64 were all converted to float64 by MinMaxScaler.\n",
      "  return self.partial_fit(X, y)\n"
     ]
    }
   ],
   "source": [
    "# Scale all columns that are non-categorical\n",
    "pat_comb = utils.scale_cols(data=pat_comb, cols=non_cat, scaler=MinMaxScaler())"
   ]
  },
  {
   "cell_type": "markdown",
   "metadata": {},
   "source": [
    "Next we'll use a combination of stacking and grid search to see the effects of missingness and different models on imputation and predictive models. We'll start by defining the classifiers and regressors that we want to evaluate for imputing the missing data."
   ]
  },
  {
   "cell_type": "code",
   "execution_count": 39,
   "metadata": {},
   "outputs": [],
   "source": [
    "def make_clf_stack():\n",
    "    \"\"\"Convenience function to create a stacking meta classifier.\n",
    "    \n",
    "    # Returns:\n",
    "        A Stacking CV Classifier and a parameter grid.\n",
    "    \"\"\"\n",
    "    # Define classification estimators and their param grids\n",
    "    cl_params = {}\n",
    "\n",
    "    # SVC\n",
    "    svc = SVC(gamma='scale', decision_function_shape='ovr', probability=True, class_weight='balanced')\n",
    "    bclf = BaggingClassifier(svc, max_samples=.5, max_features=.5, n_estimators=10, n_jobs=-1)\n",
    "    clf1 = OneVsRestClassifier(bclf, n_jobs=-1)\n",
    "    cl_params['onevsrestclassifier__estimator__base_estimator__kernel'] = ['linear', 'rbf']\n",
    "    cl_params['onevsrestclassifier__estimator__base_estimator__C'] = 10. ** np.arange(-2, 2)\n",
    "\n",
    "    # AdaBoost\n",
    "    dtc = DecisionTreeClassifier(max_features=\"auto\", class_weight=\"balanced\", max_depth=None)\n",
    "    clf2 = AdaBoostClassifier(base_estimator=dtc)\n",
    "    cl_params['adaboostclassifier__base_estimator__criterion'] = [\"gini\"]\n",
    "    cl_params['adaboostclassifier__n_estimators'] = [100]\n",
    "\n",
    "    # KNN\n",
    "    clf3 = KNeighborsClassifier(n_jobs=-1)\n",
    "    cl_params['kneighborsclassifier__n_neighbors'] = [2, 5, 10, 100]\n",
    "\n",
    "    # Meta-classifier\n",
    "    meta_clf = LogisticRegression(solver='lbfgs', n_jobs=-1, multi_class='auto')\n",
    "    #cl_params['meta-logisticregression__C'] = [0.1, 1, 10.0]\n",
    "\n",
    "    # Stacking-Classifier\n",
    "    sclf = StackingCVClassifier(classifiers=[clf1, clf2, clf3],\n",
    "                                meta_classifier=meta_clf)\n",
    "    \n",
    "    return sclf, cl_params"
   ]
  },
  {
   "cell_type": "code",
   "execution_count": 40,
   "metadata": {},
   "outputs": [
    {
     "name": "stdout",
     "output_type": "stream",
     "text": [
      "Imputing feature 1 of 80: MH3HEAD\n",
      "Imputing feature 2 of 80: BCDIZZY\n"
     ]
    },
    {
     "name": "stderr",
     "output_type": "stream",
     "text": [
      "/home/ec2-user/anaconda3/lib/python3.6/site-packages/sklearn/externals/joblib/externals/loky/process_executor.py:706: UserWarning: A worker stopped while some jobs were given to the executor. This can be caused by a too short worker timeout or by a memory leak.\n",
      "  \"timeout or by a memory leak.\", UserWarning\n"
     ]
    },
    {
     "name": "stdout",
     "output_type": "stream",
     "text": [
      "Imputing feature 3 of 80: BCANKLE\n"
     ]
    },
    {
     "name": "stderr",
     "output_type": "stream",
     "text": [
      "/home/ec2-user/anaconda3/lib/python3.6/site-packages/sklearn/externals/joblib/externals/loky/process_executor.py:706: UserWarning: A worker stopped while some jobs were given to the executor. This can be caused by a too short worker timeout or by a memory leak.\n",
      "  \"timeout or by a memory leak.\", UserWarning\n"
     ]
    },
    {
     "name": "stdout",
     "output_type": "stream",
     "text": [
      "Imputing feature 4 of 80: DXDEP\n"
     ]
    },
    {
     "name": "stderr",
     "output_type": "stream",
     "text": [
      "/home/ec2-user/anaconda3/lib/python3.6/site-packages/sklearn/externals/joblib/externals/loky/process_executor.py:706: UserWarning: A worker stopped while some jobs were given to the executor. This can be caused by a too short worker timeout or by a memory leak.\n",
      "  \"timeout or by a memory leak.\", UserWarning\n"
     ]
    },
    {
     "name": "stdout",
     "output_type": "stream",
     "text": [
      "Imputing feature 5 of 80: MH17MALI\n"
     ]
    },
    {
     "name": "stderr",
     "output_type": "stream",
     "text": [
      "/home/ec2-user/anaconda3/lib/python3.6/site-packages/sklearn/externals/joblib/externals/loky/process_executor.py:706: UserWarning: A worker stopped while some jobs were given to the executor. This can be caused by a too short worker timeout or by a memory leak.\n",
      "  \"timeout or by a memory leak.\", UserWarning\n"
     ]
    },
    {
     "name": "stdout",
     "output_type": "stream",
     "text": [
      "Imputing feature 6 of 80: NXSENSOR\n"
     ]
    },
    {
     "name": "stderr",
     "output_type": "stream",
     "text": [
      "/home/ec2-user/anaconda3/lib/python3.6/site-packages/sklearn/externals/joblib/externals/loky/process_executor.py:706: UserWarning: A worker stopped while some jobs were given to the executor. This can be caused by a too short worker timeout or by a memory leak.\n",
      "  \"timeout or by a memory leak.\", UserWarning\n"
     ]
    },
    {
     "name": "stdout",
     "output_type": "stream",
     "text": [
      "Imputing feature 7 of 80: BCINSOMN\n"
     ]
    },
    {
     "name": "stderr",
     "output_type": "stream",
     "text": [
      "/home/ec2-user/anaconda3/lib/python3.6/site-packages/sklearn/externals/joblib/externals/loky/process_executor.py:706: UserWarning: A worker stopped while some jobs were given to the executor. This can be caused by a too short worker timeout or by a memory leak.\n",
      "  \"timeout or by a memory leak.\", UserWarning\n"
     ]
    },
    {
     "name": "stdout",
     "output_type": "stream",
     "text": [
      "Imputing feature 8 of 80: FSVERSION\n",
      "Error fitting values for FSVERSION\n",
      "Cross-Sectional FreeSurfer (5.1)                       916\n",
      "Cross-Sectional FreeSurfer (FreeSurfer Version 4.3)    819\n",
      "Name: FSVERSION, dtype: int64\n",
      "Imputing feature 9 of 80: NXVISUAL\n",
      "Imputing feature 10 of 80: PTHAND\n"
     ]
    },
    {
     "name": "stderr",
     "output_type": "stream",
     "text": [
      "/home/ec2-user/anaconda3/lib/python3.6/site-packages/sklearn/externals/joblib/externals/loky/process_executor.py:706: UserWarning: A worker stopped while some jobs were given to the executor. This can be caused by a too short worker timeout or by a memory leak.\n",
      "  \"timeout or by a memory leak.\", UserWarning\n"
     ]
    },
    {
     "name": "stdout",
     "output_type": "stream",
     "text": [
      "Imputing feature 11 of 80: MH2NEURL\n"
     ]
    },
    {
     "name": "stderr",
     "output_type": "stream",
     "text": [
      "/home/ec2-user/anaconda3/lib/python3.6/site-packages/sklearn/externals/joblib/externals/loky/process_executor.py:706: UserWarning: A worker stopped while some jobs were given to the executor. This can be caused by a too short worker timeout or by a memory leak.\n",
      "  \"timeout or by a memory leak.\", UserWarning\n"
     ]
    },
    {
     "name": "stdout",
     "output_type": "stream",
     "text": [
      "Imputing feature 12 of 80: NXAUDITO\n"
     ]
    },
    {
     "name": "stderr",
     "output_type": "stream",
     "text": [
      "/home/ec2-user/anaconda3/lib/python3.6/site-packages/sklearn/externals/joblib/externals/loky/process_executor.py:706: UserWarning: A worker stopped while some jobs were given to the executor. This can be caused by a too short worker timeout or by a memory leak.\n",
      "  \"timeout or by a memory leak.\", UserWarning\n"
     ]
    },
    {
     "name": "stdout",
     "output_type": "stream",
     "text": [
      "Imputing feature 13 of 80: BCDROWSY\n"
     ]
    },
    {
     "name": "stderr",
     "output_type": "stream",
     "text": [
      "/home/ec2-user/anaconda3/lib/python3.6/site-packages/sklearn/externals/joblib/externals/loky/process_executor.py:706: UserWarning: A worker stopped while some jobs were given to the executor. This can be caused by a too short worker timeout or by a memory leak.\n",
      "  \"timeout or by a memory leak.\", UserWarning\n"
     ]
    },
    {
     "name": "stdout",
     "output_type": "stream",
     "text": [
      "Imputing feature 14 of 80: BCURNFRQ\n"
     ]
    },
    {
     "name": "stderr",
     "output_type": "stream",
     "text": [
      "/home/ec2-user/anaconda3/lib/python3.6/site-packages/sklearn/externals/joblib/externals/loky/process_executor.py:706: UserWarning: A worker stopped while some jobs were given to the executor. This can be caused by a too short worker timeout or by a memory leak.\n",
      "  \"timeout or by a memory leak.\", UserWarning\n"
     ]
    },
    {
     "name": "stdout",
     "output_type": "stream",
     "text": [
      "Imputing feature 15 of 80: NXABNORM\n"
     ]
    },
    {
     "name": "stderr",
     "output_type": "stream",
     "text": [
      "/home/ec2-user/anaconda3/lib/python3.6/site-packages/sklearn/model_selection/_split.py:652: Warning: The least populated class in y has only 2 members, which is too few. The minimum number of members in any class cannot be less than n_splits=5.\n",
      "  % (min_groups, self.n_splits)), Warning)\n"
     ]
    },
    {
     "name": "stdout",
     "output_type": "stream",
     "text": [
      "Error fitting values for NXABNORM\n",
      "1.0    2046\n",
      "2.0       2\n",
      "Name: NXABNORM, dtype: int64\n",
      "Imputing feature 16 of 80: BCVOMIT\n",
      "Error fitting values for BCVOMIT\n",
      "1.0    1719\n",
      "2.0      20\n",
      "Name: BCVOMIT, dtype: int64\n",
      "Imputing feature 17 of 80: BCSWEATN\n",
      "Imputing feature 18 of 80: MOMAD\n"
     ]
    },
    {
     "name": "stderr",
     "output_type": "stream",
     "text": [
      "/home/ec2-user/anaconda3/lib/python3.6/site-packages/sklearn/externals/joblib/externals/loky/process_executor.py:706: UserWarning: A worker stopped while some jobs were given to the executor. This can be caused by a too short worker timeout or by a memory leak.\n",
      "  \"timeout or by a memory leak.\", UserWarning\n"
     ]
    },
    {
     "name": "stdout",
     "output_type": "stream",
     "text": [
      "Imputing feature 19 of 80: DADDEM\n"
     ]
    },
    {
     "name": "stderr",
     "output_type": "stream",
     "text": [
      "/home/ec2-user/anaconda3/lib/python3.6/site-packages/sklearn/externals/joblib/externals/loky/process_executor.py:706: UserWarning: A worker stopped while some jobs were given to the executor. This can be caused by a too short worker timeout or by a memory leak.\n",
      "  \"timeout or by a memory leak.\", UserWarning\n"
     ]
    },
    {
     "name": "stdout",
     "output_type": "stream",
     "text": [
      "Imputing feature 20 of 80: MH13ALLE\n"
     ]
    },
    {
     "name": "stderr",
     "output_type": "stream",
     "text": [
      "/home/ec2-user/anaconda3/lib/python3.6/site-packages/sklearn/externals/joblib/externals/loky/process_executor.py:706: UserWarning: A worker stopped while some jobs were given to the executor. This can be caused by a too short worker timeout or by a memory leak.\n",
      "  \"timeout or by a memory leak.\", UserWarning\n"
     ]
    },
    {
     "name": "stdout",
     "output_type": "stream",
     "text": [
      "Imputing feature 21 of 80: NXCONSCI\n"
     ]
    },
    {
     "name": "stderr",
     "output_type": "stream",
     "text": [
      "/home/ec2-user/anaconda3/lib/python3.6/site-packages/sklearn/model_selection/_split.py:652: Warning: The least populated class in y has only 3 members, which is too few. The minimum number of members in any class cannot be less than n_splits=5.\n",
      "  % (min_groups, self.n_splits)), Warning)\n"
     ]
    },
    {
     "name": "stdout",
     "output_type": "stream",
     "text": [
      "Error fitting values for NXCONSCI\n",
      "1.0    2047\n",
      "2.0       3\n",
      "Name: NXCONSCI, dtype: int64\n",
      "Imputing feature 22 of 80: NXTREMOR\n",
      "Imputing feature 23 of 80: BCELMOOD\n",
      "Error fitting values for BCELMOOD\n",
      "1.0    1720\n",
      "2.0      19\n",
      "Name: BCELMOOD, dtype: int64\n",
      "Imputing feature 25 of 80: BCENERGY\n",
      "Imputing feature 27 of 80: NXHEEL\n",
      "Error fitting values for NXHEEL\n",
      "1.0    2015\n",
      "2.0      34\n",
      "Name: NXHEEL, dtype: int64\n",
      "Imputing feature 28 of 80: BCABDOMN\n",
      "Imputing feature 29 of 80: DX_BASE\n"
     ]
    },
    {
     "name": "stderr",
     "output_type": "stream",
     "text": [
      "/home/ec2-user/anaconda3/lib/python3.6/site-packages/sklearn/externals/joblib/externals/loky/process_executor.py:706: UserWarning: A worker stopped while some jobs were given to the executor. This can be caused by a too short worker timeout or by a memory leak.\n",
      "  \"timeout or by a memory leak.\", UserWarning\n"
     ]
    },
    {
     "name": "stdout",
     "output_type": "stream",
     "text": [
      "Imputing feature 30 of 80: APGEN2\n",
      "Error fitting values for APGEN2\n",
      "3.0    911\n",
      "4.0    809\n",
      "2.0      5\n",
      "Name: APGEN2, dtype: int64\n",
      "Imputing feature 31 of 80: MH16SMOK\n",
      "Imputing feature 32 of 80: MH10GAST\n"
     ]
    },
    {
     "name": "stderr",
     "output_type": "stream",
     "text": [
      "/home/ec2-user/anaconda3/lib/python3.6/site-packages/sklearn/externals/joblib/externals/loky/process_executor.py:706: UserWarning: A worker stopped while some jobs were given to the executor. This can be caused by a too short worker timeout or by a memory leak.\n",
      "  \"timeout or by a memory leak.\", UserWarning\n"
     ]
    },
    {
     "name": "stdout",
     "output_type": "stream",
     "text": [
      "Imputing feature 33 of 80: MH14ALCH\n"
     ]
    },
    {
     "name": "stderr",
     "output_type": "stream",
     "text": [
      "/home/ec2-user/anaconda3/lib/python3.6/site-packages/sklearn/externals/joblib/externals/loky/process_executor.py:706: UserWarning: A worker stopped while some jobs were given to the executor. This can be caused by a too short worker timeout or by a memory leak.\n",
      "  \"timeout or by a memory leak.\", UserWarning\n"
     ]
    },
    {
     "name": "stdout",
     "output_type": "stream",
     "text": [
      "Imputing feature 35 of 80: BCBREATH\n"
     ]
    },
    {
     "name": "stderr",
     "output_type": "stream",
     "text": [
      "/home/ec2-user/anaconda3/lib/python3.6/site-packages/sklearn/externals/joblib/externals/loky/process_executor.py:706: UserWarning: A worker stopped while some jobs were given to the executor. This can be caused by a too short worker timeout or by a memory leak.\n",
      "  \"timeout or by a memory leak.\", UserWarning\n"
     ]
    },
    {
     "name": "stdout",
     "output_type": "stream",
     "text": [
      "Imputing feature 36 of 80: DX_CHANGE\n"
     ]
    },
    {
     "name": "stderr",
     "output_type": "stream",
     "text": [
      "/home/ec2-user/anaconda3/lib/python3.6/site-packages/sklearn/model_selection/_split.py:652: Warning: The least populated class in y has only 4 members, which is too few. The minimum number of members in any class cannot be less than n_splits=5.\n",
      "  % (min_groups, self.n_splits)), Warning)\n"
     ]
    },
    {
     "name": "stdout",
     "output_type": "stream",
     "text": [
      "Error fitting values for DX_CHANGE\n",
      "1.0    659\n",
      "5.0    573\n",
      "9.0    325\n",
      "8.0    288\n",
      "4.0     85\n",
      "2.0     60\n",
      "7.0     20\n",
      "6.0      4\n",
      "Name: DX_CHANGE, dtype: int64\n",
      "Imputing feature 37 of 80: BCWANDER\n",
      "Error fitting values for BCWANDER\n",
      "1.0    1732\n",
      "2.0       7\n",
      "Name: BCWANDER, dtype: int64\n",
      "Imputing feature 38 of 80: NXPLANTA\n",
      "Imputing feature 39 of 80: DX_FINAL\n"
     ]
    },
    {
     "name": "stderr",
     "output_type": "stream",
     "text": [
      "/home/ec2-user/anaconda3/lib/python3.6/site-packages/sklearn/externals/joblib/externals/loky/process_executor.py:706: UserWarning: A worker stopped while some jobs were given to the executor. This can be caused by a too short worker timeout or by a memory leak.\n",
      "  \"timeout or by a memory leak.\", UserWarning\n"
     ]
    },
    {
     "name": "stdout",
     "output_type": "stream",
     "text": [
      "Imputing feature 40 of 80: BCCONSTP\n"
     ]
    },
    {
     "name": "stderr",
     "output_type": "stream",
     "text": [
      "/home/ec2-user/anaconda3/lib/python3.6/site-packages/sklearn/externals/joblib/externals/loky/process_executor.py:706: UserWarning: A worker stopped while some jobs were given to the executor. This can be caused by a too short worker timeout or by a memory leak.\n",
      "  \"timeout or by a memory leak.\", UserWarning\n"
     ]
    },
    {
     "name": "stdout",
     "output_type": "stream",
     "text": [
      "Imputing feature 41 of 80: MOMDEM\n"
     ]
    },
    {
     "name": "stderr",
     "output_type": "stream",
     "text": [
      "/home/ec2-user/anaconda3/lib/python3.6/site-packages/sklearn/externals/joblib/externals/loky/process_executor.py:706: UserWarning: A worker stopped while some jobs were given to the executor. This can be caused by a too short worker timeout or by a memory leak.\n",
      "  \"timeout or by a memory leak.\", UserWarning\n"
     ]
    },
    {
     "name": "stdout",
     "output_type": "stream",
     "text": [
      "Error fitting values for MOMDEM\n",
      "0.0    1203\n",
      "1.0     822\n",
      "2.0      33\n",
      "Name: MOMDEM, dtype: int64\n",
      "Imputing feature 42 of 80: MH18SURG\n",
      "Imputing feature 43 of 80: NXNERVE\n"
     ]
    },
    {
     "name": "stderr",
     "output_type": "stream",
     "text": [
      "/home/ec2-user/anaconda3/lib/python3.6/site-packages/sklearn/externals/joblib/externals/loky/process_executor.py:706: UserWarning: A worker stopped while some jobs were given to the executor. This can be caused by a too short worker timeout or by a memory leak.\n",
      "  \"timeout or by a memory leak.\", UserWarning\n"
     ]
    },
    {
     "name": "stdout",
     "output_type": "stream",
     "text": [
      "Imputing feature 44 of 80: MHPSYCH\n"
     ]
    },
    {
     "name": "stderr",
     "output_type": "stream",
     "text": [
      "/home/ec2-user/anaconda3/lib/python3.6/site-packages/sklearn/externals/joblib/externals/loky/process_executor.py:706: UserWarning: A worker stopped while some jobs were given to the executor. This can be caused by a too short worker timeout or by a memory leak.\n",
      "  \"timeout or by a memory leak.\", UserWarning\n"
     ]
    },
    {
     "name": "stdout",
     "output_type": "stream",
     "text": [
      "Imputing feature 45 of 80: MH6HEPAT\n"
     ]
    },
    {
     "name": "stderr",
     "output_type": "stream",
     "text": [
      "/home/ec2-user/anaconda3/lib/python3.6/site-packages/sklearn/externals/joblib/externals/loky/process_executor.py:706: UserWarning: A worker stopped while some jobs were given to the executor. This can be caused by a too short worker timeout or by a memory leak.\n",
      "  \"timeout or by a memory leak.\", UserWarning\n"
     ]
    },
    {
     "name": "stdout",
     "output_type": "stream",
     "text": [
      "Imputing feature 46 of 80: NXOTHER\n"
     ]
    },
    {
     "name": "stderr",
     "output_type": "stream",
     "text": [
      "/home/ec2-user/anaconda3/lib/python3.6/site-packages/sklearn/externals/joblib/externals/loky/process_executor.py:706: UserWarning: A worker stopped while some jobs were given to the executor. This can be caused by a too short worker timeout or by a memory leak.\n",
      "  \"timeout or by a memory leak.\", UserWarning\n"
     ]
    },
    {
     "name": "stdout",
     "output_type": "stream",
     "text": [
      "Imputing feature 48 of 80: BCCOUGH\n"
     ]
    },
    {
     "name": "stderr",
     "output_type": "stream",
     "text": [
      "/home/ec2-user/anaconda3/lib/python3.6/site-packages/sklearn/externals/joblib/externals/loky/process_executor.py:706: UserWarning: A worker stopped while some jobs were given to the executor. This can be caused by a too short worker timeout or by a memory leak.\n",
      "  \"timeout or by a memory leak.\", UserWarning\n"
     ]
    },
    {
     "name": "stdout",
     "output_type": "stream",
     "text": [
      "Imputing feature 49 of 80: BCMUSCLE\n"
     ]
    },
    {
     "name": "stderr",
     "output_type": "stream",
     "text": [
      "/home/ec2-user/anaconda3/lib/python3.6/site-packages/sklearn/externals/joblib/externals/loky/process_executor.py:706: UserWarning: A worker stopped while some jobs were given to the executor. This can be caused by a too short worker timeout or by a memory leak.\n",
      "  \"timeout or by a memory leak.\", UserWarning\n"
     ]
    },
    {
     "name": "stdout",
     "output_type": "stream",
     "text": [
      "Imputing feature 50 of 80: BCNAUSEA\n",
      "Imputing feature 51 of 80: BCFALL\n"
     ]
    },
    {
     "name": "stderr",
     "output_type": "stream",
     "text": [
      "/home/ec2-user/anaconda3/lib/python3.6/site-packages/sklearn/externals/joblib/externals/loky/process_executor.py:706: UserWarning: A worker stopped while some jobs were given to the executor. This can be caused by a too short worker timeout or by a memory leak.\n",
      "  \"timeout or by a memory leak.\", UserWarning\n"
     ]
    },
    {
     "name": "stdout",
     "output_type": "stream",
     "text": [
      "Imputing feature 52 of 80: DXCOMB\n"
     ]
    },
    {
     "name": "stderr",
     "output_type": "stream",
     "text": [
      "/home/ec2-user/anaconda3/lib/python3.6/site-packages/sklearn/externals/joblib/externals/loky/process_executor.py:706: UserWarning: A worker stopped while some jobs were given to the executor. This can be caused by a too short worker timeout or by a memory leak.\n",
      "  \"timeout or by a memory leak.\", UserWarning\n"
     ]
    },
    {
     "name": "stdout",
     "output_type": "stream",
     "text": [
      "Imputing feature 54 of 80: BCDPMOOD\n"
     ]
    },
    {
     "name": "stderr",
     "output_type": "stream",
     "text": [
      "/home/ec2-user/anaconda3/lib/python3.6/site-packages/sklearn/externals/joblib/externals/loky/process_executor.py:706: UserWarning: A worker stopped while some jobs were given to the executor. This can be caused by a too short worker timeout or by a memory leak.\n",
      "  \"timeout or by a memory leak.\", UserWarning\n"
     ]
    },
    {
     "name": "stdout",
     "output_type": "stream",
     "text": [
      "Imputing feature 55 of 80: DXPARK\n",
      "Error fitting values for DXPARK\n",
      "0.0    1228\n",
      "1.0      11\n",
      "Name: DXPARK, dtype: int64\n",
      "Imputing feature 57 of 80: MH9ENDO\n",
      "Imputing feature 58 of 80: MH12RENA\n"
     ]
    },
    {
     "name": "stderr",
     "output_type": "stream",
     "text": [
      "/home/ec2-user/anaconda3/lib/python3.6/site-packages/sklearn/externals/joblib/externals/loky/process_executor.py:706: UserWarning: A worker stopped while some jobs were given to the executor. This can be caused by a too short worker timeout or by a memory leak.\n",
      "  \"timeout or by a memory leak.\", UserWarning\n"
     ]
    },
    {
     "name": "stdout",
     "output_type": "stream",
     "text": [
      "Imputing feature 59 of 80: APGEN1\n"
     ]
    },
    {
     "name": "stderr",
     "output_type": "stream",
     "text": [
      "/home/ec2-user/anaconda3/lib/python3.6/site-packages/sklearn/externals/joblib/externals/loky/process_executor.py:706: UserWarning: A worker stopped while some jobs were given to the executor. This can be caused by a too short worker timeout or by a memory leak.\n",
      "  \"timeout or by a memory leak.\", UserWarning\n"
     ]
    },
    {
     "name": "stdout",
     "output_type": "stream",
     "text": [
      "Imputing feature 60 of 80: BCURNDIS\n",
      "Error fitting values for BCURNDIS\n",
      "1.0    1699\n",
      "2.0      40\n",
      "Name: BCURNDIS, dtype: int64\n",
      "Imputing feature 61 of 80: BCPALPIT\n",
      "Imputing feature 62 of 80: MH15DRUG\n",
      "Error fitting values for MH15DRUG\n",
      "0.0    1726\n",
      "1.0      13\n",
      "Name: MH15DRUG, dtype: int64\n",
      "Imputing feature 63 of 80: NXGAIT\n",
      "Imputing feature 64 of 80: BCCHEST\n"
     ]
    },
    {
     "name": "stderr",
     "output_type": "stream",
     "text": [
      "/home/ec2-user/anaconda3/lib/python3.6/site-packages/sklearn/externals/joblib/externals/loky/process_executor.py:706: UserWarning: A worker stopped while some jobs were given to the executor. This can be caused by a too short worker timeout or by a memory leak.\n",
      "  \"timeout or by a memory leak.\", UserWarning\n"
     ]
    },
    {
     "name": "stdout",
     "output_type": "stream",
     "text": [
      "Error fitting values for BCCHEST\n",
      "1.0    1707\n",
      "2.0      32\n",
      "Name: BCCHEST, dtype: int64\n",
      "Imputing feature 65 of 80: BCHDACHE\n",
      "Imputing feature 66 of 80: MH4CARD\n"
     ]
    },
    {
     "name": "stderr",
     "output_type": "stream",
     "text": [
      "/home/ec2-user/anaconda3/lib/python3.6/site-packages/sklearn/externals/joblib/externals/loky/process_executor.py:706: UserWarning: A worker stopped while some jobs were given to the executor. This can be caused by a too short worker timeout or by a memory leak.\n",
      "  \"timeout or by a memory leak.\", UserWarning\n"
     ]
    },
    {
     "name": "stdout",
     "output_type": "stream",
     "text": [
      "Imputing feature 67 of 80: NXMOTOR\n"
     ]
    },
    {
     "name": "stderr",
     "output_type": "stream",
     "text": [
      "/home/ec2-user/anaconda3/lib/python3.6/site-packages/sklearn/externals/joblib/externals/loky/process_executor.py:706: UserWarning: A worker stopped while some jobs were given to the executor. This can be caused by a too short worker timeout or by a memory leak.\n",
      "  \"timeout or by a memory leak.\", UserWarning\n"
     ]
    },
    {
     "name": "stdout",
     "output_type": "stream",
     "text": [
      "Imputing feature 68 of 80: BCDRYMTH\n",
      "Imputing feature 69 of 80: MH5RESP\n",
      "Imputing feature 70 of 80: BCDIARRH\n",
      "Imputing feature 71 of 80: BCRASH\n",
      "Imputing feature 72 of 80: MH8MUSCL\n",
      "Imputing feature 73 of 80: NXTENDON\n"
     ]
    },
    {
     "name": "stderr",
     "output_type": "stream",
     "text": [
      "/home/ec2-user/anaconda3/lib/python3.6/site-packages/sklearn/externals/joblib/externals/loky/process_executor.py:706: UserWarning: A worker stopped while some jobs were given to the executor. This can be caused by a too short worker timeout or by a memory leak.\n",
      "  \"timeout or by a memory leak.\", UserWarning\n"
     ]
    },
    {
     "name": "stdout",
     "output_type": "stream",
     "text": [
      "Imputing feature 74 of 80: MH7DERM\n"
     ]
    },
    {
     "name": "stderr",
     "output_type": "stream",
     "text": [
      "/home/ec2-user/anaconda3/lib/python3.6/site-packages/sklearn/externals/joblib/externals/loky/process_executor.py:706: UserWarning: A worker stopped while some jobs were given to the executor. This can be caused by a too short worker timeout or by a memory leak.\n",
      "  \"timeout or by a memory leak.\", UserWarning\n"
     ]
    },
    {
     "name": "stdout",
     "output_type": "stream",
     "text": [
      "Imputing feature 76 of 80: BCCRYING\n"
     ]
    },
    {
     "name": "stderr",
     "output_type": "stream",
     "text": [
      "/home/ec2-user/anaconda3/lib/python3.6/site-packages/sklearn/externals/joblib/externals/loky/process_executor.py:706: UserWarning: A worker stopped while some jobs were given to the executor. This can be caused by a too short worker timeout or by a memory leak.\n",
      "  \"timeout or by a memory leak.\", UserWarning\n"
     ]
    },
    {
     "name": "stdout",
     "output_type": "stream",
     "text": [
      "Imputing feature 77 of 80: BCVISION\n",
      "Imputing feature 78 of 80: APOE4\n"
     ]
    },
    {
     "name": "stderr",
     "output_type": "stream",
     "text": [
      "/home/ec2-user/anaconda3/lib/python3.6/site-packages/sklearn/externals/joblib/externals/loky/process_executor.py:706: UserWarning: A worker stopped while some jobs were given to the executor. This can be caused by a too short worker timeout or by a memory leak.\n",
      "  \"timeout or by a memory leak.\", UserWarning\n",
      "/home/ec2-user/anaconda3/lib/python3.6/site-packages/sklearn/model_selection/_search.py:841: DeprecationWarning: The default of the `iid` parameter will change from True to False in version 0.22 and will be removed in 0.24. This will change numeric results when test-set sizes are unequal.\n",
      "  DeprecationWarning)\n"
     ]
    },
    {
     "name": "stdout",
     "output_type": "stream",
     "text": [
      "Imputing feature 79 of 80: NXFINGER\n"
     ]
    },
    {
     "name": "stderr",
     "output_type": "stream",
     "text": [
      "/home/ec2-user/anaconda3/lib/python3.6/site-packages/sklearn/externals/joblib/externals/loky/process_executor.py:706: UserWarning: A worker stopped while some jobs were given to the executor. This can be caused by a too short worker timeout or by a memory leak.\n",
      "  \"timeout or by a memory leak.\", UserWarning\n",
      "/home/ec2-user/anaconda3/lib/python3.6/site-packages/sklearn/externals/joblib/externals/loky/process_executor.py:706: UserWarning: A worker stopped while some jobs were given to the executor. This can be caused by a too short worker timeout or by a memory leak.\n",
      "  \"timeout or by a memory leak.\", UserWarning\n"
     ]
    },
    {
     "name": "stdout",
     "output_type": "stream",
     "text": [
      "Imputing feature 80 of 80: MH11HEMA\n"
     ]
    },
    {
     "name": "stderr",
     "output_type": "stream",
     "text": [
      "/home/ec2-user/anaconda3/lib/python3.6/site-packages/sklearn/externals/joblib/externals/loky/process_executor.py:706: UserWarning: A worker stopped while some jobs were given to the executor. This can be caused by a too short worker timeout or by a memory leak.\n",
      "  \"timeout or by a memory leak.\", UserWarning\n"
     ]
    }
   ],
   "source": [
    "impute_thresh = .25\n",
    "sclf, cl_params = make_clf_stack()\n",
    "\n",
    "pat_comb, imputed_cols, scores, errors = utils.impute_values_classification(pat_comb,\n",
    "                                                      cols=categoricals,\n",
    "                                                      estimator=sclf,\n",
    "                                                      param_grid=cl_params,\n",
    "                                                      impute_thresh=impute_thresh)"
   ]
  },
  {
   "cell_type": "code",
   "execution_count": 41,
   "metadata": {},
   "outputs": [],
   "source": [
    "# Save imputed data\n",
    "clf_data_file = f'../data/Imputed/Combined/data_missing{missing_thresh}_StackingCVClassifier_impute{impute_thresh}.csv'\n",
    "pat_comb.to_csv(clf_data_file)"
   ]
  },
  {
   "cell_type": "code",
   "execution_count": 42,
   "metadata": {},
   "outputs": [],
   "source": [
    "# Save models and scores\n",
    "models, m_score = list(map(list, zip(*scores)))\n",
    "\n",
    "def name_model(model, col):\n",
    "    nm = model.__repr__().split('(')[0]\n",
    "    return f\"{col}_{missing_thresh}_{nm}_{impute_thresh}\"\n",
    "\n",
    "model_names = [name_model(model, col) for model, col in zip(models, imputed_cols)]\n",
    "\n",
    "\n",
    "scores_pd = pd.DataFrame({'Score': m_score, 'Model': model_names}, index=imputed_cols)\n",
    "scores_pd.index.name = 'Feature'\n",
    "clf_scores_file = f'../data/Imputed/Combined/scores_missing{missing_thresh}_StackingCVClassifier_impute{impute_thresh}.csv'\n",
    "scores_pd.to_csv(clf_scores_file)"
   ]
  },
  {
   "cell_type": "code",
   "execution_count": 43,
   "metadata": {},
   "outputs": [
    {
     "data": {
      "text/html": [
       "<div>\n",
       "<style scoped>\n",
       "    .dataframe tbody tr th:only-of-type {\n",
       "        vertical-align: middle;\n",
       "    }\n",
       "\n",
       "    .dataframe tbody tr th {\n",
       "        vertical-align: top;\n",
       "    }\n",
       "\n",
       "    .dataframe thead th {\n",
       "        text-align: right;\n",
       "    }\n",
       "</style>\n",
       "<table border=\"1\" class=\"dataframe\">\n",
       "  <thead>\n",
       "    <tr style=\"text-align: right;\">\n",
       "      <th></th>\n",
       "      <th>Score</th>\n",
       "      <th>Model</th>\n",
       "    </tr>\n",
       "    <tr>\n",
       "      <th>Feature</th>\n",
       "      <th></th>\n",
       "      <th></th>\n",
       "    </tr>\n",
       "  </thead>\n",
       "  <tbody>\n",
       "    <tr>\n",
       "      <th>MH3HEAD</th>\n",
       "      <td>0.654399</td>\n",
       "      <td>MH3HEAD_0.5_StackingCVClassifier_0.25</td>\n",
       "    </tr>\n",
       "    <tr>\n",
       "      <th>BCDIZZY</th>\n",
       "      <td>0.867740</td>\n",
       "      <td>BCDIZZY_0.5_StackingCVClassifier_0.25</td>\n",
       "    </tr>\n",
       "    <tr>\n",
       "      <th>BCANKLE</th>\n",
       "      <td>0.901668</td>\n",
       "      <td>BCANKLE_0.5_StackingCVClassifier_0.25</td>\n",
       "    </tr>\n",
       "    <tr>\n",
       "      <th>DXDEP</th>\n",
       "      <td>0.923423</td>\n",
       "      <td>DXDEP_0.5_StackingCVClassifier_0.25</td>\n",
       "    </tr>\n",
       "    <tr>\n",
       "      <th>MH17MALI</th>\n",
       "      <td>0.764807</td>\n",
       "      <td>MH17MALI_0.5_StackingCVClassifier_0.25</td>\n",
       "    </tr>\n",
       "  </tbody>\n",
       "</table>\n",
       "</div>"
      ],
      "text/plain": [
       "             Score                                   Model\n",
       "Feature                                                   \n",
       "MH3HEAD   0.654399   MH3HEAD_0.5_StackingCVClassifier_0.25\n",
       "BCDIZZY   0.867740   BCDIZZY_0.5_StackingCVClassifier_0.25\n",
       "BCANKLE   0.901668   BCANKLE_0.5_StackingCVClassifier_0.25\n",
       "DXDEP     0.923423     DXDEP_0.5_StackingCVClassifier_0.25\n",
       "MH17MALI  0.764807  MH17MALI_0.5_StackingCVClassifier_0.25"
      ]
     },
     "execution_count": 43,
     "metadata": {},
     "output_type": "execute_result"
    }
   ],
   "source": [
    "scores_pd = pd.read_csv(clf_scores_file, index_col='Feature')\n",
    "scores_pd.head()"
   ]
  },
  {
   "cell_type": "code",
   "execution_count": 44,
   "metadata": {},
   "outputs": [],
   "source": [
    "# Save errors\n",
    "err_file = f'../data/Imputed/Combined/errors_missing{missing_thresh}_StackingCVClassifier_impute{impute_thresh}.csv'\n",
    "try:\n",
    "    pd.Series(errors).to_csv(err_file)\n",
    "except:\n",
    "    print(errors)"
   ]
  },
  {
   "cell_type": "markdown",
   "metadata": {},
   "source": [
    "Impute missing continuous variables."
   ]
  },
  {
   "cell_type": "code",
   "execution_count": 45,
   "metadata": {},
   "outputs": [],
   "source": [
    "def make_reg_stack():\n",
    "    \"\"\"Convenience function to create a stacking meta regressor.\n",
    "    \n",
    "    # Returns:\n",
    "        A Stacking CV Regressor and a parameter grid.\n",
    "    \"\"\"\n",
    "    # Define regression estimators and their param grids\n",
    "    reg_params = {}\n",
    "\n",
    "    # Lasso estimator\n",
    "    reg1 = linear_model.Lasso(selection='random', max_iter=3000)\n",
    "    reg_params['lasso__alpha'] = [.001, .01, .1]\n",
    "    \n",
    "    # Ridge estimator\n",
    "    reg2 = linear_model.Ridge(max_iter=3000)\n",
    "    reg_params['ridge__alpha'] = [.001, .01, .1]\n",
    "    \n",
    "    reg3 = SVR(kernel='rbf', gamma='auto')\n",
    "    reg_params['svr__C'] = [.01, 1, 10, 100]\n",
    "    \n",
    "    # RandomForest estimator\n",
    "    meta_reg = RandomForestRegressor(n_estimators=100, n_jobs=-1, oob_score=True)\n",
    "    reg_params['meta-randomforestregressor__min_samples_leaf'] = [3, 10, 50, 100]\n",
    "\n",
    "\n",
    "    reg_stack = StackingCVRegressor(regressors=(reg1, reg2, reg3),\n",
    "                            meta_regressor=meta_reg, \n",
    "                            use_features_in_secondary=True)\n",
    "    \n",
    "    return reg_stack, reg_params"
   ]
  },
  {
   "cell_type": "code",
   "execution_count": 46,
   "metadata": {},
   "outputs": [],
   "source": [
    "# Read in imputed (classification) data\n",
    "impute_thresh = .25\n",
    "pat_comb = pd.read_csv(clf_data_file, index_col='RID', na_values='-1')"
   ]
  },
  {
   "cell_type": "code",
   "execution_count": null,
   "metadata": {},
   "outputs": [
    {
     "name": "stdout",
     "output_type": "stream",
     "text": [
      "Imputing feature 1 of 85: RCT1407\n",
      "Imputing feature 2 of 85: EcogPtMem\n",
      "Imputing feature 3 of 85: FDG\n",
      "Imputing feature 4 of 85: RCT11\n",
      "Imputing feature 5 of 85: MOCA\n",
      "Imputing feature 6 of 85: EcogPtTotal\n",
      "Imputing feature 7 of 85: RCT29\n",
      "Imputing feature 9 of 85: EcogSPMem\n",
      "Imputing feature 10 of 85: WholeBrain\n",
      "Imputing feature 11 of 85: MidTemp\n",
      "Imputing feature 12 of 85: HMT10\n",
      "Imputing feature 13 of 85: EcogSPDivatt\n",
      "Imputing feature 14 of 85: RCT4\n",
      "Imputing feature 15 of 85: EcogSPOrgan\n",
      "Imputing feature 16 of 85: HMT40\n",
      "Imputing feature 17 of 85: HMT12\n",
      "Imputing feature 18 of 85: RCT8\n",
      "Imputing feature 19 of 85: RCT1\n",
      "Imputing feature 20 of 85: EcogSPLang\n",
      "Imputing feature 21 of 85: EcogPtDivatt\n",
      "Imputing feature 23 of 85: HMT19\n",
      "Imputing feature 24 of 85: RCT6\n",
      "Imputing feature 25 of 85: RCT183\n",
      "Imputing feature 26 of 85: HMT11\n"
     ]
    },
    {
     "name": "stderr",
     "output_type": "stream",
     "text": [
      "/home/ec2-user/anaconda3/lib/python3.6/site-packages/sklearn/model_selection/_search.py:841: DeprecationWarning: The default of the `iid` parameter will change from True to False in version 0.22 and will be removed in 0.24. This will change numeric results when test-set sizes are unequal.\n",
      "  DeprecationWarning)\n"
     ]
    },
    {
     "name": "stdout",
     "output_type": "stream",
     "text": [
      "Imputing feature 27 of 85: GDTOTAL\n",
      "Imputing feature 28 of 85: FAQ\n",
      "Imputing feature 29 of 85: RCT20\n",
      "Imputing feature 30 of 85: RCT5\n",
      "Imputing feature 31 of 85: Fusiform\n",
      "Imputing feature 32 of 85: HMT7\n",
      "Imputing feature 33 of 85: EcogSPPlan\n",
      "Imputing feature 34 of 85: HMT13\n",
      "Imputing feature 35 of 85: RCT9\n",
      "Imputing feature 36 of 85: RCT14\n"
     ]
    },
    {
     "name": "stderr",
     "output_type": "stream",
     "text": [
      "/home/ec2-user/anaconda3/lib/python3.6/site-packages/sklearn/model_selection/_search.py:841: DeprecationWarning: The default of the `iid` parameter will change from True to False in version 0.22 and will be removed in 0.24. This will change numeric results when test-set sizes are unequal.\n",
      "  DeprecationWarning)\n"
     ]
    },
    {
     "name": "stdout",
     "output_type": "stream",
     "text": [
      "Imputing feature 38 of 85: EcogPtPlan\n",
      "Imputing feature 39 of 85: AV45\n",
      "Imputing feature 40 of 85: ICV\n",
      "Imputing feature 41 of 85: HMT3\n",
      "Imputing feature 42 of 85: HMT8\n",
      "Imputing feature 43 of 85: MMSCORE\n",
      "Imputing feature 44 of 85: EcogPtLang\n",
      "Imputing feature 45 of 85: RCT12\n",
      "Imputing feature 46 of 85: EcogSPTotal\n",
      "Imputing feature 47 of 85: RCT3\n"
     ]
    },
    {
     "name": "stderr",
     "output_type": "stream",
     "text": [
      "/home/ec2-user/anaconda3/lib/python3.6/site-packages/sklearn/model_selection/_search.py:841: DeprecationWarning: The default of the `iid` parameter will change from True to False in version 0.22 and will be removed in 0.24. This will change numeric results when test-set sizes are unequal.\n",
      "  DeprecationWarning)\n"
     ]
    },
    {
     "name": "stdout",
     "output_type": "stream",
     "text": [
      "Imputing feature 48 of 85: HMT18\n",
      "Imputing feature 49 of 85: HMT2\n",
      "Imputing feature 50 of 85: HMT17\n",
      "Imputing feature 51 of 85: BAT126\n",
      "Imputing feature 52 of 85: ABETA\n",
      "Imputing feature 53 of 85: ADASQ4\n",
      "Imputing feature 54 of 85: HMT15\n",
      "Imputing feature 55 of 85: mPACCtrailsB\n",
      "Imputing feature 57 of 85: LDELTOTAL\n",
      "Imputing feature 58 of 85: HMT16\n",
      "Imputing feature 59 of 85: ADAS11\n",
      "Imputing feature 60 of 85: EcogPtOrgan\n"
     ]
    }
   ],
   "source": [
    "reg_stack, reg_params = make_reg_stack()\n",
    "pat_comb, imputed_cols, scores = utils.impute_values_regression(pat_comb,\n",
    "                                                      cols=non_cat,\n",
    "                                                      estimator=reg_stack,\n",
    "                                                      param_grid=reg_params)"
   ]
  },
  {
   "cell_type": "code",
   "execution_count": null,
   "metadata": {},
   "outputs": [],
   "source": [
    "# Save imputed data\n",
    "final_data_file = f'../data/Imputed/Combined/data_missing{missing_thresh}_StackingCVRegressor_impute{impute_thresh}.csv'\n",
    "pat_comb.to_csv(final_data_file)"
   ]
  },
  {
   "cell_type": "code",
   "execution_count": null,
   "metadata": {},
   "outputs": [],
   "source": [
    "# Save models and scores\n",
    "models, m_score = list(map(list, zip(*scores)))\n",
    "\n",
    "def name_model(model, col):\n",
    "    nm = model.__repr__().split('(')[0]\n",
    "    return f\"{col}_{missing_thresh}_{nm}_{impute_thresh}\"\n",
    "\n",
    "model_names = [name_model(model, col) for model, col in zip(models, imputed_cols)]"
   ]
  },
  {
   "cell_type": "code",
   "execution_count": null,
   "metadata": {},
   "outputs": [],
   "source": [
    "# Save the scores\n",
    "scores_pd = pd.read_csv(clf_scores_file, index_col='Feature')\n",
    "df = pd.DataFrame({'Score': m_score, 'Model': model_names}, index=imputed_cols)\n",
    "df.index.name = 'Feature'\n",
    "scores_pd = pd.concat([scores_pd, df], sort=True)\n",
    "final_scores_file = f'../data/Imputed/Combined/scores_missing{missing_thresh}_StackingCVRegressor_impute{impute_thresh}.csv'\n",
    "scores_pd.to_csv(final_scores_file)"
   ]
  },
  {
   "cell_type": "code",
   "execution_count": null,
   "metadata": {},
   "outputs": [],
   "source": [
    "scores_pd.head()"
   ]
  },
  {
   "cell_type": "code",
   "execution_count": null,
   "metadata": {},
   "outputs": [],
   "source": []
  }
 ],
 "metadata": {
  "kernelspec": {
   "display_name": "Python 3",
   "language": "python",
   "name": "python3"
  },
  "language_info": {
   "codemirror_mode": {
    "name": "ipython",
    "version": 3
   },
   "file_extension": ".py",
   "mimetype": "text/x-python",
   "name": "python",
   "nbconvert_exporter": "python",
   "pygments_lexer": "ipython3",
   "version": "3.6.5"
  },
  "varInspector": {
   "cols": {
    "lenName": 16,
    "lenType": 16,
    "lenVar": 40
   },
   "kernels_config": {
    "python": {
     "delete_cmd_postfix": "",
     "delete_cmd_prefix": "del ",
     "library": "var_list.py",
     "varRefreshCmd": "print(var_dic_list())"
    },
    "r": {
     "delete_cmd_postfix": ") ",
     "delete_cmd_prefix": "rm(",
     "library": "var_list.r",
     "varRefreshCmd": "cat(var_dic_list()) "
    }
   },
   "types_to_exclude": [
    "module",
    "function",
    "builtin_function_or_method",
    "instance",
    "_Feature"
   ],
   "window_display": false
  }
 },
 "nbformat": 4,
 "nbformat_minor": 2
}
