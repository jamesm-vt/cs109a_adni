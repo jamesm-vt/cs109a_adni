{
 "cells": [
  {
   "cell_type": "markdown",
   "metadata": {},
   "source": [
    "# Modeling"
   ]
  },
  {
   "cell_type": "markdown",
   "metadata": {},
   "source": [
    "## Goal\n",
    "\n",
    "The goal of this section is to present the modeling strategy we have used to address our research question. We present the different models tested and compare their accuracy on different imputed datasets.\n",
    "\n",
    "As our response variable is categorical, we will test different classification models paying special attention to the ensemble methods that tend to perform better in problems similar to ours. Since we have more than a 100 features to predict our response variable, dimensionality reduction techniques might be relevant to improve the models' accuracy."
   ]
  },
  {
   "cell_type": "markdown",
   "metadata": {},
   "source": [
    "## Modeling approach\n",
    "\n",
    "In addition to the most used ensemble methods, we have decided also to test some traditional classification algorithms to check if the more complex ensemble methods actually improved accuracy. With this principle in mind, we have selected the following classification algorithms to be tested:\n",
    "* Logistic classification\n",
    "* k Nearest Neighbors (kNN)\n",
    "* Decision Tree\n",
    "* Bagging\n",
    "* Ada Boost Classifier\n",
    "* Random Forests\n",
    "\n",
    "We have run those classifiers in 5 different datasets:\n",
    "* Mean-imputed with features with no more than 30% of missing data\n",
    "* Mean-imputed with features with no more than 50% of missing data\n",
    "* Model-imputed with features with no more than 30% of missing data\n",
    "* Model-imputed with features with no more than 50% of missing data\n",
    "* Model-imputed with features with at least one data point from the original data\n",
    "\n",
    "The accuracy of each model on the test sets of each dataset is summarized on the table below:\n",
    "\n",
    "![test](../docs/figures/modelheatmap.png)"
   ]
  },
  {
   "cell_type": "markdown",
   "metadata": {},
   "source": [
    "It is easy to check that \"non-ensemble\" methods did perform worse than the ensemble methods - as expected. Among the different ensemble methods, Bagging (using Decision Trees) showed stronger results than Boosting and Random Forests. It is also interesting to notice that the combination of Bagging and model-based imputation has proven to be the best combination to accurately predict Alzheimer's Disease on our patient base.\n",
    "\n",
    "More details about the deployment of each model can be found on the \"Model Comparison\" subsection."
   ]
  },
  {
   "cell_type": "markdown",
   "metadata": {},
   "source": [
    "## Dimensionality reduction\n",
    "\n",
    "We have performed Principal Component Analysis (PCA) to check if we could further improve our results. However, as shown on the \"Imputation\" section of this report, the correlation between features is not relevant. Therefore, PCA does not concentrate explanatory power on a few components. This finding is corroborated by the following plot:\n",
    "\n",
    "![](../docs/figures/pca.png)"
   ]
  },
  {
   "cell_type": "markdown",
   "metadata": {},
   "source": [
    "## Impact of Data Aggregation\n",
    "\n",
    "A relevant part of this work was to browse through hundreds of datasources provided by ADNI searching for additional features that could be embedded to the orignial ADNI Merge dataset. This effort has yielded significant results. As the plot below shows, running a similar Bagging model on the raw ADNI Merge dataset we have obtained a score XX p.p. lower than the one reported above.\n",
    "\n",
    "\n",
    "IMAGE PROVING THE POINT ABOVE\n",
    "\n",
    "\n",
    "We haven't scanned the whole ADNI repository - for example, we left images out of the scope of this project. Therefore, we believe that an important avenue for further improvement can be the addition of other features - like the results of image exams."
   ]
  }
 ],
 "metadata": {
  "kernelspec": {
   "display_name": "Python 3",
   "language": "python",
   "name": "python3"
  },
  "language_info": {
   "codemirror_mode": {
    "name": "ipython",
    "version": 3
   },
   "file_extension": ".py",
   "mimetype": "text/x-python",
   "name": "python",
   "nbconvert_exporter": "python",
   "pygments_lexer": "ipython3",
   "version": "3.6.6"
  },
  "varInspector": {
   "cols": {
    "lenName": 16,
    "lenType": 16,
    "lenVar": 40
   },
   "kernels_config": {
    "python": {
     "delete_cmd_postfix": "",
     "delete_cmd_prefix": "del ",
     "library": "var_list.py",
     "varRefreshCmd": "print(var_dic_list())"
    },
    "r": {
     "delete_cmd_postfix": ") ",
     "delete_cmd_prefix": "rm(",
     "library": "var_list.r",
     "varRefreshCmd": "cat(var_dic_list()) "
    }
   },
   "types_to_exclude": [
    "module",
    "function",
    "builtin_function_or_method",
    "instance",
    "_Feature"
   ],
   "window_display": false
  }
 },
 "nbformat": 4,
 "nbformat_minor": 2
}
